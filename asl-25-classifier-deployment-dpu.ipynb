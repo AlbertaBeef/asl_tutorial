{
 "cells": [
  {
   "cell_type": "markdown",
   "id": "2321d8cb",
   "metadata": {
    "id": "2321d8cb"
   },
   "source": [
    "<h1 style=\"font-size:30px;\">Deploying the ASL Classifier to Vitis-AI</h1>  \n",
    "\n",
    "This notebook describes how to quantize and compile a TensorFlow2 model with Vitis-AI for deployment.\n",
    "\n",
    "<img src='./images/VGG16_06_asl_fine_tuning.png' width=1000 align='center'><br/>"
   ]
  },
  {
   "cell_type": "markdown",
   "id": "f5f452f7",
   "metadata": {
    "id": "f5f452f7"
   },
   "source": [
    "## Table of Contents\n",
    "* [1 System Configuration](#1-System-Configuration)\n",
    "* [2 Download and Extract the Dataset](#2-Download-and-Extract-the-Dataset)\n",
    "* [3 Dataset Configuration](#3-Dataset-Configuration)\n",
    "* [4 Quantization](#4-Quantization)\n",
    "* [5 Compilation](#5-Compilation)\n",
    "* [6 Conclusion](#6-Conclusion)\n"
   ]
  },
  {
   "cell_type": "code",
   "execution_count": 1,
   "id": "0d103ad0",
   "metadata": {
    "id": "0d103ad0"
   },
   "outputs": [
    {
     "name": "stderr",
     "output_type": "stream",
     "text": [
      "2023-05-08 08:22:15.575389: I tensorflow/core/platform/cpu_feature_guard.cc:193] This TensorFlow binary is optimized with oneAPI Deep Neural Network Library (oneDNN) to use the following CPU instructions in performance-critical operations:  SSE3 SSE4.1 SSE4.2 AVX AVX2 AVX512F AVX512_VNNI FMA\n",
      "To enable them in other operations, rebuild TensorFlow with the appropriate compiler flags.\n",
      "2023-05-08 08:22:15.707838: I tensorflow/core/util/util.cc:169] oneDNN custom operations are on. You may see slightly different numerical results due to floating-point round-off errors from different computation orders. To turn them off, set the environment variable `TF_ENABLE_ONEDNN_OPTS=0`.\n"
     ]
    }
   ],
   "source": [
    "import tensorflow as tf\n",
    "from tensorflow import keras\n",
    "from tensorflow.keras import layers\n",
    "import random\n",
    "import numpy as np\n",
    "import os\n",
    "import matplotlib.pyplot as plt\n",
    "import cv2\n",
    "import zipfile\n",
    "import requests\n",
    "import glob as glob\n",
    "\n",
    "from tensorflow.keras.utils import image_dataset_from_directory\n",
    "\n",
    "from matplotlib.ticker import (MultipleLocator, FormatStrFormatter)\n",
    "from dataclasses import dataclass \n",
    "\n",
    "block_plot = False\n",
    "plt.rcParams['figure.figsize'] = (12, 9)\n",
    "SEED_VALUE = 42 "
   ]
  },
  {
   "cell_type": "code",
   "execution_count": 2,
   "id": "42883a09",
   "metadata": {},
   "outputs": [
    {
     "name": "stdout",
     "output_type": "stream",
     "text": [
      "tensorflow version :  2.10.0\n",
      "tensorflow version :  2.10.0\n",
      "opencv version :  4.6.0\n"
     ]
    }
   ],
   "source": [
    "print(\"tensorflow version : \",tf.__version__)\n",
    "print(\"tensorflow version : \",keras.__version__)\n",
    "print(\"opencv version : \",cv2.__version__)"
   ]
  },
  {
   "cell_type": "markdown",
   "id": "bc61afbd",
   "metadata": {
    "id": "bc61afbd"
   },
   "source": [
    "## 1 System Configuration"
   ]
  },
  {
   "cell_type": "code",
   "execution_count": 3,
   "id": "450b9a9a",
   "metadata": {
    "colab": {
     "base_uri": "https://localhost:8080/"
    },
    "id": "450b9a9a",
    "outputId": "4b0ff0e3-fc7d-4689-a8f4-953b7b7fa392"
   },
   "outputs": [
    {
     "name": "stdout",
     "output_type": "stream",
     "text": [
      "[]\n",
      "Using CPU\n"
     ]
    }
   ],
   "source": [
    "def system_config():\n",
    "    \n",
    "    # Get list of GPUs.\n",
    "    gpu_devices = tf.config.list_physical_devices('GPU')\n",
    "    print(gpu_devices)\n",
    "    \n",
    "    if len(gpu_devices) > 0:\n",
    "        print('Using GPU')\n",
    "        os.environ[\"CUDA_VISIBLE_DEVICES\"] = '0'\n",
    "        os.environ['TF_CUDNN_DETERMINISTIC'] = '1' \n",
    "        \n",
    "        # If there are any gpu devices, use first gpu.\n",
    "        tf.config.experimental.set_visible_devices(gpu_devices[0], 'GPU')\n",
    "        \n",
    "        # Grow the memory usage as it is needed by the process.\n",
    "        tf.config.experimental.set_memory_growth(gpu_devices[0], True)\n",
    "        \n",
    "        # Enable using cudNN.\n",
    "        os.environ['TF_USE_CUDNN'] = \"true\"\n",
    "    else:\n",
    "        print('Using CPU')\n",
    "\n",
    "system_config()"
   ]
  },
  {
   "cell_type": "markdown",
   "id": "97cfe4cd",
   "metadata": {
    "id": "97cfe4cd"
   },
   "source": [
    "## 2 Download and Extract the Dataset"
   ]
  },
  {
   "cell_type": "code",
   "execution_count": 4,
   "id": "03c6b79b",
   "metadata": {
    "id": "03c6b79b"
   },
   "outputs": [],
   "source": [
    "def download_file(url, save_name):\n",
    "    url = url\n",
    "    file = requests.get(url)\n",
    "\n",
    "    open(save_name, 'wb').write(file.content)"
   ]
  },
  {
   "cell_type": "code",
   "execution_count": 5,
   "id": "bf238d22",
   "metadata": {
    "id": "bf238d22"
   },
   "outputs": [],
   "source": [
    "def unzip(zip_file=None):\n",
    "    try:\n",
    "        with zipfile.ZipFile(zip_file) as z:\n",
    "            z.extractall(\"./\")\n",
    "            print(\"Extracted all\")\n",
    "    except:\n",
    "        print(\"Invalid file\")"
   ]
  },
  {
   "cell_type": "code",
   "execution_count": 6,
   "id": "55f0cb6a",
   "metadata": {
    "colab": {
     "base_uri": "https://localhost:8080/"
    },
    "id": "55f0cb6a",
    "outputId": "0e54ae7b-cb38-4469-9848-baa3addb5d47"
   },
   "outputs": [],
   "source": [
    "#download_file(\n",
    "#    'https://github.com/AlbertaBeef/asl_tutorial/releases/download/vitis_ai_3.0_version2/dataset_ASL_reduced.zip?dl=1', \n",
    "#    'dataset_ASL_reduced.zip'\n",
    "#)\n",
    "    \n",
    "#unzip(zip_file='dataset_ASL_reduced.zip')"
   ]
  },
  {
   "cell_type": "markdown",
   "id": "d8158104",
   "metadata": {
    "id": "d8158104"
   },
   "source": [
    "## 3 Dataset and Training Configuration"
   ]
  },
  {
   "cell_type": "code",
   "execution_count": 7,
   "id": "a9b8e05f",
   "metadata": {
    "id": "a9b8e05f"
   },
   "outputs": [],
   "source": [
    "@dataclass(frozen=True)\n",
    "class DatasetConfig:\n",
    "    NUM_CLASSES: int = 29\n",
    "    IMG_HEIGHT:  int = 224\n",
    "    IMG_WIDTH:   int = 224\n",
    "    CHANNELS:    int = 3\n",
    "    BATCH_SIZE:  int = 32\n",
    "    TRAINING_DATA_ROOT:   str = './dataset_ASL_reduced/training'\n",
    "    VALIDATION_DATA_ROOT:   str = './dataset_ASL_reduced/validation'\n",
    "        \n",
    "@dataclass(frozen=True)\n",
    "class TrainingConfig:\n",
    "    BATCH_SIZE:     int   = 32\n",
    "    EPOCHS:         int   = 51\n",
    "    LEARNING_RATE:  float = 0.0005\n",
    "    CHECKPOINT_DIR: str   = './saved_models_asl_classifier25'"
   ]
  },
  {
   "cell_type": "markdown",
   "id": "ddde6491",
   "metadata": {
    "id": "ddde6491"
   },
   "source": [
    "### 3.1 Prepare the Training and Validation Dataset"
   ]
  },
  {
   "cell_type": "code",
   "execution_count": 8,
   "id": "927f1028",
   "metadata": {
    "colab": {
     "base_uri": "https://localhost:8080/"
    },
    "id": "927f1028",
    "outputId": "85c82008-4818-45a3-819d-0622b7c8db1a",
    "scrolled": true
   },
   "outputs": [
    {
     "name": "stdout",
     "output_type": "stream",
     "text": [
      "Found 5800 files belonging to 29 classes.\n"
     ]
    },
    {
     "name": "stderr",
     "output_type": "stream",
     "text": [
      "2023-05-08 08:22:18.513367: I tensorflow/core/platform/cpu_feature_guard.cc:193] This TensorFlow binary is optimized with oneAPI Deep Neural Network Library (oneDNN) to use the following CPU instructions in performance-critical operations:  SSE3 SSE4.1 SSE4.2 AVX AVX2 AVX512F AVX512_VNNI FMA\n",
      "To enable them in other operations, rebuild TensorFlow with the appropriate compiler flags.\n"
     ]
    },
    {
     "name": "stdout",
     "output_type": "stream",
     "text": [
      "Found 1450 files belonging to 29 classes.\n"
     ]
    }
   ],
   "source": [
    "train_dataset = image_dataset_from_directory(directory=DatasetConfig.TRAINING_DATA_ROOT,\n",
    "                                             batch_size=TrainingConfig.BATCH_SIZE,\n",
    "                                             shuffle=True,\n",
    "                                             seed=SEED_VALUE,\n",
    "                                             label_mode='categorical',\n",
    "                                             image_size=(DatasetConfig.IMG_WIDTH, DatasetConfig.IMG_HEIGHT),\n",
    "                                            )\n",
    "\n",
    "valid_dataset = image_dataset_from_directory(directory=DatasetConfig.VALIDATION_DATA_ROOT,\n",
    "                                             batch_size=TrainingConfig.BATCH_SIZE,\n",
    "                                             shuffle=True,\n",
    "                                             seed=SEED_VALUE,\n",
    "                                             label_mode='categorical',\n",
    "                                             image_size=(DatasetConfig.IMG_WIDTH, DatasetConfig.IMG_HEIGHT),\n",
    "                                            )"
   ]
  },
  {
   "cell_type": "markdown",
   "id": "62a43de4",
   "metadata": {},
   "source": [
    "### 3.2 Normalizing the Datasets"
   ]
  },
  {
   "cell_type": "markdown",
   "id": "87df240d",
   "metadata": {},
   "source": [
    "reference : https://www.tensorflow.org/tutorials/load_data/images"
   ]
  },
  {
   "cell_type": "code",
   "execution_count": 9,
   "id": "8c15aaea",
   "metadata": {},
   "outputs": [],
   "source": [
    "normalization_layer = tf.keras.layers.Rescaling(1./255)"
   ]
  },
  {
   "cell_type": "code",
   "execution_count": 10,
   "id": "719985ae",
   "metadata": {},
   "outputs": [],
   "source": [
    "normalized_train_dataset = train_dataset.map(lambda x, y: (normalization_layer(x), y))"
   ]
  },
  {
   "cell_type": "code",
   "execution_count": 11,
   "id": "c8d464ac",
   "metadata": {},
   "outputs": [],
   "source": [
    "normalized_valid_dataset = valid_dataset.map(lambda x, y: (normalization_layer(x), y))"
   ]
  },
  {
   "cell_type": "markdown",
   "id": "960fa33c",
   "metadata": {
    "id": "960fa33c"
   },
   "source": [
    "## 4 Quantization"
   ]
  },
  {
   "cell_type": "markdown",
   "id": "042806bf",
   "metadata": {},
   "source": [
    "**Load model**\n",
    "\n",
    "Load model for the rest of the tutorial with the `load_model` method."
   ]
  },
  {
   "cell_type": "code",
   "execution_count": 12,
   "id": "4f10bc4a",
   "metadata": {},
   "outputs": [
    {
     "name": "stdout",
     "output_type": "stream",
     "text": [
      "Model: \"model\"\n",
      "__________________________________________________________________________________________________\n",
      " Layer (type)                   Output Shape         Param #     Connected to                     \n",
      "==================================================================================================\n",
      " input_2 (InputLayer)           [(None, 224, 224, 3  0           []                               \n",
      "                                )]                                                                \n",
      "                                                                                                  \n",
      " Conv1 (Conv2D)                 (None, 112, 112, 16  432         ['input_2[0][0]']                \n",
      "                                )                                                                 \n",
      "                                                                                                  \n",
      " bn_Conv1 (BatchNormalization)  (None, 112, 112, 16  64          ['Conv1[0][0]']                  \n",
      "                                )                                                                 \n",
      "                                                                                                  \n",
      " Conv1_relu (ReLU)              (None, 112, 112, 16  0           ['bn_Conv1[0][0]']               \n",
      "                                )                                                                 \n",
      "                                                                                                  \n",
      " expanded_conv_depthwise (Depth  (None, 112, 112, 16  144        ['Conv1_relu[0][0]']             \n",
      " wiseConv2D)                    )                                                                 \n",
      "                                                                                                  \n",
      " expanded_conv_depthwise_BN (Ba  (None, 112, 112, 16  64         ['expanded_conv_depthwise[0][0]']\n",
      " tchNormalization)              )                                                                 \n",
      "                                                                                                  \n",
      " expanded_conv_depthwise_relu (  (None, 112, 112, 16  0          ['expanded_conv_depthwise_BN[0][0\n",
      " ReLU)                          )                                ]']                              \n",
      "                                                                                                  \n",
      " expanded_conv_project (Conv2D)  (None, 112, 112, 8)  128        ['expanded_conv_depthwise_relu[0]\n",
      "                                                                 [0]']                            \n",
      "                                                                                                  \n",
      " expanded_conv_project_BN (Batc  (None, 112, 112, 8)  32         ['expanded_conv_project[0][0]']  \n",
      " hNormalization)                                                                                  \n",
      "                                                                                                  \n",
      " block_1_expand (Conv2D)        (None, 112, 112, 48  384         ['expanded_conv_project_BN[0][0]'\n",
      "                                )                                ]                                \n",
      "                                                                                                  \n",
      " block_1_expand_BN (BatchNormal  (None, 112, 112, 48  192        ['block_1_expand[0][0]']         \n",
      " ization)                       )                                                                 \n",
      "                                                                                                  \n",
      " block_1_expand_relu (ReLU)     (None, 112, 112, 48  0           ['block_1_expand_BN[0][0]']      \n",
      "                                )                                                                 \n",
      "                                                                                                  \n",
      " block_1_pad (ZeroPadding2D)    (None, 113, 113, 48  0           ['block_1_expand_relu[0][0]']    \n",
      "                                )                                                                 \n",
      "                                                                                                  \n",
      " block_1_depthwise (DepthwiseCo  (None, 56, 56, 48)  432         ['block_1_pad[0][0]']            \n",
      " nv2D)                                                                                            \n",
      "                                                                                                  \n",
      " block_1_depthwise_BN (BatchNor  (None, 56, 56, 48)  192         ['block_1_depthwise[0][0]']      \n",
      " malization)                                                                                      \n",
      "                                                                                                  \n",
      " block_1_depthwise_relu (ReLU)  (None, 56, 56, 48)   0           ['block_1_depthwise_BN[0][0]']   \n",
      "                                                                                                  \n",
      " block_1_project (Conv2D)       (None, 56, 56, 16)   768         ['block_1_depthwise_relu[0][0]'] \n",
      "                                                                                                  \n",
      " block_1_project_BN (BatchNorma  (None, 56, 56, 16)  64          ['block_1_project[0][0]']        \n",
      " lization)                                                                                        \n",
      "                                                                                                  \n",
      " block_2_expand (Conv2D)        (None, 56, 56, 96)   1536        ['block_1_project_BN[0][0]']     \n",
      "                                                                                                  \n",
      " block_2_expand_BN (BatchNormal  (None, 56, 56, 96)  384         ['block_2_expand[0][0]']         \n",
      " ization)                                                                                         \n",
      "                                                                                                  \n",
      " block_2_expand_relu (ReLU)     (None, 56, 56, 96)   0           ['block_2_expand_BN[0][0]']      \n",
      "                                                                                                  \n",
      " block_2_depthwise (DepthwiseCo  (None, 56, 56, 96)  864         ['block_2_expand_relu[0][0]']    \n",
      " nv2D)                                                                                            \n",
      "                                                                                                  \n",
      " block_2_depthwise_BN (BatchNor  (None, 56, 56, 96)  384         ['block_2_depthwise[0][0]']      \n",
      " malization)                                                                                      \n",
      "                                                                                                  \n",
      " block_2_depthwise_relu (ReLU)  (None, 56, 56, 96)   0           ['block_2_depthwise_BN[0][0]']   \n",
      "                                                                                                  \n",
      " block_2_project (Conv2D)       (None, 56, 56, 16)   1536        ['block_2_depthwise_relu[0][0]'] \n",
      "                                                                                                  \n",
      " block_2_project_BN (BatchNorma  (None, 56, 56, 16)  64          ['block_2_project[0][0]']        \n",
      " lization)                                                                                        \n",
      "                                                                                                  \n",
      " block_2_add (Add)              (None, 56, 56, 16)   0           ['block_1_project_BN[0][0]',     \n",
      "                                                                  'block_2_project_BN[0][0]']     \n",
      "                                                                                                  \n",
      " block_3_expand (Conv2D)        (None, 56, 56, 96)   1536        ['block_2_add[0][0]']            \n",
      "                                                                                                  \n",
      " block_3_expand_BN (BatchNormal  (None, 56, 56, 96)  384         ['block_3_expand[0][0]']         \n",
      " ization)                                                                                         \n",
      "                                                                                                  \n"
     ]
    },
    {
     "name": "stdout",
     "output_type": "stream",
     "text": [
      " block_3_expand_relu (ReLU)     (None, 56, 56, 96)   0           ['block_3_expand_BN[0][0]']      \n",
      "                                                                                                  \n",
      " block_3_pad (ZeroPadding2D)    (None, 57, 57, 96)   0           ['block_3_expand_relu[0][0]']    \n",
      "                                                                                                  \n",
      " block_3_depthwise (DepthwiseCo  (None, 28, 28, 96)  864         ['block_3_pad[0][0]']            \n",
      " nv2D)                                                                                            \n",
      "                                                                                                  \n",
      " block_3_depthwise_BN (BatchNor  (None, 28, 28, 96)  384         ['block_3_depthwise[0][0]']      \n",
      " malization)                                                                                      \n",
      "                                                                                                  \n",
      " block_3_depthwise_relu (ReLU)  (None, 28, 28, 96)   0           ['block_3_depthwise_BN[0][0]']   \n",
      "                                                                                                  \n",
      " block_3_project (Conv2D)       (None, 28, 28, 16)   1536        ['block_3_depthwise_relu[0][0]'] \n",
      "                                                                                                  \n",
      " block_3_project_BN (BatchNorma  (None, 28, 28, 16)  64          ['block_3_project[0][0]']        \n",
      " lization)                                                                                        \n",
      "                                                                                                  \n",
      " block_4_expand (Conv2D)        (None, 28, 28, 96)   1536        ['block_3_project_BN[0][0]']     \n",
      "                                                                                                  \n",
      " block_4_expand_BN (BatchNormal  (None, 28, 28, 96)  384         ['block_4_expand[0][0]']         \n",
      " ization)                                                                                         \n",
      "                                                                                                  \n",
      " block_4_expand_relu (ReLU)     (None, 28, 28, 96)   0           ['block_4_expand_BN[0][0]']      \n",
      "                                                                                                  \n",
      " block_4_depthwise (DepthwiseCo  (None, 28, 28, 96)  864         ['block_4_expand_relu[0][0]']    \n",
      " nv2D)                                                                                            \n",
      "                                                                                                  \n",
      " block_4_depthwise_BN (BatchNor  (None, 28, 28, 96)  384         ['block_4_depthwise[0][0]']      \n",
      " malization)                                                                                      \n",
      "                                                                                                  \n",
      " block_4_depthwise_relu (ReLU)  (None, 28, 28, 96)   0           ['block_4_depthwise_BN[0][0]']   \n",
      "                                                                                                  \n",
      " block_4_project (Conv2D)       (None, 28, 28, 16)   1536        ['block_4_depthwise_relu[0][0]'] \n",
      "                                                                                                  \n",
      " block_4_project_BN (BatchNorma  (None, 28, 28, 16)  64          ['block_4_project[0][0]']        \n",
      " lization)                                                                                        \n",
      "                                                                                                  \n",
      " block_4_add (Add)              (None, 28, 28, 16)   0           ['block_3_project_BN[0][0]',     \n",
      "                                                                  'block_4_project_BN[0][0]']     \n",
      "                                                                                                  \n",
      " block_5_expand (Conv2D)        (None, 28, 28, 96)   1536        ['block_4_add[0][0]']            \n",
      "                                                                                                  \n",
      " block_5_expand_BN (BatchNormal  (None, 28, 28, 96)  384         ['block_5_expand[0][0]']         \n",
      " ization)                                                                                         \n",
      "                                                                                                  \n",
      " block_5_expand_relu (ReLU)     (None, 28, 28, 96)   0           ['block_5_expand_BN[0][0]']      \n",
      "                                                                                                  \n",
      " block_5_depthwise (DepthwiseCo  (None, 28, 28, 96)  864         ['block_5_expand_relu[0][0]']    \n",
      " nv2D)                                                                                            \n",
      "                                                                                                  \n",
      " block_5_depthwise_BN (BatchNor  (None, 28, 28, 96)  384         ['block_5_depthwise[0][0]']      \n",
      " malization)                                                                                      \n",
      "                                                                                                  \n",
      " block_5_depthwise_relu (ReLU)  (None, 28, 28, 96)   0           ['block_5_depthwise_BN[0][0]']   \n",
      "                                                                                                  \n",
      " block_5_project (Conv2D)       (None, 28, 28, 16)   1536        ['block_5_depthwise_relu[0][0]'] \n",
      "                                                                                                  \n",
      " block_5_project_BN (BatchNorma  (None, 28, 28, 16)  64          ['block_5_project[0][0]']        \n",
      " lization)                                                                                        \n",
      "                                                                                                  \n",
      " block_5_add (Add)              (None, 28, 28, 16)   0           ['block_4_add[0][0]',            \n",
      "                                                                  'block_5_project_BN[0][0]']     \n",
      "                                                                                                  \n",
      " block_6_expand (Conv2D)        (None, 28, 28, 96)   1536        ['block_5_add[0][0]']            \n",
      "                                                                                                  \n",
      " block_6_expand_BN (BatchNormal  (None, 28, 28, 96)  384         ['block_6_expand[0][0]']         \n",
      " ization)                                                                                         \n",
      "                                                                                                  \n",
      " block_6_expand_relu (ReLU)     (None, 28, 28, 96)   0           ['block_6_expand_BN[0][0]']      \n",
      "                                                                                                  \n",
      " block_6_pad (ZeroPadding2D)    (None, 29, 29, 96)   0           ['block_6_expand_relu[0][0]']    \n",
      "                                                                                                  \n",
      " block_6_depthwise (DepthwiseCo  (None, 14, 14, 96)  864         ['block_6_pad[0][0]']            \n",
      " nv2D)                                                                                            \n",
      "                                                                                                  \n",
      " block_6_depthwise_BN (BatchNor  (None, 14, 14, 96)  384         ['block_6_depthwise[0][0]']      \n",
      " malization)                                                                                      \n",
      "                                                                                                  \n",
      " block_6_depthwise_relu (ReLU)  (None, 14, 14, 96)   0           ['block_6_depthwise_BN[0][0]']   \n",
      "                                                                                                  \n",
      " block_6_project (Conv2D)       (None, 14, 14, 32)   3072        ['block_6_depthwise_relu[0][0]'] \n",
      "                                                                                                  \n",
      " block_6_project_BN (BatchNorma  (None, 14, 14, 32)  128         ['block_6_project[0][0]']        \n"
     ]
    },
    {
     "name": "stdout",
     "output_type": "stream",
     "text": [
      " lization)                                                                                        \n",
      "                                                                                                  \n",
      " block_7_expand (Conv2D)        (None, 14, 14, 192)  6144        ['block_6_project_BN[0][0]']     \n",
      "                                                                                                  \n",
      " block_7_expand_BN (BatchNormal  (None, 14, 14, 192)  768        ['block_7_expand[0][0]']         \n",
      " ization)                                                                                         \n",
      "                                                                                                  \n",
      " block_7_expand_relu (ReLU)     (None, 14, 14, 192)  0           ['block_7_expand_BN[0][0]']      \n",
      "                                                                                                  \n",
      " block_7_depthwise (DepthwiseCo  (None, 14, 14, 192)  1728       ['block_7_expand_relu[0][0]']    \n",
      " nv2D)                                                                                            \n",
      "                                                                                                  \n",
      " block_7_depthwise_BN (BatchNor  (None, 14, 14, 192)  768        ['block_7_depthwise[0][0]']      \n",
      " malization)                                                                                      \n",
      "                                                                                                  \n",
      " block_7_depthwise_relu (ReLU)  (None, 14, 14, 192)  0           ['block_7_depthwise_BN[0][0]']   \n",
      "                                                                                                  \n",
      " block_7_project (Conv2D)       (None, 14, 14, 32)   6144        ['block_7_depthwise_relu[0][0]'] \n",
      "                                                                                                  \n",
      " block_7_project_BN (BatchNorma  (None, 14, 14, 32)  128         ['block_7_project[0][0]']        \n",
      " lization)                                                                                        \n",
      "                                                                                                  \n",
      " block_7_add (Add)              (None, 14, 14, 32)   0           ['block_6_project_BN[0][0]',     \n",
      "                                                                  'block_7_project_BN[0][0]']     \n",
      "                                                                                                  \n",
      " block_8_expand (Conv2D)        (None, 14, 14, 192)  6144        ['block_7_add[0][0]']            \n",
      "                                                                                                  \n",
      " block_8_expand_BN (BatchNormal  (None, 14, 14, 192)  768        ['block_8_expand[0][0]']         \n",
      " ization)                                                                                         \n",
      "                                                                                                  \n",
      " block_8_expand_relu (ReLU)     (None, 14, 14, 192)  0           ['block_8_expand_BN[0][0]']      \n",
      "                                                                                                  \n",
      " block_8_depthwise (DepthwiseCo  (None, 14, 14, 192)  1728       ['block_8_expand_relu[0][0]']    \n",
      " nv2D)                                                                                            \n",
      "                                                                                                  \n",
      " block_8_depthwise_BN (BatchNor  (None, 14, 14, 192)  768        ['block_8_depthwise[0][0]']      \n",
      " malization)                                                                                      \n",
      "                                                                                                  \n",
      " block_8_depthwise_relu (ReLU)  (None, 14, 14, 192)  0           ['block_8_depthwise_BN[0][0]']   \n",
      "                                                                                                  \n",
      " block_8_project (Conv2D)       (None, 14, 14, 32)   6144        ['block_8_depthwise_relu[0][0]'] \n",
      "                                                                                                  \n",
      " block_8_project_BN (BatchNorma  (None, 14, 14, 32)  128         ['block_8_project[0][0]']        \n",
      " lization)                                                                                        \n",
      "                                                                                                  \n",
      " block_8_add (Add)              (None, 14, 14, 32)   0           ['block_7_add[0][0]',            \n",
      "                                                                  'block_8_project_BN[0][0]']     \n",
      "                                                                                                  \n",
      " block_9_expand (Conv2D)        (None, 14, 14, 192)  6144        ['block_8_add[0][0]']            \n",
      "                                                                                                  \n",
      " block_9_expand_BN (BatchNormal  (None, 14, 14, 192)  768        ['block_9_expand[0][0]']         \n",
      " ization)                                                                                         \n",
      "                                                                                                  \n",
      " block_9_expand_relu (ReLU)     (None, 14, 14, 192)  0           ['block_9_expand_BN[0][0]']      \n",
      "                                                                                                  \n",
      " block_9_depthwise (DepthwiseCo  (None, 14, 14, 192)  1728       ['block_9_expand_relu[0][0]']    \n",
      " nv2D)                                                                                            \n",
      "                                                                                                  \n",
      " block_9_depthwise_BN (BatchNor  (None, 14, 14, 192)  768        ['block_9_depthwise[0][0]']      \n",
      " malization)                                                                                      \n",
      "                                                                                                  \n",
      " block_9_depthwise_relu (ReLU)  (None, 14, 14, 192)  0           ['block_9_depthwise_BN[0][0]']   \n",
      "                                                                                                  \n",
      " block_9_project (Conv2D)       (None, 14, 14, 32)   6144        ['block_9_depthwise_relu[0][0]'] \n",
      "                                                                                                  \n",
      " block_9_project_BN (BatchNorma  (None, 14, 14, 32)  128         ['block_9_project[0][0]']        \n",
      " lization)                                                                                        \n",
      "                                                                                                  \n",
      " block_9_add (Add)              (None, 14, 14, 32)   0           ['block_8_add[0][0]',            \n",
      "                                                                  'block_9_project_BN[0][0]']     \n",
      "                                                                                                  \n",
      " block_10_expand (Conv2D)       (None, 14, 14, 192)  6144        ['block_9_add[0][0]']            \n",
      "                                                                                                  \n",
      " block_10_expand_BN (BatchNorma  (None, 14, 14, 192)  768        ['block_10_expand[0][0]']        \n",
      " lization)                                                                                        \n",
      "                                                                                                  \n",
      " block_10_expand_relu (ReLU)    (None, 14, 14, 192)  0           ['block_10_expand_BN[0][0]']     \n",
      "                                                                                                  \n",
      " block_10_depthwise (DepthwiseC  (None, 14, 14, 192)  1728       ['block_10_expand_relu[0][0]']   \n",
      " onv2D)                                                                                           \n",
      "                                                                                                  \n",
      " block_10_depthwise_BN (BatchNo  (None, 14, 14, 192)  768        ['block_10_depthwise[0][0]']     \n",
      " rmalization)                                                                                     \n"
     ]
    },
    {
     "name": "stdout",
     "output_type": "stream",
     "text": [
      "                                                                                                  \n",
      " block_10_depthwise_relu (ReLU)  (None, 14, 14, 192)  0          ['block_10_depthwise_BN[0][0]']  \n",
      "                                                                                                  \n",
      " block_10_project (Conv2D)      (None, 14, 14, 48)   9216        ['block_10_depthwise_relu[0][0]']\n",
      "                                                                                                  \n",
      " block_10_project_BN (BatchNorm  (None, 14, 14, 48)  192         ['block_10_project[0][0]']       \n",
      " alization)                                                                                       \n",
      "                                                                                                  \n",
      " block_11_expand (Conv2D)       (None, 14, 14, 288)  13824       ['block_10_project_BN[0][0]']    \n",
      "                                                                                                  \n",
      " block_11_expand_BN (BatchNorma  (None, 14, 14, 288)  1152       ['block_11_expand[0][0]']        \n",
      " lization)                                                                                        \n",
      "                                                                                                  \n",
      " block_11_expand_relu (ReLU)    (None, 14, 14, 288)  0           ['block_11_expand_BN[0][0]']     \n",
      "                                                                                                  \n",
      " block_11_depthwise (DepthwiseC  (None, 14, 14, 288)  2592       ['block_11_expand_relu[0][0]']   \n",
      " onv2D)                                                                                           \n",
      "                                                                                                  \n",
      " block_11_depthwise_BN (BatchNo  (None, 14, 14, 288)  1152       ['block_11_depthwise[0][0]']     \n",
      " rmalization)                                                                                     \n",
      "                                                                                                  \n",
      " block_11_depthwise_relu (ReLU)  (None, 14, 14, 288)  0          ['block_11_depthwise_BN[0][0]']  \n",
      "                                                                                                  \n",
      " block_11_project (Conv2D)      (None, 14, 14, 48)   13824       ['block_11_depthwise_relu[0][0]']\n",
      "                                                                                                  \n",
      " block_11_project_BN (BatchNorm  (None, 14, 14, 48)  192         ['block_11_project[0][0]']       \n",
      " alization)                                                                                       \n",
      "                                                                                                  \n",
      " block_11_add (Add)             (None, 14, 14, 48)   0           ['block_10_project_BN[0][0]',    \n",
      "                                                                  'block_11_project_BN[0][0]']    \n",
      "                                                                                                  \n",
      " block_12_expand (Conv2D)       (None, 14, 14, 288)  13824       ['block_11_add[0][0]']           \n",
      "                                                                                                  \n",
      " block_12_expand_BN (BatchNorma  (None, 14, 14, 288)  1152       ['block_12_expand[0][0]']        \n",
      " lization)                                                                                        \n",
      "                                                                                                  \n",
      " block_12_expand_relu (ReLU)    (None, 14, 14, 288)  0           ['block_12_expand_BN[0][0]']     \n",
      "                                                                                                  \n",
      " block_12_depthwise (DepthwiseC  (None, 14, 14, 288)  2592       ['block_12_expand_relu[0][0]']   \n",
      " onv2D)                                                                                           \n",
      "                                                                                                  \n",
      " block_12_depthwise_BN (BatchNo  (None, 14, 14, 288)  1152       ['block_12_depthwise[0][0]']     \n",
      " rmalization)                                                                                     \n",
      "                                                                                                  \n",
      " block_12_depthwise_relu (ReLU)  (None, 14, 14, 288)  0          ['block_12_depthwise_BN[0][0]']  \n",
      "                                                                                                  \n",
      " block_12_project (Conv2D)      (None, 14, 14, 48)   13824       ['block_12_depthwise_relu[0][0]']\n",
      "                                                                                                  \n",
      " block_12_project_BN (BatchNorm  (None, 14, 14, 48)  192         ['block_12_project[0][0]']       \n",
      " alization)                                                                                       \n",
      "                                                                                                  \n",
      " block_12_add (Add)             (None, 14, 14, 48)   0           ['block_11_add[0][0]',           \n",
      "                                                                  'block_12_project_BN[0][0]']    \n",
      "                                                                                                  \n",
      " block_13_expand (Conv2D)       (None, 14, 14, 288)  13824       ['block_12_add[0][0]']           \n",
      "                                                                                                  \n",
      " block_13_expand_BN (BatchNorma  (None, 14, 14, 288)  1152       ['block_13_expand[0][0]']        \n",
      " lization)                                                                                        \n",
      "                                                                                                  \n",
      " block_13_expand_relu (ReLU)    (None, 14, 14, 288)  0           ['block_13_expand_BN[0][0]']     \n",
      "                                                                                                  \n",
      " block_13_pad (ZeroPadding2D)   (None, 15, 15, 288)  0           ['block_13_expand_relu[0][0]']   \n",
      "                                                                                                  \n",
      " block_13_depthwise (DepthwiseC  (None, 7, 7, 288)   2592        ['block_13_pad[0][0]']           \n",
      " onv2D)                                                                                           \n",
      "                                                                                                  \n",
      " block_13_depthwise_BN (BatchNo  (None, 7, 7, 288)   1152        ['block_13_depthwise[0][0]']     \n",
      " rmalization)                                                                                     \n",
      "                                                                                                  \n",
      " block_13_depthwise_relu (ReLU)  (None, 7, 7, 288)   0           ['block_13_depthwise_BN[0][0]']  \n",
      "                                                                                                  \n",
      " block_13_project (Conv2D)      (None, 7, 7, 80)     23040       ['block_13_depthwise_relu[0][0]']\n",
      "                                                                                                  \n",
      " block_13_project_BN (BatchNorm  (None, 7, 7, 80)    320         ['block_13_project[0][0]']       \n",
      " alization)                                                                                       \n",
      "                                                                                                  \n",
      " block_14_expand (Conv2D)       (None, 7, 7, 480)    38400       ['block_13_project_BN[0][0]']    \n",
      "                                                                                                  \n",
      " block_14_expand_BN (BatchNorma  (None, 7, 7, 480)   1920        ['block_14_expand[0][0]']        \n",
      " lization)                                                                                        \n",
      "                                                                                                  \n",
      " block_14_expand_relu (ReLU)    (None, 7, 7, 480)    0           ['block_14_expand_BN[0][0]']     \n",
      "                                                                                                  \n"
     ]
    },
    {
     "name": "stdout",
     "output_type": "stream",
     "text": [
      " block_14_depthwise (DepthwiseC  (None, 7, 7, 480)   4320        ['block_14_expand_relu[0][0]']   \n",
      " onv2D)                                                                                           \n",
      "                                                                                                  \n",
      " block_14_depthwise_BN (BatchNo  (None, 7, 7, 480)   1920        ['block_14_depthwise[0][0]']     \n",
      " rmalization)                                                                                     \n",
      "                                                                                                  \n",
      " block_14_depthwise_relu (ReLU)  (None, 7, 7, 480)   0           ['block_14_depthwise_BN[0][0]']  \n",
      "                                                                                                  \n",
      " block_14_project (Conv2D)      (None, 7, 7, 80)     38400       ['block_14_depthwise_relu[0][0]']\n",
      "                                                                                                  \n",
      " block_14_project_BN (BatchNorm  (None, 7, 7, 80)    320         ['block_14_project[0][0]']       \n",
      " alization)                                                                                       \n",
      "                                                                                                  \n",
      " block_14_add (Add)             (None, 7, 7, 80)     0           ['block_13_project_BN[0][0]',    \n",
      "                                                                  'block_14_project_BN[0][0]']    \n",
      "                                                                                                  \n",
      " block_15_expand (Conv2D)       (None, 7, 7, 480)    38400       ['block_14_add[0][0]']           \n",
      "                                                                                                  \n",
      " block_15_expand_BN (BatchNorma  (None, 7, 7, 480)   1920        ['block_15_expand[0][0]']        \n",
      " lization)                                                                                        \n",
      "                                                                                                  \n",
      " block_15_expand_relu (ReLU)    (None, 7, 7, 480)    0           ['block_15_expand_BN[0][0]']     \n",
      "                                                                                                  \n",
      " block_15_depthwise (DepthwiseC  (None, 7, 7, 480)   4320        ['block_15_expand_relu[0][0]']   \n",
      " onv2D)                                                                                           \n",
      "                                                                                                  \n",
      " block_15_depthwise_BN (BatchNo  (None, 7, 7, 480)   1920        ['block_15_depthwise[0][0]']     \n",
      " rmalization)                                                                                     \n",
      "                                                                                                  \n",
      " block_15_depthwise_relu (ReLU)  (None, 7, 7, 480)   0           ['block_15_depthwise_BN[0][0]']  \n",
      "                                                                                                  \n",
      " block_15_project (Conv2D)      (None, 7, 7, 80)     38400       ['block_15_depthwise_relu[0][0]']\n",
      "                                                                                                  \n",
      " block_15_project_BN (BatchNorm  (None, 7, 7, 80)    320         ['block_15_project[0][0]']       \n",
      " alization)                                                                                       \n",
      "                                                                                                  \n",
      " block_15_add (Add)             (None, 7, 7, 80)     0           ['block_14_add[0][0]',           \n",
      "                                                                  'block_15_project_BN[0][0]']    \n",
      "                                                                                                  \n",
      " block_16_expand (Conv2D)       (None, 7, 7, 480)    38400       ['block_15_add[0][0]']           \n",
      "                                                                                                  \n",
      " block_16_expand_BN (BatchNorma  (None, 7, 7, 480)   1920        ['block_16_expand[0][0]']        \n",
      " lization)                                                                                        \n",
      "                                                                                                  \n",
      " block_16_expand_relu (ReLU)    (None, 7, 7, 480)    0           ['block_16_expand_BN[0][0]']     \n",
      "                                                                                                  \n",
      " block_16_depthwise (DepthwiseC  (None, 7, 7, 480)   4320        ['block_16_expand_relu[0][0]']   \n",
      " onv2D)                                                                                           \n",
      "                                                                                                  \n",
      " block_16_depthwise_BN (BatchNo  (None, 7, 7, 480)   1920        ['block_16_depthwise[0][0]']     \n",
      " rmalization)                                                                                     \n",
      "                                                                                                  \n",
      " block_16_depthwise_relu (ReLU)  (None, 7, 7, 480)   0           ['block_16_depthwise_BN[0][0]']  \n",
      "                                                                                                  \n",
      " block_16_project (Conv2D)      (None, 7, 7, 160)    76800       ['block_16_depthwise_relu[0][0]']\n",
      "                                                                                                  \n",
      " block_16_project_BN (BatchNorm  (None, 7, 7, 160)   640         ['block_16_project[0][0]']       \n",
      " alization)                                                                                       \n",
      "                                                                                                  \n",
      " last_conv (Conv2D)             (None, 7, 7, 1000)   160000      ['block_16_project_BN[0][0]']    \n",
      "                                                                                                  \n",
      " last_bn (BatchNormalization)   (None, 7, 7, 1000)   4000        ['last_conv[0][0]']              \n",
      "                                                                                                  \n",
      " last_relu (ReLU)               (None, 7, 7, 1000)   0           ['last_bn[0][0]']                \n",
      "                                                                                                  \n",
      " global_average_pool (GlobalAve  (None, 1000)        0           ['last_relu[0][0]']              \n",
      " ragePooling2D)                                                                                   \n",
      "                                                                                                  \n",
      " dense (Dense)                  (None, 29)           29029       ['global_average_pool[0][0]']    \n",
      "                                                                                                  \n",
      "==================================================================================================\n",
      "Total params: 689,333\n",
      "Trainable params: 671,349\n",
      "Non-trainable params: 17,984\n",
      "__________________________________________________________________________________________________\n",
      "None\n"
     ]
    }
   ],
   "source": [
    "model = keras.models.load_model('tf2_asl_classifier23.h5')\n",
    "print(model.summary())"
   ]
  },
  {
   "cell_type": "code",
   "execution_count": 13,
   "id": "fa4a0a39",
   "metadata": {},
   "outputs": [
    {
     "name": "stdout",
     "output_type": "stream",
     "text": [
      "46/46 [==============================] - 11s 218ms/step - loss: 6.1518 - accuracy: 0.2379\n",
      "Model evaluation accuracy (validation dataset): 23.793\n"
     ]
    }
   ],
   "source": [
    "print(f\"Model evaluation accuracy (validation dataset): {model.evaluate(valid_dataset)[1]*100.:.3f}\")"
   ]
  },
  {
   "cell_type": "code",
   "execution_count": 14,
   "id": "dc1ba273",
   "metadata": {},
   "outputs": [
    {
     "name": "stdout",
     "output_type": "stream",
     "text": [
      "46/46 [==============================] - 10s 205ms/step - loss: 0.2320 - accuracy: 0.9441\n",
      "Model evaluation accuracy (validation dataset): 94.414\n"
     ]
    }
   ],
   "source": [
    "print(f\"Model evaluation accuracy (validation dataset): {model.evaluate(normalized_valid_dataset)[1]*100.:.3f}\")"
   ]
  },
  {
   "cell_type": "markdown",
   "id": "17052db7",
   "metadata": {},
   "source": [
    "In order to compile the trained model for deployment on a DPU platform, we must first quantize it. Here we will use the `vitis_quantize` module to convert the floating point model into an INT8 quantized representation. "
   ]
  },
  {
   "cell_type": "code",
   "execution_count": 15,
   "id": "aab4b07d",
   "metadata": {},
   "outputs": [],
   "source": [
    "from tensorflow_model_optimization.quantization.keras import vitis_quantize"
   ]
  },
  {
   "cell_type": "markdown",
   "id": "06f0c299",
   "metadata": {},
   "source": [
    "**Quantize model**\n",
    "\n",
    "By default the `quantize_model` function converts the weights, activations and inputs into 8-bit wide numbers. We can specify different values and configurations using `weight_bit`, `activation_bit` and other parameters. "
   ]
  },
  {
   "cell_type": "code",
   "execution_count": 16,
   "id": "e3ec24d2",
   "metadata": {},
   "outputs": [],
   "source": [
    "quantizer = vitis_quantize.VitisQuantizer(model)"
   ]
  },
  {
   "cell_type": "code",
   "execution_count": 17,
   "id": "0a4cdd01",
   "metadata": {},
   "outputs": [
    {
     "name": "stdout",
     "output_type": "stream",
     "text": [
      "[VAI INFO] Update activation_bit: 8\n",
      "[VAI INFO] Update weight_bit: 8\n",
      "[VAI INFO] Quantizing without specific `target`.\n",
      "[VAI INFO] Start CrossLayerEqualization...\n",
      "10/10 [==============================] - 10s 1s/step\n",
      "[VAI INFO] CrossLayerEqualization Done.\n",
      "[VAI INFO] Start Quantize Calibration...\n",
      "46/46 [==============================] - 77s 995ms/step\n",
      "[VAI INFO] Quantize Calibration Done.\n",
      "[VAI INFO] Start Post-Quant Model Refinement...\n",
      "[VAI INFO] Start Quantize Position Ajustment...\n",
      "[VAI INFO] Quantize Position Ajustment Done.\n",
      "[VAI INFO] Post-Quant Model Refninement Done.\n",
      "[VAI INFO] Start Model Finalization...\n",
      "[VAI INFO] Model Finalization Done.\n",
      "[VAI INFO] Quantization Finished.\n"
     ]
    }
   ],
   "source": [
    "#quantized_model = quantizer.quantize_model(calib_dataset=valid_dataset, weight_bit=8, activation_bit=8)\n",
    "quantized_model = quantizer.quantize_model(calib_dataset=normalized_valid_dataset, weight_bit=8, activation_bit=8)"
   ]
  },
  {
   "cell_type": "markdown",
   "id": "e0236c8a",
   "metadata": {},
   "source": [
    "**Evaluate quantized model**\n",
    "\n",
    "In order to evaluate the quantized model, it needs to be re-compiled with the desired loss and evaluation metrics, such as accuracy. Since we are using 8-bit quantization we do not lose much performance, if at all."
   ]
  },
  {
   "cell_type": "code",
   "execution_count": 18,
   "id": "26efd672",
   "metadata": {},
   "outputs": [],
   "source": [
    "quantized_model.compile(loss='categorical_crossentropy', metrics=[\"accuracy\"])"
   ]
  },
  {
   "cell_type": "code",
   "execution_count": 19,
   "id": "05fb1fb2",
   "metadata": {},
   "outputs": [
    {
     "name": "stdout",
     "output_type": "stream",
     "text": [
      "46/46 [==============================] - 16s 177ms/step - loss: 11.6042 - accuracy: 0.0345\n",
      "Model evaluation accuracy (validation dataset): 3.448\n"
     ]
    }
   ],
   "source": [
    "print(f\"Model evaluation accuracy (validation dataset): {quantized_model.evaluate(valid_dataset)[1]*100.:.3f}\")"
   ]
  },
  {
   "cell_type": "code",
   "execution_count": 20,
   "id": "719fd2a9",
   "metadata": {},
   "outputs": [
    {
     "name": "stdout",
     "output_type": "stream",
     "text": [
      "46/46 [==============================] - 8s 177ms/step - loss: 1.7928 - accuracy: 0.5566\n",
      "Model evaluation accuracy (validation dataset): 55.655\n"
     ]
    }
   ],
   "source": [
    "print(f\"Model evaluation accuracy (validation dataset): {quantized_model.evaluate(normalized_valid_dataset)[1]*100.:.3f}\")"
   ]
  },
  {
   "cell_type": "markdown",
   "id": "0fce297e",
   "metadata": {},
   "source": [
    "**Quantize Aware Training (QAT)**\n",
    "\n",
    "In order to improve the accuracy of the quantized model, we need to apply fine-tuning with quantize-aware training (QAT)."
   ]
  },
  {
   "cell_type": "code",
   "execution_count": 21,
   "id": "37a8a339",
   "metadata": {},
   "outputs": [
    {
     "name": "stdout",
     "output_type": "stream",
     "text": [
      "[VAI INFO] Quantizing without specific `target`.\n",
      "[VAI INFO] Start CrossLayerEqualization...\n",
      "10/10 [==============================] - 10s 1s/step\n",
      "[VAI INFO] CrossLayerEqualization Done.\n",
      "[VAI INFO] Start Generation of Quantize-aware Training Model.\n",
      "[VAI INFO] Generation of Quantize-aware Training Model Done.\n"
     ]
    }
   ],
   "source": [
    "qat_model = quantizer.get_qat_model()"
   ]
  },
  {
   "cell_type": "code",
   "execution_count": 22,
   "id": "57629d00",
   "metadata": {},
   "outputs": [],
   "source": [
    "qat_model.compile(optimizer=tf.keras.optimizers.Adam(learning_rate=TrainingConfig.LEARNING_RATE),\n",
    "                  loss=tf.keras.losses.CategoricalCrossentropy(from_logits=False),\n",
    "                  metrics=['accuracy'],\n",
    "                 )"
   ]
  },
  {
   "cell_type": "code",
   "execution_count": 23,
   "id": "31ee5568",
   "metadata": {},
   "outputs": [
    {
     "name": "stdout",
     "output_type": "stream",
     "text": [
      "Model: \"model\"\n",
      "__________________________________________________________________________________________________\n",
      " Layer (type)                   Output Shape         Param #     Connected to                     \n",
      "==================================================================================================\n",
      " input_2 (InputLayer)           [(None, 224, 224, 3  0           []                               \n",
      "                                )]                                                                \n",
      "                                                                                                  \n",
      " quant_input_2 (VitisQuantize)  (None, 224, 224, 3)  4           ['input_2[0][0]']                \n",
      "                                                                                                  \n",
      " quant_Conv1 (QuantizeWrapper)  (None, 112, 112, 16  455         ['quant_input_2[0][0]']          \n",
      "                                )                                                                 \n",
      "                                                                                                  \n",
      " quant_Conv1_relu (QuantizeWrap  (None, 112, 112, 16  4          ['quant_Conv1[0][0]']            \n",
      " per)                           )                                                                 \n",
      "                                                                                                  \n",
      " quant_expanded_conv_depthwise   (None, 112, 112, 16  167        ['quant_Conv1_relu[0][0]']       \n",
      " (QuantizeWrapper)              )                                                                 \n",
      "                                                                                                  \n",
      " quant_expanded_conv_depthwise_  (None, 112, 112, 16  4          ['quant_expanded_conv_depthwise[0\n",
      " relu (QuantizeWrapper)         )                                ][0]']                           \n",
      "                                                                                                  \n",
      " quant_expanded_conv_project (Q  (None, 112, 112, 8)  146        ['quant_expanded_conv_depthwise_r\n",
      " uantizeWrapper)                                                 elu[0][0]']                      \n",
      "                                                                                                  \n",
      " quant_block_1_expand (Quantize  (None, 112, 112, 48  439        ['quant_expanded_conv_project[0][\n",
      " Wrapper)                       )                                0]']                             \n",
      "                                                                                                  \n",
      " quant_block_1_expand_relu (Qua  (None, 112, 112, 48  4          ['quant_block_1_expand[0][0]']   \n",
      " ntizeWrapper)                  )                                                                 \n",
      "                                                                                                  \n",
      " quant_block_1_pad (QuantizeWra  (None, 113, 113, 48  1          ['quant_block_1_expand_relu[0][0]\n",
      " pper)                          )                                ']                               \n",
      "                                                                                                  \n",
      " quant_block_1_depthwise (Quant  (None, 56, 56, 48)  487         ['quant_block_1_pad[0][0]']      \n",
      " izeWrapper)                                                                                      \n",
      "                                                                                                  \n",
      " quant_block_1_depthwise_relu (  (None, 56, 56, 48)  4           ['quant_block_1_depthwise[0][0]']\n",
      " QuantizeWrapper)                                                                                 \n",
      "                                                                                                  \n",
      " quant_block_1_project (Quantiz  (None, 56, 56, 16)  794         ['quant_block_1_depthwise_relu[0]\n",
      " eWrapper)                                                       [0]']                            \n",
      "                                                                                                  \n",
      " quant_block_2_expand (Quantize  (None, 56, 56, 96)  1639        ['quant_block_1_project[0][0]']  \n",
      " Wrapper)                                                                                         \n",
      "                                                                                                  \n",
      " quant_block_2_expand_relu (Qua  (None, 56, 56, 96)  4           ['quant_block_2_expand[0][0]']   \n",
      " ntizeWrapper)                                                                                    \n",
      "                                                                                                  \n",
      " quant_block_2_depthwise (Quant  (None, 56, 56, 96)  967         ['quant_block_2_expand_relu[0][0]\n",
      " izeWrapper)                                                     ']                               \n",
      "                                                                                                  \n",
      " quant_block_2_depthwise_relu (  (None, 56, 56, 96)  4           ['quant_block_2_depthwise[0][0]']\n",
      " QuantizeWrapper)                                                                                 \n",
      "                                                                                                  \n",
      " quant_block_2_project (Quantiz  (None, 56, 56, 16)  1562        ['quant_block_2_depthwise_relu[0]\n",
      " eWrapper)                                                       [0]']                            \n",
      "                                                                                                  \n",
      " quant_block_2_add (QuantizeWra  (None, 56, 56, 16)  4           ['quant_block_1_project[0][0]',  \n",
      " pper)                                                            'quant_block_2_project[0][0]']  \n",
      "                                                                                                  \n",
      " quant_block_3_expand (Quantize  (None, 56, 56, 96)  1639        ['quant_block_2_add[0][0]']      \n",
      " Wrapper)                                                                                         \n",
      "                                                                                                  \n",
      " quant_block_3_expand_relu (Qua  (None, 56, 56, 96)  4           ['quant_block_3_expand[0][0]']   \n",
      " ntizeWrapper)                                                                                    \n",
      "                                                                                                  \n",
      " quant_block_3_pad (QuantizeWra  (None, 57, 57, 96)  1           ['quant_block_3_expand_relu[0][0]\n",
      " pper)                                                           ']                               \n",
      "                                                                                                  \n",
      " quant_block_3_depthwise (Quant  (None, 28, 28, 96)  967         ['quant_block_3_pad[0][0]']      \n",
      " izeWrapper)                                                                                      \n",
      "                                                                                                  \n",
      " quant_block_3_depthwise_relu (  (None, 28, 28, 96)  4           ['quant_block_3_depthwise[0][0]']\n",
      " QuantizeWrapper)                                                                                 \n",
      "                                                                                                  \n",
      " quant_block_3_project (Quantiz  (None, 28, 28, 16)  1562        ['quant_block_3_depthwise_relu[0]\n",
      " eWrapper)                                                       [0]']                            \n",
      "                                                                                                  \n",
      " quant_block_4_expand (Quantize  (None, 28, 28, 96)  1639        ['quant_block_3_project[0][0]']  \n",
      " Wrapper)                                                                                         \n",
      "                                                                                                  \n",
      " quant_block_4_expand_relu (Qua  (None, 28, 28, 96)  4           ['quant_block_4_expand[0][0]']   \n",
      " ntizeWrapper)                                                                                    \n",
      "                                                                                                  \n"
     ]
    },
    {
     "name": "stdout",
     "output_type": "stream",
     "text": [
      " quant_block_4_depthwise (Quant  (None, 28, 28, 96)  967         ['quant_block_4_expand_relu[0][0]\n",
      " izeWrapper)                                                     ']                               \n",
      "                                                                                                  \n",
      " quant_block_4_depthwise_relu (  (None, 28, 28, 96)  4           ['quant_block_4_depthwise[0][0]']\n",
      " QuantizeWrapper)                                                                                 \n",
      "                                                                                                  \n",
      " quant_block_4_project (Quantiz  (None, 28, 28, 16)  1562        ['quant_block_4_depthwise_relu[0]\n",
      " eWrapper)                                                       [0]']                            \n",
      "                                                                                                  \n",
      " quant_block_4_add (QuantizeWra  (None, 28, 28, 16)  4           ['quant_block_3_project[0][0]',  \n",
      " pper)                                                            'quant_block_4_project[0][0]']  \n",
      "                                                                                                  \n",
      " quant_block_5_expand (Quantize  (None, 28, 28, 96)  1639        ['quant_block_4_add[0][0]']      \n",
      " Wrapper)                                                                                         \n",
      "                                                                                                  \n",
      " quant_block_5_expand_relu (Qua  (None, 28, 28, 96)  4           ['quant_block_5_expand[0][0]']   \n",
      " ntizeWrapper)                                                                                    \n",
      "                                                                                                  \n",
      " quant_block_5_depthwise (Quant  (None, 28, 28, 96)  967         ['quant_block_5_expand_relu[0][0]\n",
      " izeWrapper)                                                     ']                               \n",
      "                                                                                                  \n",
      " quant_block_5_depthwise_relu (  (None, 28, 28, 96)  4           ['quant_block_5_depthwise[0][0]']\n",
      " QuantizeWrapper)                                                                                 \n",
      "                                                                                                  \n",
      " quant_block_5_project (Quantiz  (None, 28, 28, 16)  1562        ['quant_block_5_depthwise_relu[0]\n",
      " eWrapper)                                                       [0]']                            \n",
      "                                                                                                  \n",
      " quant_block_5_add (QuantizeWra  (None, 28, 28, 16)  4           ['quant_block_4_add[0][0]',      \n",
      " pper)                                                            'quant_block_5_project[0][0]']  \n",
      "                                                                                                  \n",
      " quant_block_6_expand (Quantize  (None, 28, 28, 96)  1639        ['quant_block_5_add[0][0]']      \n",
      " Wrapper)                                                                                         \n",
      "                                                                                                  \n",
      " quant_block_6_expand_relu (Qua  (None, 28, 28, 96)  4           ['quant_block_6_expand[0][0]']   \n",
      " ntizeWrapper)                                                                                    \n",
      "                                                                                                  \n",
      " quant_block_6_pad (QuantizeWra  (None, 29, 29, 96)  1           ['quant_block_6_expand_relu[0][0]\n",
      " pper)                                                           ']                               \n",
      "                                                                                                  \n",
      " quant_block_6_depthwise (Quant  (None, 14, 14, 96)  967         ['quant_block_6_pad[0][0]']      \n",
      " izeWrapper)                                                                                      \n",
      "                                                                                                  \n",
      " quant_block_6_depthwise_relu (  (None, 14, 14, 96)  4           ['quant_block_6_depthwise[0][0]']\n",
      " QuantizeWrapper)                                                                                 \n",
      "                                                                                                  \n",
      " quant_block_6_project (Quantiz  (None, 14, 14, 32)  3114        ['quant_block_6_depthwise_relu[0]\n",
      " eWrapper)                                                       [0]']                            \n",
      "                                                                                                  \n",
      " quant_block_7_expand (Quantize  (None, 14, 14, 192)  6343       ['quant_block_6_project[0][0]']  \n",
      " Wrapper)                                                                                         \n",
      "                                                                                                  \n",
      " quant_block_7_expand_relu (Qua  (None, 14, 14, 192)  4          ['quant_block_7_expand[0][0]']   \n",
      " ntizeWrapper)                                                                                    \n",
      "                                                                                                  \n",
      " quant_block_7_depthwise (Quant  (None, 14, 14, 192)  1927       ['quant_block_7_expand_relu[0][0]\n",
      " izeWrapper)                                                     ']                               \n",
      "                                                                                                  \n",
      " quant_block_7_depthwise_relu (  (None, 14, 14, 192)  4          ['quant_block_7_depthwise[0][0]']\n",
      " QuantizeWrapper)                                                                                 \n",
      "                                                                                                  \n",
      " quant_block_7_project (Quantiz  (None, 14, 14, 32)  6186        ['quant_block_7_depthwise_relu[0]\n",
      " eWrapper)                                                       [0]']                            \n",
      "                                                                                                  \n",
      " quant_block_7_add (QuantizeWra  (None, 14, 14, 32)  4           ['quant_block_6_project[0][0]',  \n",
      " pper)                                                            'quant_block_7_project[0][0]']  \n",
      "                                                                                                  \n",
      " quant_block_8_expand (Quantize  (None, 14, 14, 192)  6343       ['quant_block_7_add[0][0]']      \n",
      " Wrapper)                                                                                         \n",
      "                                                                                                  \n",
      " quant_block_8_expand_relu (Qua  (None, 14, 14, 192)  4          ['quant_block_8_expand[0][0]']   \n",
      " ntizeWrapper)                                                                                    \n",
      "                                                                                                  \n",
      " quant_block_8_depthwise (Quant  (None, 14, 14, 192)  1927       ['quant_block_8_expand_relu[0][0]\n",
      " izeWrapper)                                                     ']                               \n",
      "                                                                                                  \n",
      " quant_block_8_depthwise_relu (  (None, 14, 14, 192)  4          ['quant_block_8_depthwise[0][0]']\n",
      " QuantizeWrapper)                                                                                 \n",
      "                                                                                                  \n",
      " quant_block_8_project (Quantiz  (None, 14, 14, 32)  6186        ['quant_block_8_depthwise_relu[0]\n",
      " eWrapper)                                                       [0]']                            \n",
      "                                                                                                  \n",
      " quant_block_8_add (QuantizeWra  (None, 14, 14, 32)  4           ['quant_block_7_add[0][0]',      \n",
      " pper)                                                            'quant_block_8_project[0][0]']  \n"
     ]
    },
    {
     "name": "stdout",
     "output_type": "stream",
     "text": [
      "                                                                                                  \n",
      " quant_block_9_expand (Quantize  (None, 14, 14, 192)  6343       ['quant_block_8_add[0][0]']      \n",
      " Wrapper)                                                                                         \n",
      "                                                                                                  \n",
      " quant_block_9_expand_relu (Qua  (None, 14, 14, 192)  4          ['quant_block_9_expand[0][0]']   \n",
      " ntizeWrapper)                                                                                    \n",
      "                                                                                                  \n",
      " quant_block_9_depthwise (Quant  (None, 14, 14, 192)  1927       ['quant_block_9_expand_relu[0][0]\n",
      " izeWrapper)                                                     ']                               \n",
      "                                                                                                  \n",
      " quant_block_9_depthwise_relu (  (None, 14, 14, 192)  4          ['quant_block_9_depthwise[0][0]']\n",
      " QuantizeWrapper)                                                                                 \n",
      "                                                                                                  \n",
      " quant_block_9_project (Quantiz  (None, 14, 14, 32)  6186        ['quant_block_9_depthwise_relu[0]\n",
      " eWrapper)                                                       [0]']                            \n",
      "                                                                                                  \n",
      " quant_block_9_add (QuantizeWra  (None, 14, 14, 32)  4           ['quant_block_8_add[0][0]',      \n",
      " pper)                                                            'quant_block_9_project[0][0]']  \n",
      "                                                                                                  \n",
      " quant_block_10_expand (Quantiz  (None, 14, 14, 192)  6343       ['quant_block_9_add[0][0]']      \n",
      " eWrapper)                                                                                        \n",
      "                                                                                                  \n",
      " quant_block_10_expand_relu (Qu  (None, 14, 14, 192)  4          ['quant_block_10_expand[0][0]']  \n",
      " antizeWrapper)                                                                                   \n",
      "                                                                                                  \n",
      " quant_block_10_depthwise (Quan  (None, 14, 14, 192)  1927       ['quant_block_10_expand_relu[0][0\n",
      " tizeWrapper)                                                    ]']                              \n",
      "                                                                                                  \n",
      " quant_block_10_depthwise_relu   (None, 14, 14, 192)  4          ['quant_block_10_depthwise[0][0]'\n",
      " (QuantizeWrapper)                                               ]                                \n",
      "                                                                                                  \n",
      " quant_block_10_project (Quanti  (None, 14, 14, 48)  9274        ['quant_block_10_depthwise_relu[0\n",
      " zeWrapper)                                                      ][0]']                           \n",
      "                                                                                                  \n",
      " quant_block_11_expand (Quantiz  (None, 14, 14, 288)  14119      ['quant_block_10_project[0][0]'] \n",
      " eWrapper)                                                                                        \n",
      "                                                                                                  \n",
      " quant_block_11_expand_relu (Qu  (None, 14, 14, 288)  4          ['quant_block_11_expand[0][0]']  \n",
      " antizeWrapper)                                                                                   \n",
      "                                                                                                  \n",
      " quant_block_11_depthwise (Quan  (None, 14, 14, 288)  2887       ['quant_block_11_expand_relu[0][0\n",
      " tizeWrapper)                                                    ]']                              \n",
      "                                                                                                  \n",
      " quant_block_11_depthwise_relu   (None, 14, 14, 288)  4          ['quant_block_11_depthwise[0][0]'\n",
      " (QuantizeWrapper)                                               ]                                \n",
      "                                                                                                  \n",
      " quant_block_11_project (Quanti  (None, 14, 14, 48)  13882       ['quant_block_11_depthwise_relu[0\n",
      " zeWrapper)                                                      ][0]']                           \n",
      "                                                                                                  \n",
      " quant_block_11_add (QuantizeWr  (None, 14, 14, 48)  4           ['quant_block_10_project[0][0]', \n",
      " apper)                                                           'quant_block_11_project[0][0]'] \n",
      "                                                                                                  \n",
      " quant_block_12_expand (Quantiz  (None, 14, 14, 288)  14119      ['quant_block_11_add[0][0]']     \n",
      " eWrapper)                                                                                        \n",
      "                                                                                                  \n",
      " quant_block_12_expand_relu (Qu  (None, 14, 14, 288)  4          ['quant_block_12_expand[0][0]']  \n",
      " antizeWrapper)                                                                                   \n",
      "                                                                                                  \n",
      " quant_block_12_depthwise (Quan  (None, 14, 14, 288)  2887       ['quant_block_12_expand_relu[0][0\n",
      " tizeWrapper)                                                    ]']                              \n",
      "                                                                                                  \n",
      " quant_block_12_depthwise_relu   (None, 14, 14, 288)  4          ['quant_block_12_depthwise[0][0]'\n",
      " (QuantizeWrapper)                                               ]                                \n",
      "                                                                                                  \n",
      " quant_block_12_project (Quanti  (None, 14, 14, 48)  13882       ['quant_block_12_depthwise_relu[0\n",
      " zeWrapper)                                                      ][0]']                           \n",
      "                                                                                                  \n",
      " quant_block_12_add (QuantizeWr  (None, 14, 14, 48)  4           ['quant_block_11_add[0][0]',     \n",
      " apper)                                                           'quant_block_12_project[0][0]'] \n",
      "                                                                                                  \n",
      " quant_block_13_expand (Quantiz  (None, 14, 14, 288)  14119      ['quant_block_12_add[0][0]']     \n",
      " eWrapper)                                                                                        \n",
      "                                                                                                  \n",
      " quant_block_13_expand_relu (Qu  (None, 14, 14, 288)  4          ['quant_block_13_expand[0][0]']  \n",
      " antizeWrapper)                                                                                   \n",
      "                                                                                                  \n",
      " quant_block_13_pad (QuantizeWr  (None, 15, 15, 288)  1          ['quant_block_13_expand_relu[0][0\n",
      " apper)                                                          ]']                              \n",
      "                                                                                                  \n",
      " quant_block_13_depthwise (Quan  (None, 7, 7, 288)   2887        ['quant_block_13_pad[0][0]']     \n",
      " tizeWrapper)                                                                                     \n",
      "                                                                                                  \n",
      " quant_block_13_depthwise_relu   (None, 7, 7, 288)   4           ['quant_block_13_depthwise[0][0]'\n"
     ]
    },
    {
     "name": "stdout",
     "output_type": "stream",
     "text": [
      " (QuantizeWrapper)                                               ]                                \n",
      "                                                                                                  \n",
      " quant_block_13_project (Quanti  (None, 7, 7, 80)    23130       ['quant_block_13_depthwise_relu[0\n",
      " zeWrapper)                                                      ][0]']                           \n",
      "                                                                                                  \n",
      " quant_block_14_expand (Quantiz  (None, 7, 7, 480)   38887       ['quant_block_13_project[0][0]'] \n",
      " eWrapper)                                                                                        \n",
      "                                                                                                  \n",
      " quant_block_14_expand_relu (Qu  (None, 7, 7, 480)   4           ['quant_block_14_expand[0][0]']  \n",
      " antizeWrapper)                                                                                   \n",
      "                                                                                                  \n",
      " quant_block_14_depthwise (Quan  (None, 7, 7, 480)   4807        ['quant_block_14_expand_relu[0][0\n",
      " tizeWrapper)                                                    ]']                              \n",
      "                                                                                                  \n",
      " quant_block_14_depthwise_relu   (None, 7, 7, 480)   4           ['quant_block_14_depthwise[0][0]'\n",
      " (QuantizeWrapper)                                               ]                                \n",
      "                                                                                                  \n",
      " quant_block_14_project (Quanti  (None, 7, 7, 80)    38490       ['quant_block_14_depthwise_relu[0\n",
      " zeWrapper)                                                      ][0]']                           \n",
      "                                                                                                  \n",
      " quant_block_14_add (QuantizeWr  (None, 7, 7, 80)    4           ['quant_block_13_project[0][0]', \n",
      " apper)                                                           'quant_block_14_project[0][0]'] \n",
      "                                                                                                  \n",
      " quant_block_15_expand (Quantiz  (None, 7, 7, 480)   38887       ['quant_block_14_add[0][0]']     \n",
      " eWrapper)                                                                                        \n",
      "                                                                                                  \n",
      " quant_block_15_expand_relu (Qu  (None, 7, 7, 480)   4           ['quant_block_15_expand[0][0]']  \n",
      " antizeWrapper)                                                                                   \n",
      "                                                                                                  \n",
      " quant_block_15_depthwise (Quan  (None, 7, 7, 480)   4807        ['quant_block_15_expand_relu[0][0\n",
      " tizeWrapper)                                                    ]']                              \n",
      "                                                                                                  \n",
      " quant_block_15_depthwise_relu   (None, 7, 7, 480)   4           ['quant_block_15_depthwise[0][0]'\n",
      " (QuantizeWrapper)                                               ]                                \n",
      "                                                                                                  \n",
      " quant_block_15_project (Quanti  (None, 7, 7, 80)    38490       ['quant_block_15_depthwise_relu[0\n",
      " zeWrapper)                                                      ][0]']                           \n",
      "                                                                                                  \n",
      " quant_block_15_add (QuantizeWr  (None, 7, 7, 80)    4           ['quant_block_14_add[0][0]',     \n",
      " apper)                                                           'quant_block_15_project[0][0]'] \n",
      "                                                                                                  \n",
      " quant_block_16_expand (Quantiz  (None, 7, 7, 480)   38887       ['quant_block_15_add[0][0]']     \n",
      " eWrapper)                                                                                        \n",
      "                                                                                                  \n",
      " quant_block_16_expand_relu (Qu  (None, 7, 7, 480)   4           ['quant_block_16_expand[0][0]']  \n",
      " antizeWrapper)                                                                                   \n",
      "                                                                                                  \n",
      " quant_block_16_depthwise (Quan  (None, 7, 7, 480)   4807        ['quant_block_16_expand_relu[0][0\n",
      " tizeWrapper)                                                    ]']                              \n",
      "                                                                                                  \n",
      " quant_block_16_depthwise_relu   (None, 7, 7, 480)   4           ['quant_block_16_depthwise[0][0]'\n",
      " (QuantizeWrapper)                                               ]                                \n",
      "                                                                                                  \n",
      " quant_block_16_project (Quanti  (None, 7, 7, 160)   76970       ['quant_block_16_depthwise_relu[0\n",
      " zeWrapper)                                                      ][0]']                           \n",
      "                                                                                                  \n",
      " quant_last_conv (QuantizeWrapp  (None, 7, 7, 1000)  161007      ['quant_block_16_project[0][0]'] \n",
      " er)                                                                                              \n",
      "                                                                                                  \n",
      " quant_last_relu (QuantizeWrapp  (None, 7, 7, 1000)  4           ['quant_last_conv[0][0]']        \n",
      " er)                                                                                              \n",
      "                                                                                                  \n",
      " quant_global_average_pool (Qua  (None, 1000)        4           ['quant_last_relu[0][0]']        \n",
      " ntizeWrapper)                                                                                    \n",
      "                                                                                                  \n",
      " quant_dense (QuantizeWrapper)  (None, 29)           29036       ['quant_global_average_pool[0][0]\n",
      "                                                                 ']                               \n",
      "                                                                                                  \n",
      " quant_dense_softmax (QuantizeW  (None, 29)          4           ['quant_dense[0][0]']            \n",
      " rapper)                                                                                          \n",
      "                                                                                                  \n",
      "==================================================================================================\n",
      "Total params: 662,975\n",
      "Trainable params: 662,357\n",
      "Non-trainable params: 618\n",
      "__________________________________________________________________________________________________\n",
      "None\n"
     ]
    }
   ],
   "source": [
    "print(qat_model.summary())"
   ]
  },
  {
   "cell_type": "code",
   "execution_count": 24,
   "id": "e97f1131",
   "metadata": {},
   "outputs": [],
   "source": [
    "# Save best model based on highest validation_accuracy.\n",
    "model_checkpoint_callback = tf.keras.callbacks.ModelCheckpoint(filepath=TrainingConfig.CHECKPOINT_DIR,\n",
    "                                                               save_weights_only=False,\n",
    "                                                               monitor='val_accuracy',\n",
    "                                                               mode='max',\n",
    "                                                               save_best_only=True,\n",
    "                                                              )"
   ]
  },
  {
   "cell_type": "code",
   "execution_count": 25,
   "id": "80569f9a",
   "metadata": {},
   "outputs": [
    {
     "name": "stdout",
     "output_type": "stream",
     "text": [
      "2023-05-08 08:25:39.244137\n"
     ]
    }
   ],
   "source": [
    "from datetime import datetime\n",
    "\n",
    "# datetime object containing current date and time\n",
    "timestamp1 = datetime.now()\n",
    "print(timestamp1)"
   ]
  },
  {
   "cell_type": "code",
   "execution_count": 26,
   "id": "db8d0c42",
   "metadata": {},
   "outputs": [
    {
     "name": "stdout",
     "output_type": "stream",
     "text": [
      "Epoch 1/16\n",
      "182/182 [==============================] - ETA: 0s - loss: 0.1131 - accuracy: 0.9710"
     ]
    },
    {
     "name": "stderr",
     "output_type": "stream",
     "text": [
      "WARNING:absl:Found untraced functions such as Conv1_layer_call_fn, Conv1_layer_call_and_return_conditional_losses, _jit_compiled_convolution_op, Conv1_relu_layer_call_fn, Conv1_relu_layer_call_and_return_conditional_losses while saving (showing 5 of 252). These functions will not be directly callable after loading.\n"
     ]
    },
    {
     "name": "stdout",
     "output_type": "stream",
     "text": [
      "INFO:tensorflow:Assets written to: ./saved_models_asl_classifier25/assets\n"
     ]
    },
    {
     "name": "stderr",
     "output_type": "stream",
     "text": [
      "INFO:tensorflow:Assets written to: ./saved_models_asl_classifier25/assets\n"
     ]
    },
    {
     "name": "stdout",
     "output_type": "stream",
     "text": [
      "182/182 [==============================] - 458s 2s/step - loss: 0.1131 - accuracy: 0.9710 - val_loss: 0.0468 - val_accuracy: 0.9848\n",
      "Epoch 2/16\n",
      "182/182 [==============================] - 216s 1s/step - loss: 0.0559 - accuracy: 0.9833 - val_loss: 0.3381 - val_accuracy: 0.8993\n",
      "Epoch 3/16\n",
      "182/182 [==============================] - ETA: 0s - loss: 0.0422 - accuracy: 0.9876"
     ]
    },
    {
     "name": "stderr",
     "output_type": "stream",
     "text": [
      "WARNING:absl:Found untraced functions such as Conv1_layer_call_fn, Conv1_layer_call_and_return_conditional_losses, _jit_compiled_convolution_op, Conv1_relu_layer_call_fn, Conv1_relu_layer_call_and_return_conditional_losses while saving (showing 5 of 252). These functions will not be directly callable after loading.\n"
     ]
    },
    {
     "name": "stdout",
     "output_type": "stream",
     "text": [
      "INFO:tensorflow:Assets written to: ./saved_models_asl_classifier25/assets\n"
     ]
    },
    {
     "name": "stderr",
     "output_type": "stream",
     "text": [
      "INFO:tensorflow:Assets written to: ./saved_models_asl_classifier25/assets\n"
     ]
    },
    {
     "name": "stdout",
     "output_type": "stream",
     "text": [
      "182/182 [==============================] - 410s 2s/step - loss: 0.0422 - accuracy: 0.9876 - val_loss: 0.0232 - val_accuracy: 0.9924\n",
      "Epoch 4/16\n",
      "182/182 [==============================] - 217s 1s/step - loss: 0.0797 - accuracy: 0.9798 - val_loss: 0.2162 - val_accuracy: 0.9407\n",
      "Epoch 5/16\n",
      "182/182 [==============================] - 217s 1s/step - loss: 0.1105 - accuracy: 0.9655 - val_loss: 0.0595 - val_accuracy: 0.9848\n",
      "Epoch 6/16\n",
      "182/182 [==============================] - 217s 1s/step - loss: 0.0155 - accuracy: 0.9953 - val_loss: 0.0600 - val_accuracy: 0.9834\n",
      "Epoch 7/16\n",
      "182/182 [==============================] - 216s 1s/step - loss: 0.0495 - accuracy: 0.9841 - val_loss: 0.0700 - val_accuracy: 0.9807\n",
      "Epoch 8/16\n",
      "182/182 [==============================] - ETA: 0s - loss: 0.0188 - accuracy: 0.9947"
     ]
    },
    {
     "name": "stderr",
     "output_type": "stream",
     "text": [
      "WARNING:absl:Found untraced functions such as Conv1_layer_call_fn, Conv1_layer_call_and_return_conditional_losses, _jit_compiled_convolution_op, Conv1_relu_layer_call_fn, Conv1_relu_layer_call_and_return_conditional_losses while saving (showing 5 of 252). These functions will not be directly callable after loading.\n"
     ]
    },
    {
     "name": "stdout",
     "output_type": "stream",
     "text": [
      "182/182 [==============================] - 398s 2s/step - loss: 0.0188 - accuracy: 0.9947 - val_loss: 0.0229 - val_accuracy: 0.9931\n",
      "Epoch 9/16\n",
      "182/182 [==============================] - ETA: 0s - loss: 0.0026 - accuracy: 0.9993"
     ]
    },
    {
     "name": "stderr",
     "output_type": "stream",
     "text": [
      "WARNING:absl:Found untraced functions such as Conv1_layer_call_fn, Conv1_layer_call_and_return_conditional_losses, _jit_compiled_convolution_op, Conv1_relu_layer_call_fn, Conv1_relu_layer_call_and_return_conditional_losses while saving (showing 5 of 252). These functions will not be directly callable after loading.\n"
     ]
    },
    {
     "name": "stdout",
     "output_type": "stream",
     "text": [
      "INFO:tensorflow:Assets written to: ./saved_models_asl_classifier25/assets\n"
     ]
    },
    {
     "name": "stderr",
     "output_type": "stream",
     "text": [
      "INFO:tensorflow:Assets written to: ./saved_models_asl_classifier25/assets\n"
     ]
    },
    {
     "name": "stdout",
     "output_type": "stream",
     "text": [
      "182/182 [==============================] - 399s 2s/step - loss: 0.0026 - accuracy: 0.9993 - val_loss: 0.0254 - val_accuracy: 0.9938\n",
      "Epoch 10/16\n",
      "182/182 [==============================] - ETA: 0s - loss: 1.4438e-04 - accuracy: 1.0000"
     ]
    },
    {
     "name": "stderr",
     "output_type": "stream",
     "text": [
      "WARNING:absl:Found untraced functions such as Conv1_layer_call_fn, Conv1_layer_call_and_return_conditional_losses, _jit_compiled_convolution_op, Conv1_relu_layer_call_fn, Conv1_relu_layer_call_and_return_conditional_losses while saving (showing 5 of 252). These functions will not be directly callable after loading.\n"
     ]
    },
    {
     "name": "stdout",
     "output_type": "stream",
     "text": [
      "INFO:tensorflow:Assets written to: ./saved_models_asl_classifier25/assets\n"
     ]
    },
    {
     "name": "stderr",
     "output_type": "stream",
     "text": [
      "INFO:tensorflow:Assets written to: ./saved_models_asl_classifier25/assets\n"
     ]
    },
    {
     "name": "stdout",
     "output_type": "stream",
     "text": [
      "182/182 [==============================] - 399s 2s/step - loss: 1.4438e-04 - accuracy: 1.0000 - val_loss: 0.0171 - val_accuracy: 0.9952\n",
      "Epoch 11/16\n",
      "182/182 [==============================] - 216s 1s/step - loss: 7.5498e-05 - accuracy: 1.0000 - val_loss: 0.0165 - val_accuracy: 0.9945\n",
      "Epoch 12/16\n",
      "182/182 [==============================] - 216s 1s/step - loss: 4.6995e-05 - accuracy: 1.0000 - val_loss: 0.0148 - val_accuracy: 0.9952\n",
      "Epoch 13/16\n",
      "182/182 [==============================] - 216s 1s/step - loss: 3.5818e-05 - accuracy: 1.0000 - val_loss: 0.0157 - val_accuracy: 0.9952\n",
      "Epoch 14/16\n",
      "182/182 [==============================] - 216s 1s/step - loss: 2.8991e-05 - accuracy: 1.0000 - val_loss: 0.0147 - val_accuracy: 0.9952\n",
      "Epoch 15/16\n",
      "182/182 [==============================] - 217s 1s/step - loss: 2.4469e-05 - accuracy: 1.0000 - val_loss: 0.0141 - val_accuracy: 0.9952\n",
      "Epoch 16/16\n",
      "182/182 [==============================] - 216s 1s/step - loss: 2.0376e-05 - accuracy: 1.0000 - val_loss: 0.0146 - val_accuracy: 0.9952\n"
     ]
    }
   ],
   "source": [
    "# Then run the training process with this qat_model to get the quantize finetuned model.\n",
    "qat_results = qat_model.fit(normalized_train_dataset,#train_dataset,\n",
    "              validation_data=normalized_valid_dataset,#valid_dataset,\n",
    "              epochs=16,#TrainingConfig.EPOCHS,\n",
    "              workers=4,\n",
    "              use_multiprocessing=True, \n",
    "              callbacks=model_checkpoint_callback,\n",
    "             )"
   ]
  },
  {
   "cell_type": "code",
   "execution_count": 27,
   "id": "9c4fe1c5",
   "metadata": {},
   "outputs": [
    {
     "name": "stdout",
     "output_type": "stream",
     "text": [
      "2023-05-08 09:39:45.085975\n",
      "1:14:05.841838\n"
     ]
    }
   ],
   "source": [
    "timestamp2 = datetime.now()\n",
    "print(timestamp2)\n",
    "\n",
    "print(timestamp2-timestamp1)"
   ]
  },
  {
   "cell_type": "code",
   "execution_count": 28,
   "id": "bfeada33",
   "metadata": {},
   "outputs": [],
   "source": [
    "def plot_results(metrics, ylabel=None, ylim=None, metric_name=None, color=None):\n",
    "    \n",
    "    fig, ax = plt.subplots(figsize=(15, 4))\n",
    "\n",
    "    if not (isinstance(metric_name, list) or isinstance(metric_name, tuple)):\n",
    "        metrics = [metrics,]\n",
    "        metric_name = [metric_name,]\n",
    "        \n",
    "    for idx, metric in enumerate(metrics):    \n",
    "        ax.plot(metric, color=color[idx])\n",
    "    \n",
    "    plt.xlabel(\"Epoch\")\n",
    "    plt.ylabel(ylabel)\n",
    "    plt.title(ylabel)\n",
    "    plt.xlim([0, TrainingConfig.EPOCHS-1])\n",
    "    plt.ylim(ylim)\n",
    "    # Tailor x-axis tick marks\n",
    "    ax.xaxis.set_major_locator(MultipleLocator(5))\n",
    "    ax.xaxis.set_major_formatter(FormatStrFormatter('%d'))\n",
    "    ax.xaxis.set_minor_locator(MultipleLocator(1))\n",
    "    plt.grid(True)\n",
    "    plt.legend(metric_name)   \n",
    "    plt.show(block=block_plot)\n",
    "    plt.close()"
   ]
  },
  {
   "cell_type": "code",
   "execution_count": 29,
   "id": "9297f154",
   "metadata": {},
   "outputs": [
    {
     "data": {
      "image/png": "[encoded data removed]",
      "text/plain": [
       "<Figure size 1500x400 with 1 Axes>"
      ]
     },
     "metadata": {},
     "output_type": "display_data"
    },
    {
     "data": {
      "image/png": "[encoded data removed]",
      "text/plain": [
       "<Figure size 1500x400 with 1 Axes>"
      ]
     },
     "metadata": {},
     "output_type": "display_data"
    }
   ],
   "source": [
    "# Retrieve training results.\n",
    "train_loss = qat_results.history[\"loss\"]\n",
    "train_acc  = qat_results.history[\"accuracy\"]\n",
    "valid_loss = qat_results.history[\"val_loss\"]\n",
    "valid_acc  = qat_results.history[\"val_accuracy\"]\n",
    "    \n",
    "plot_results([ train_acc, valid_acc ], \n",
    "            ylabel=\"Accuracy\",\n",
    "            ylim = [0.5, 1.0],\n",
    "            metric_name=[\"Training Accuracy\", \"Validation Accuracy\"],\n",
    "            color=[\"g\", \"b\"])\n",
    " \n",
    "max_loss = 2.0\n",
    "\n",
    "plot_results([ train_loss, valid_loss ],        \n",
    "            ylabel=\"Loss\", \n",
    "            ylim = [0.0, max_loss],\n",
    "            metric_name=[\"Training Loss\", \"Validation Loss\"],\n",
    "            color=[\"g\", \"b\"]);"
   ]
  },
  {
   "cell_type": "markdown",
   "id": "bc6056f1",
   "metadata": {},
   "source": [
    "**Evaluate quantized model**\n",
    "\n",
    "In order to evaluate the quantized model, it needs to be re-compiled with the desired loss and evaluation metrics, such as accuracy. Since we are using 8-bit quantization we do not lose much performance, if at all."
   ]
  },
  {
   "cell_type": "code",
   "execution_count": 30,
   "id": "64fa03dc",
   "metadata": {},
   "outputs": [],
   "source": [
    "qat_model.compile(loss='categorical_crossentropy', metrics=[\"accuracy\"])"
   ]
  },
  {
   "cell_type": "code",
   "execution_count": 31,
   "id": "deea99d9",
   "metadata": {},
   "outputs": [
    {
     "name": "stdout",
     "output_type": "stream",
     "text": [
      "182/182 [==============================] - 39s 178ms/step - loss: 11.7582 - accuracy: 0.0345\n",
      "Model evaluation accuracy (training dataset): 3.448\n"
     ]
    }
   ],
   "source": [
    "print(f\"Model evaluation accuracy (training dataset): {qat_model.evaluate(train_dataset)[1]*100.:.3f}\")"
   ]
  },
  {
   "cell_type": "code",
   "execution_count": 32,
   "id": "1b2f681f",
   "metadata": {},
   "outputs": [
    {
     "name": "stdout",
     "output_type": "stream",
     "text": [
      "182/182 [==============================] - 33s 178ms/step - loss: 1.8492e-05 - accuracy: 1.0000\n",
      "Model evaluation accuracy (training dataset): 100.000\n"
     ]
    }
   ],
   "source": [
    "print(f\"Model evaluation accuracy (training dataset): {qat_model.evaluate(normalized_train_dataset)[1]*100.:.3f}\")"
   ]
  },
  {
   "cell_type": "code",
   "execution_count": 33,
   "id": "4feb68e8",
   "metadata": {},
   "outputs": [
    {
     "name": "stdout",
     "output_type": "stream",
     "text": [
      "46/46 [==============================] - 8s 176ms/step - loss: 11.7566 - accuracy: 0.0345\n",
      "Model evaluation accuracy (validation dataset): 3.448\n"
     ]
    }
   ],
   "source": [
    "print(f\"Model evaluation accuracy (validation dataset): {qat_model.evaluate(valid_dataset)[1]*100.:.3f}\")"
   ]
  },
  {
   "cell_type": "code",
   "execution_count": 34,
   "id": "675d53fc",
   "metadata": {},
   "outputs": [
    {
     "name": "stdout",
     "output_type": "stream",
     "text": [
      "46/46 [==============================] - 8s 175ms/step - loss: 0.0146 - accuracy: 0.9952\n",
      "Model evaluation accuracy (validation dataset): 99.517\n"
     ]
    }
   ],
   "source": [
    "print(f\"Model evaluation accuracy (validation dataset): {qat_model.evaluate(normalized_valid_dataset)[1]*100.:.3f}\")"
   ]
  },
  {
   "cell_type": "markdown",
   "id": "bb228f43",
   "metadata": {},
   "source": [
    "**Save quantized model**\n",
    "\n",
    "Once we are happy with the performance of the quantized model, we can save it as a .h5 file, simply using the `save` method."
   ]
  },
  {
   "cell_type": "code",
   "execution_count": 35,
   "id": "7eb4a1fd",
   "metadata": {},
   "outputs": [],
   "source": [
    "#quantized_model.save('tf2_asl_classifier25_quantized.h5')\n",
    "qat_model.save('tf2_asl_classifier25_quantized.h5')"
   ]
  },
  {
   "cell_type": "markdown",
   "id": "58451641",
   "metadata": {},
   "source": [
    "## 5 Compilation"
   ]
  },
  {
   "cell_type": "markdown",
   "id": "7974c603",
   "metadata": {},
   "source": [
    "For this final step we use the Vitis AI compiler `vai_c_tensorflow2` and pass the quantized model as a parameter. \n",
    "\n",
    "The target platform (ie. specific DPU architecture) is defined by .arch file.\n",
    "\n",
    "To support as many platforms as possible, we compile for the following DPU architectures:\n",
    "- B4096 (ZCU102, ZCU104, UltraZed-EV)\n",
    "- B3136 (KV260)\n",
    "- B2304 (Ultra96-V2)\n",
    "- B1152 (Ultra96-V2+DualCam)\n",
    "-  B512 (ZUBoard)\n",
    "-  B128 (ZUBoard+DualCam)"
   ]
  },
  {
   "cell_type": "code",
   "execution_count": 36,
   "id": "6ecf09d5",
   "metadata": {},
   "outputs": [
    {
     "name": "stdout",
     "output_type": "stream",
     "text": [
      "**************************************************\n",
      "* VITIS_AI Compilation - Xilinx Inc.\n",
      "**************************************************\n",
      "[INFO] Namespace(batchsize=1, inputs_shape=None, layout='NHWC', model_files=['./tf2_asl_classifier25_quantized.h5'], model_type='tensorflow2', named_inputs_shape=None, out_filename='/tmp/asl_classifier_DPUCZDX8G_ISA1_B4096_org.xmodel', proto=None)\n",
      "[INFO] tensorflow2 model: /workspace/tf2_asl_classifier25_quantized.h5\n",
      "[INFO] keras version: 2.10.0\n",
      "[INFO] Tensorflow Keras model type: functional\n",
      "[INFO] parse raw model     :100%|█| 106/106 [00:00<00:00, 25899.81it/s]         \n",
      "[INFO] infer shape (NHWC)  :100%|█| 172/172 [00:00<00:00, 6614.77it/s]          \n",
      "[INFO] perform level-0 opt :100%|█| 1/1 [00:00<00:00, 69.53it/s]                \n",
      "[INFO] perform level-1 opt :100%|█| 2/2 [00:00<00:00, 270.36it/s]               \n",
      "[INFO] infer shape (NHWC)  :100%|█| 174/174 [00:00<00:00, 6577.94it/s]          \n",
      "[INFO] generate xmodel     :100%|█| 174/174 [00:00<00:00, 2757.96it/s]          \n",
      "[INFO] dump xmodel: /tmp/asl_classifier_DPUCZDX8G_ISA1_B4096_org.xmodel\n",
      "[UNILOG][INFO] Compile mode: dpu\n",
      "[UNILOG][INFO] Debug mode: null\n",
      "[UNILOG][INFO] Target architecture: DPUCZDX8G_ISA1_B4096\n",
      "[UNILOG][INFO] Graph name: model, with op num: 384\n",
      "[UNILOG][INFO] Begin to compile...\n",
      "[UNILOG][INFO] Total device subgraph number 3, DPU subgraph number 1\n",
      "[UNILOG][INFO] Compile done.\n",
      "[UNILOG][INFO] The meta json is saved to \"/workspace/./model_mobilenetv2/B4096/meta.json\"\n",
      "[UNILOG][INFO] The compiled xmodel is saved to \"/workspace/./model_mobilenetv2/B4096//asl_classifier.xmodel\"\n",
      "[UNILOG][INFO] The compiled xmodel's md5sum is 625b8c0e4a5541f13e29b174cb73bcb5, and has been saved to \"/workspace/./model_mobilenetv2/B4096/md5sum.txt\"\n",
      "**************************************************\n",
      "* VITIS_AI Compilation - Xilinx Inc.\n",
      "**************************************************\n",
      "[INFO] Namespace(batchsize=1, inputs_shape=None, layout='NHWC', model_files=['./tf2_asl_classifier25_quantized.h5'], model_type='tensorflow2', named_inputs_shape=None, out_filename='/tmp/asl_classifier_DPUCZDX8G_ISA1_B3136_org.xmodel', proto=None)\n",
      "[INFO] tensorflow2 model: /workspace/tf2_asl_classifier25_quantized.h5\n",
      "[INFO] keras version: 2.10.0\n",
      "[INFO] Tensorflow Keras model type: functional\n",
      "[INFO] parse raw model     :100%|█| 106/106 [00:00<00:00, 26100.52it/s]         \n",
      "[INFO] infer shape (NHWC)  :100%|█| 172/172 [00:00<00:00, 6772.56it/s]          \n",
      "[INFO] perform level-0 opt :100%|█| 1/1 [00:00<00:00, 68.45it/s]                \n",
      "[INFO] perform level-1 opt :100%|█| 2/2 [00:00<00:00, 275.24it/s]               \n",
      "[INFO] infer shape (NHWC)  :100%|█| 174/174 [00:00<00:00, 6660.24it/s]          \n",
      "[INFO] generate xmodel     :100%|█| 174/174 [00:00<00:00, 2774.38it/s]          \n",
      "[INFO] dump xmodel: /tmp/asl_classifier_DPUCZDX8G_ISA1_B3136_org.xmodel\n",
      "[UNILOG][INFO] Compile mode: dpu\n",
      "[UNILOG][INFO] Debug mode: null\n",
      "[UNILOG][INFO] Target architecture: DPUCZDX8G_ISA1_B3136\n",
      "[UNILOG][INFO] Graph name: model, with op num: 384\n",
      "[UNILOG][INFO] Begin to compile...\n",
      "[UNILOG][INFO] Total device subgraph number 3, DPU subgraph number 1\n",
      "[UNILOG][INFO] Compile done.\n",
      "[UNILOG][INFO] The meta json is saved to \"/workspace/./model_mobilenetv2/B3136/meta.json\"\n",
      "[UNILOG][INFO] The compiled xmodel is saved to \"/workspace/./model_mobilenetv2/B3136//asl_classifier.xmodel\"\n",
      "[UNILOG][INFO] The compiled xmodel's md5sum is 418422883599b069f9a7726c1dda72b0, and has been saved to \"/workspace/./model_mobilenetv2/B3136/md5sum.txt\"\n",
      "**************************************************\n",
      "* VITIS_AI Compilation - Xilinx Inc.\n",
      "**************************************************\n",
      "[INFO] Namespace(batchsize=1, inputs_shape=None, layout='NHWC', model_files=['./tf2_asl_classifier25_quantized.h5'], model_type='tensorflow2', named_inputs_shape=None, out_filename='/tmp/asl_classifier_0x101000016010405_org.xmodel', proto=None)\n",
      "[INFO] tensorflow2 model: /workspace/tf2_asl_classifier25_quantized.h5\n",
      "[INFO] keras version: 2.10.0\n",
      "[INFO] Tensorflow Keras model type: functional\n",
      "[INFO] parse raw model     :100%|█| 106/106 [00:00<00:00, 26351.13it/s]         \n",
      "[INFO] infer shape (NHWC)  :100%|█| 172/172 [00:00<00:00, 6832.67it/s]          \n",
      "[INFO] perform level-0 opt :100%|█| 1/1 [00:00<00:00, 68.71it/s]                \n",
      "[INFO] perform level-1 opt :100%|█| 2/2 [00:00<00:00, 273.34it/s]               \n",
      "[INFO] infer shape (NHWC)  :100%|█| 174/174 [00:00<00:00, 6651.56it/s]          \n",
      "[INFO] generate xmodel     :100%|█| 174/174 [00:00<00:00, 2775.03it/s]          \n",
      "[INFO] dump xmodel: /tmp/asl_classifier_0x101000016010405_org.xmodel\n",
      "[UNILOG][INFO] Compile mode: dpu\n",
      "[UNILOG][INFO] Debug mode: null\n",
      "[UNILOG][INFO] Target architecture: DPUCZDX8G_ISA1_B2304_0101000016010405\n",
      "[UNILOG][INFO] Graph name: model, with op num: 384\n",
      "[UNILOG][INFO] Begin to compile...\n",
      "[UNILOG][INFO] Total device subgraph number 3, DPU subgraph number 1\n",
      "[UNILOG][INFO] Compile done.\n",
      "[UNILOG][INFO] The meta json is saved to \"/workspace/./model_mobilenetv2/B2304/meta.json\"\n",
      "[UNILOG][INFO] The compiled xmodel is saved to \"/workspace/./model_mobilenetv2/B2304//asl_classifier.xmodel\"\n",
      "[UNILOG][INFO] The compiled xmodel's md5sum is f840a17a31bf9cf6311fbe14b27185e9, and has been saved to \"/workspace/./model_mobilenetv2/B2304/md5sum.txt\"\n",
      "**************************************************\n",
      "* VITIS_AI Compilation - Xilinx Inc.\n",
      "**************************************************\n",
      "[INFO] Namespace(batchsize=1, inputs_shape=None, layout='NHWC', model_files=['./tf2_asl_classifier25_quantized.h5'], model_type='tensorflow2', named_inputs_shape=None, out_filename='/tmp/asl_classifier_0x101000017010203_org.xmodel', proto=None)\n",
      "[INFO] tensorflow2 model: /workspace/tf2_asl_classifier25_quantized.h5\n",
      "[INFO] keras version: 2.10.0\n",
      "[INFO] Tensorflow Keras model type: functional\n",
      "[INFO] parse raw model     :100%|█| 106/106 [00:00<00:00, 26305.91it/s]         \n",
      "[INFO] infer shape (NHWC)  :100%|█| 172/172 [00:00<00:00, 6862.89it/s]          \n",
      "[INFO] perform level-0 opt :100%|█| 1/1 [00:00<00:00, 68.91it/s]                \n",
      "[INFO] perform level-1 opt :100%|█| 2/2 [00:00<00:00, 275.15it/s]               \n",
      "[INFO] infer shape (NHWC)  :100%|█| 174/174 [00:00<00:00, 6673.88it/s]          \n",
      "[INFO] generate xmodel     :100%|█| 174/174 [00:00<00:00, 2773.27it/s]          \n",
      "[INFO] dump xmodel: /tmp/asl_classifier_0x101000017010203_org.xmodel\n",
      "[UNILOG][INFO] Compile mode: dpu\n",
      "[UNILOG][INFO] Debug mode: null\n",
      "[UNILOG][INFO] Target architecture: DPUCZDX8G_ISA1_B1152_0101000017010203\n",
      "[UNILOG][INFO] Graph name: model, with op num: 384\n",
      "[UNILOG][INFO] Begin to compile...\n",
      "[UNILOG][INFO] Total device subgraph number 3, DPU subgraph number 1\n",
      "[UNILOG][INFO] Compile done.\n",
      "[UNILOG][INFO] The meta json is saved to \"/workspace/./model_mobilenetv2/B1152/meta.json\"\n",
      "[UNILOG][INFO] The compiled xmodel is saved to \"/workspace/./model_mobilenetv2/B1152//asl_classifier.xmodel\"\n",
      "[UNILOG][INFO] The compiled xmodel's md5sum is 3fbc1ae030fc7cc87cb8754f363b7e2b, and has been saved to \"/workspace/./model_mobilenetv2/B1152/md5sum.txt\"\n",
      "**************************************************\n",
      "* VITIS_AI Compilation - Xilinx Inc.\n",
      "**************************************************\n",
      "[INFO] Namespace(batchsize=1, inputs_shape=None, layout='NHWC', model_files=['./tf2_asl_classifier25_quantized.h5'], model_type='tensorflow2', named_inputs_shape=None, out_filename='/tmp/asl_classifier_0x101000016010200_org.xmodel', proto=None)\n",
      "[INFO] tensorflow2 model: /workspace/tf2_asl_classifier25_quantized.h5\n",
      "[INFO] keras version: 2.10.0\n",
      "[INFO] Tensorflow Keras model type: functional\n",
      "[INFO] parse raw model     :100%|█| 106/106 [00:00<00:00, 25975.47it/s]         \n",
      "[INFO] infer shape (NHWC)  :100%|█| 172/172 [00:00<00:00, 6698.05it/s]          \n",
      "[INFO] perform level-0 opt :100%|█| 1/1 [00:00<00:00, 68.43it/s]                \n",
      "[INFO] perform level-1 opt :100%|█| 2/2 [00:00<00:00, 273.77it/s]               \n",
      "[INFO] infer shape (NHWC)  :100%|█| 174/174 [00:00<00:00, 6537.28it/s]          \n",
      "[INFO] generate xmodel     :100%|█| 174/174 [00:00<00:00, 2765.61it/s]          \n",
      "[INFO] dump xmodel: /tmp/asl_classifier_0x101000016010200_org.xmodel\n",
      "[UNILOG][INFO] Compile mode: dpu\n",
      "[UNILOG][INFO] Debug mode: null\n",
      "[UNILOG][INFO] Target architecture: DPUCZDX8G_ISA1_B512_0101000016010200\n",
      "[UNILOG][INFO] Graph name: model, with op num: 384\n",
      "[UNILOG][INFO] Begin to compile...\n"
     ]
    },
    {
     "name": "stdout",
     "output_type": "stream",
     "text": [
      "[UNILOG][INFO] Total device subgraph number 3, DPU subgraph number 1\n",
      "[UNILOG][INFO] Compile done.\n",
      "[UNILOG][INFO] The meta json is saved to \"/workspace/./model_mobilenetv2/B512/meta.json\"\n",
      "[UNILOG][INFO] The compiled xmodel is saved to \"/workspace/./model_mobilenetv2/B512//asl_classifier.xmodel\"\n",
      "[UNILOG][INFO] The compiled xmodel's md5sum is 70d4a43a51d384f2e4a2d050b4f1acb6, and has been saved to \"/workspace/./model_mobilenetv2/B512/md5sum.txt\"\n",
      "**************************************************\n",
      "* VITIS_AI Compilation - Xilinx Inc.\n",
      "**************************************************\n",
      "[INFO] Namespace(batchsize=1, inputs_shape=None, layout='NHWC', model_files=['./tf2_asl_classifier25_quantized.h5'], model_type='tensorflow2', named_inputs_shape=None, out_filename='/tmp/asl_classifier_0x101000002010208_org.xmodel', proto=None)\n",
      "[INFO] tensorflow2 model: /workspace/tf2_asl_classifier25_quantized.h5\n",
      "[INFO] keras version: 2.10.0\n",
      "[INFO] Tensorflow Keras model type: functional\n",
      "[INFO] parse raw model     :100%|█| 106/106 [00:00<00:00, 26371.45it/s]         \n",
      "[INFO] infer shape (NHWC)  :100%|█| 172/172 [00:00<00:00, 6751.84it/s]          \n",
      "[INFO] perform level-0 opt :100%|█| 1/1 [00:00<00:00, 68.95it/s]                \n",
      "[INFO] perform level-1 opt :100%|█| 2/2 [00:00<00:00, 277.53it/s]               \n",
      "[INFO] infer shape (NHWC)  :100%|█| 174/174 [00:00<00:00, 6653.38it/s]          \n",
      "[INFO] generate xmodel     :100%|█| 174/174 [00:00<00:00, 2780.32it/s]          \n",
      "[INFO] dump xmodel: /tmp/asl_classifier_0x101000002010208_org.xmodel\n",
      "[UNILOG][INFO] Compile mode: dpu\n",
      "[UNILOG][INFO] Debug mode: null\n",
      "[UNILOG][INFO] Target architecture: DPUCZDX8G_ISA1_B128_0101000002010208\n",
      "[UNILOG][INFO] Graph name: model, with op num: 384\n",
      "[UNILOG][INFO] Begin to compile...\n",
      "[UNILOG][INFO] Total device subgraph number 3, DPU subgraph number 1\n",
      "[UNILOG][INFO] Compile done.\n",
      "[UNILOG][INFO] The meta json is saved to \"/workspace/./model_mobilenetv2/B128/meta.json\"\n",
      "[UNILOG][INFO] The compiled xmodel is saved to \"/workspace/./model_mobilenetv2/B128//asl_classifier.xmodel\"\n",
      "[UNILOG][INFO] The compiled xmodel's md5sum is 4dc0e42b82ecb12a4ee639d38e05719e, and has been saved to \"/workspace/./model_mobilenetv2/B128/md5sum.txt\"\n"
     ]
    }
   ],
   "source": [
    "!vai_c_tensorflow2 \\\n",
    "    --model ./tf2_asl_classifier25_quantized.h5 \\\n",
    "    --arch ./arch/B4096/arch-zcu104.json \\\n",
    "    --output_dir ./model_mobilenetv2/B4096/ \\\n",
    "    --net_name asl_classifier\n",
    "\n",
    "!vai_c_tensorflow2 \\\n",
    "    --model ./tf2_asl_classifier25_quantized.h5 \\\n",
    "    --arch ./arch/B3136/arch-kv260.json \\\n",
    "    --output_dir ./model_mobilenetv2/B3136/ \\\n",
    "    --net_name asl_classifier\n",
    "\n",
    "!vai_c_tensorflow2 \\\n",
    "    --model ./tf2_asl_classifier25_quantized.h5 \\\n",
    "    --arch ./arch/B2304/arch-b2304-lr.json \\\n",
    "    --output_dir ./model_mobilenetv2/B2304/ \\\n",
    "    --net_name asl_classifier\n",
    "\n",
    "!vai_c_tensorflow2 \\\n",
    "    --model ./tf2_asl_classifier25_quantized.h5 \\\n",
    "    --arch ./arch/B1152/arch-b1152-hr.json \\\n",
    "    --output_dir ./model_mobilenetv2/B1152/ \\\n",
    "    --net_name asl_classifier\n",
    "\n",
    "!vai_c_tensorflow2 \\\n",
    "    --model ./tf2_asl_classifier25_quantized.h5 \\\n",
    "    --arch ./arch/B512/arch-b512-lr.json \\\n",
    "    --output_dir ./model_mobilenetv2/B512/ \\\n",
    "    --net_name asl_classifier\n",
    "\n",
    "!vai_c_tensorflow2 \\\n",
    "    --model ./tf2_asl_classifier25_quantized.h5 \\\n",
    "    --arch ./arch/B128/arch-b128-lr.json \\\n",
    "    --output_dir ./model_mobilenetv2/B128/ \\\n",
    "    --net_name asl_classifier\n"
   ]
  },
  {
   "cell_type": "markdown",
   "id": "0e78e2b5",
   "metadata": {},
   "source": [
    "## 6 Conclusion"
   ]
  },
  {
   "cell_type": "markdown",
   "id": "d3256950",
   "metadata": {},
   "source": [
    "In this notebook, we showed how to quantize and compile a TensorFlow2 model with Vitis-AI for deployment on AMD Zynq-UltraScale+ devices. "
   ]
  }
 ],
 "metadata": {
  "accelerator": "GPU",
  "colab": {
   "name": "c4_03_15a_ASL150_VGG_TransferLearn_FineTune_Conv2D_Train_Dense.ipynb",
   "provenance": []
  },
  "kernelspec": {
   "display_name": "Python 3 (ipykernel)",
   "language": "python",
   "name": "python3"
  },
  "language_info": {
   "codemirror_mode": {
    "name": "ipython",
    "version": 3
   },
   "file_extension": ".py",
   "mimetype": "text/x-python",
   "name": "python",
   "nbconvert_exporter": "python",
   "pygments_lexer": "ipython3",
   "version": "3.7.8"
  },
  "latex_envs": {
   "LaTeX_envs_menu_present": true,
   "autoclose": false,
   "autocomplete": true,
   "bibliofile": "biblio.bib",
   "cite_by": "apalike",
   "current_citInitial": 1,
   "eqLabelWithNumbers": true,
   "eqNumInitial": 1,
   "hotkeys": {
    "equation": "Ctrl-E",
    "itemize": "Ctrl-I"
   },
   "labels_anchors": false,
   "latex_user_defs": false,
   "report_style_numbering": false,
   "user_envs_cfg": false
  },
  "toc": {
   "base_numbering": 1,
   "nav_menu": {},
   "number_sections": false,
   "sideBar": true,
   "skip_h1_title": false,
   "title_cell": "Table of Contents",
   "title_sidebar": "Contents",
   "toc_cell": false,
   "toc_position": {},
   "toc_section_display": true,
   "toc_window_display": true
  },
  "varInspector": {
   "cols": {
    "lenName": 16,
    "lenType": 16,
    "lenVar": 40
   },
   "kernels_config": {
    "python": {
     "delete_cmd_postfix": "",
     "delete_cmd_prefix": "del ",
     "library": "var_list.py",
     "varRefreshCmd": "print(var_dic_list())"
    },
    "r": {
     "delete_cmd_postfix": ") ",
     "delete_cmd_prefix": "rm(",
     "library": "var_list.r",
     "varRefreshCmd": "cat(var_dic_list()) "
    }
   },
   "types_to_exclude": [
    "module",
    "function",
    "builtin_function_or_method",
    "instance",
    "_Feature"
   ],
   "window_display": false
  }
 },
 "nbformat": 4,
 "nbformat_minor": 5
}
