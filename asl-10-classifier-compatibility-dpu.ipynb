{
 "cells": [
  {
   "cell_type": "markdown",
   "id": "981b6bce",
   "metadata": {
    "id": "2321d8cb"
   },
   "source": [
    "<h1 style=\"font-size:30px;\">Verifying the ASL Classifier for DPU compatibility</h1>  \n",
    "\n",
    "In this notebook, we start with a model pre-trained for imagenet, ad verify if it is compatible with the DPU core.  This step is an important sanity check that should be performed BEFORE training.\n",
    "\n",
    "**The proposed compatibility checking technique is summarized below:**\n",
    "\n",
    "1. Instantiate our candidate model\n",
    "2. Inspect model for Vitis-AI_DPU compatibility\n",
    "3. Add our custom classifier layer for the ASL dataset\n",
    "4. Inspect model for Vitis-AI_DPU compatibility\n",
    "5. Iterate until a compatible model has been defined\n",
    "\n",
    "<img src='https://github.com/AlbertaBeef/asl_tutorial/raw/2022.2/images/VGG16_03_asl_vitis_ai.png' width=1000 align='center'><br/>"
   ]
  },
  {
   "cell_type": "markdown",
   "id": "5f34a170",
   "metadata": {
    "id": "f5f452f7"
   },
   "source": [
    "## Table of Contents\n",
    "* [1 System Configuration](#1-System-Configuration)\n",
    "* [2 Dataset and Training Configuration](#2-Dataset-and-Training-Configuration)\n",
    "* [3 Inspecting the Original Model](#4-Inspecing-the-Original-Model)\n",
    "* [4 Inspecting the Modified Model](#5-Inspecing-the-Modified-Model)\n",
    "* [5 Conclusion](#6-Conclusion)"
   ]
  },
  {
   "cell_type": "code",
   "execution_count": 1,
   "id": "3426dc1e",
   "metadata": {
    "execution": {
     "iopub.execute_input": "2023-04-19T17:13:05.373471Z",
     "iopub.status.busy": "2023-04-19T17:13:05.372872Z",
     "iopub.status.idle": "2023-04-19T17:13:14.322735Z",
     "shell.execute_reply": "2023-04-19T17:13:14.321609Z",
     "shell.execute_reply.started": "2023-04-19T17:13:05.373431Z"
    },
    "id": "0d103ad0"
   },
   "outputs": [
    {
     "name": "stderr",
     "output_type": "stream",
     "text": [
      "2023-04-24 10:50:16.614065: I tensorflow/core/platform/cpu_feature_guard.cc:193] This TensorFlow binary is optimized with oneAPI Deep Neural Network Library (oneDNN) to use the following CPU instructions in performance-critical operations:  SSE3 SSE4.1 SSE4.2 AVX AVX2 AVX512F AVX512_VNNI FMA\n",
      "To enable them in other operations, rebuild TensorFlow with the appropriate compiler flags.\n",
      "2023-04-24 10:50:16.748555: I tensorflow/core/util/util.cc:169] oneDNN custom operations are on. You may see slightly different numerical results due to floating-point round-off errors from different computation orders. To turn them off, set the environment variable `TF_ENABLE_ONEDNN_OPTS=0`.\n"
     ]
    }
   ],
   "source": [
    "import tensorflow as tf\n",
    "from tensorflow import keras\n",
    "from tensorflow.keras import layers\n",
    "import random\n",
    "import numpy as np\n",
    "import os\n",
    "import matplotlib.pyplot as plt\n",
    "import cv2\n",
    "import zipfile\n",
    "import requests\n",
    "import glob as glob\n",
    "\n",
    "from tensorflow.keras.utils import image_dataset_from_directory\n",
    "\n",
    "from matplotlib.ticker import (MultipleLocator, FormatStrFormatter)\n",
    "from dataclasses import dataclass \n",
    "\n",
    "block_plot = False\n",
    "plt.rcParams['figure.figsize'] = (12, 9)\n",
    "SEED_VALUE = 42 "
   ]
  },
  {
   "cell_type": "markdown",
   "id": "b8494ad7",
   "metadata": {
    "id": "bc61afbd"
   },
   "source": [
    "## 1 System Configuration"
   ]
  },
  {
   "cell_type": "code",
   "execution_count": 2,
   "id": "a33ee7ee",
   "metadata": {
    "colab": {
     "base_uri": "https://localhost:8080/"
    },
    "execution": {
     "iopub.execute_input": "2023-04-19T17:13:14.325334Z",
     "iopub.status.busy": "2023-04-19T17:13:14.324623Z",
     "iopub.status.idle": "2023-04-19T17:13:14.643096Z",
     "shell.execute_reply": "2023-04-19T17:13:14.641194Z",
     "shell.execute_reply.started": "2023-04-19T17:13:14.325302Z"
    },
    "id": "450b9a9a",
    "outputId": "4b0ff0e3-fc7d-4689-a8f4-953b7b7fa392"
   },
   "outputs": [
    {
     "name": "stdout",
     "output_type": "stream",
     "text": [
      "[]\n",
      "Using CPU\n"
     ]
    }
   ],
   "source": [
    "def system_config():\n",
    "    \n",
    "    # Get list of GPUs.\n",
    "    gpu_devices = tf.config.list_physical_devices('GPU')\n",
    "    print(gpu_devices)\n",
    "    \n",
    "    if len(gpu_devices) > 0:\n",
    "        print('Using GPU')\n",
    "        os.environ[\"CUDA_VISIBLE_DEVICES\"] = '0'\n",
    "        os.environ['TF_CUDNN_DETERMINISTIC'] = '1' \n",
    "        \n",
    "        # If there are any gpu devices, use first gpu.\n",
    "        tf.config.experimental.set_visible_devices(gpu_devices[0], 'GPU')\n",
    "        \n",
    "        # Grow the memory usage as it is needed by the process.\n",
    "        tf.config.experimental.set_memory_growth(gpu_devices[0], True)\n",
    "        \n",
    "        # Enable using cudNN.\n",
    "        os.environ['TF_USE_CUDNN'] = \"true\"\n",
    "    else:\n",
    "        print('Using CPU')\n",
    "\n",
    "system_config()"
   ]
  },
  {
   "cell_type": "markdown",
   "id": "dff23da4",
   "metadata": {},
   "source": [
    "## 2 Dataset Configuration"
   ]
  },
  {
   "cell_type": "code",
   "execution_count": 3,
   "id": "c436607e",
   "metadata": {},
   "outputs": [],
   "source": [
    "@dataclass(frozen=True)\n",
    "class DatasetConfig:\n",
    "    NUM_CLASSES: int = 29\n",
    "    IMG_HEIGHT:  int = 224\n",
    "    IMG_WIDTH:   int = 224\n",
    "    CHANNELS:    int = 3\n",
    "    BATCH_SIZE:  int = 32\n",
    "    DATA_ROOT:   str = './dataset_ASL_reduced'"
   ]
  },
  {
   "cell_type": "markdown",
   "id": "d32b3b12",
   "metadata": {
    "id": "0186a9b2"
   },
   "source": [
    "## 3 Inspecting the Original Model"
   ]
  },
  {
   "cell_type": "markdown",
   "id": "3c4fca9b",
   "metadata": {},
   "source": [
    "### 3.1 Create the original VGG-16 model\n",
    "\n",
    "The Keras API provides the following utility that is used to instantiate a VGG-16 model, which can be initialized with either pre-trained weights from ImageNet or random initial weights. **In this notebook, we will load the model with weights from the ImageNet dataset** as a starting point for **Training.** For more information on the VGG-16 model available in Keras, refer to the: <a href=\"https://www.tensorflow.org/api_docs/python/tf/keras/applications/vgg16/VGG16\" target=\"_blank\">Keras VGG-16 Model API</a>\n",
    "\n",
    "```python\n",
    "tf.keras.applications.vgg16.VGG16(include_top=True, \n",
    "                                  weights='imagenet', \n",
    "                                  input_tensor=None,\n",
    "                                  input_shape=None, \n",
    "                                  pooling=None, \n",
    "                                  classes=1000,\n",
    "                                  classifier_activation='softmax',\n",
    "                                 )\n",
    "```\n",
    "\n",
    "<img src='https://github.com/AlbertaBeef/asl_tutorial/raw/2022.2/images/VGG16_01_imagenet.png' width=1000 align='center'><br/>"
   ]
  },
  {
   "cell_type": "code",
   "execution_count": 4,
   "id": "8eb43828",
   "metadata": {
    "execution": {
     "iopub.execute_input": "2023-04-19T17:13:14.691236Z",
     "iopub.status.busy": "2023-04-19T17:13:14.690847Z",
     "iopub.status.idle": "2023-04-19T17:13:22.796433Z",
     "shell.execute_reply": "2023-04-19T17:13:22.795249Z",
     "shell.execute_reply.started": "2023-04-19T17:13:14.691198Z"
    }
   },
   "outputs": [
    {
     "name": "stdout",
     "output_type": "stream",
     "text": [
      "Create an VGG16 model along with the imagenet pre-trained weights.\n"
     ]
    },
    {
     "name": "stderr",
     "output_type": "stream",
     "text": [
      "2023-04-24 10:50:18.687724: I tensorflow/core/platform/cpu_feature_guard.cc:193] This TensorFlow binary is optimized with oneAPI Deep Neural Network Library (oneDNN) to use the following CPU instructions in performance-critical operations:  SSE3 SSE4.1 SSE4.2 AVX AVX2 AVX512F AVX512_VNNI FMA\n",
      "To enable them in other operations, rebuild TensorFlow with the appropriate compiler flags.\n"
     ]
    }
   ],
   "source": [
    "print('Create an VGG16 model along with the imagenet pre-trained weights.')\n",
    "input_shape = (DatasetConfig.IMG_HEIGHT, DatasetConfig.IMG_WIDTH, DatasetConfig.CHANNELS)\n",
    "vgg16_model = tf.keras.applications.vgg16.VGG16(input_shape=input_shape,\n",
    "                                                include_top=True,\n",
    "                                                weights='imagenet',\n",
    "                                               )"
   ]
  },
  {
   "cell_type": "code",
   "execution_count": 5,
   "id": "1bef5c2c",
   "metadata": {
    "execution": {
     "iopub.execute_input": "2023-04-19T17:13:22.798239Z",
     "iopub.status.busy": "2023-04-19T17:13:22.797874Z",
     "iopub.status.idle": "2023-04-19T17:13:22.859192Z",
     "shell.execute_reply": "2023-04-19T17:13:22.858362Z",
     "shell.execute_reply.started": "2023-04-19T17:13:22.798202Z"
    }
   },
   "outputs": [
    {
     "name": "stdout",
     "output_type": "stream",
     "text": [
      "Model: \"vgg16\"\n",
      "_________________________________________________________________\n",
      " Layer (type)                Output Shape              Param #   \n",
      "=================================================================\n",
      " input_1 (InputLayer)        [(None, 224, 224, 3)]     0         \n",
      "                                                                 \n",
      " block1_conv1 (Conv2D)       (None, 224, 224, 64)      1792      \n",
      "                                                                 \n",
      " block1_conv2 (Conv2D)       (None, 224, 224, 64)      36928     \n",
      "                                                                 \n",
      " block1_pool (MaxPooling2D)  (None, 112, 112, 64)      0         \n",
      "                                                                 \n",
      " block2_conv1 (Conv2D)       (None, 112, 112, 128)     73856     \n",
      "                                                                 \n",
      " block2_conv2 (Conv2D)       (None, 112, 112, 128)     147584    \n",
      "                                                                 \n",
      " block2_pool (MaxPooling2D)  (None, 56, 56, 128)       0         \n",
      "                                                                 \n",
      " block3_conv1 (Conv2D)       (None, 56, 56, 256)       295168    \n",
      "                                                                 \n",
      " block3_conv2 (Conv2D)       (None, 56, 56, 256)       590080    \n",
      "                                                                 \n",
      " block3_conv3 (Conv2D)       (None, 56, 56, 256)       590080    \n",
      "                                                                 \n",
      " block3_pool (MaxPooling2D)  (None, 28, 28, 256)       0         \n",
      "                                                                 \n",
      " block4_conv1 (Conv2D)       (None, 28, 28, 512)       1180160   \n",
      "                                                                 \n",
      " block4_conv2 (Conv2D)       (None, 28, 28, 512)       2359808   \n",
      "                                                                 \n",
      " block4_conv3 (Conv2D)       (None, 28, 28, 512)       2359808   \n",
      "                                                                 \n",
      " block4_pool (MaxPooling2D)  (None, 14, 14, 512)       0         \n",
      "                                                                 \n",
      " block5_conv1 (Conv2D)       (None, 14, 14, 512)       2359808   \n",
      "                                                                 \n",
      " block5_conv2 (Conv2D)       (None, 14, 14, 512)       2359808   \n",
      "                                                                 \n",
      " block5_conv3 (Conv2D)       (None, 14, 14, 512)       2359808   \n",
      "                                                                 \n",
      " block5_pool (MaxPooling2D)  (None, 7, 7, 512)         0         \n",
      "                                                                 \n",
      " flatten (Flatten)           (None, 25088)             0         \n",
      "                                                                 \n",
      " fc1 (Dense)                 (None, 4096)              102764544 \n",
      "                                                                 \n",
      " fc2 (Dense)                 (None, 4096)              16781312  \n",
      "                                                                 \n",
      " predictions (Dense)         (None, 1000)              4097000   \n",
      "                                                                 \n",
      "=================================================================\n",
      "Total params: 138,357,544\n",
      "Trainable params: 138,357,544\n",
      "Non-trainable params: 0\n",
      "_________________________________________________________________\n",
      "None\n"
     ]
    }
   ],
   "source": [
    "print(vgg16_model.summary())"
   ]
  },
  {
   "cell_type": "markdown",
   "id": "52c5a7b1",
   "metadata": {},
   "source": [
    "### 3.2 Inspect the original VGG-16 model"
   ]
  },
  {
   "cell_type": "code",
   "execution_count": 6,
   "id": "0c609396",
   "metadata": {},
   "outputs": [],
   "source": [
    "from tensorflow_model_optimization.quantization.keras import vitis_inspect"
   ]
  },
  {
   "cell_type": "code",
   "execution_count": 7,
   "id": "6708cc9b",
   "metadata": {},
   "outputs": [
    {
     "name": "stdout",
     "output_type": "stream",
     "text": [
      "{\"fingerprint\":\"0x101000016010200\"}\r\n"
     ]
    }
   ],
   "source": [
    "!cat ./arch/B512/arch-b512-lr.json"
   ]
  },
  {
   "cell_type": "code",
   "execution_count": 8,
   "id": "2ecfa591",
   "metadata": {},
   "outputs": [],
   "source": [
    "inspector = vitis_inspect.VitisInspector(target=\"0x101000016010200\")"
   ]
  },
  {
   "cell_type": "code",
   "execution_count": 9,
   "id": "9c5aa817",
   "metadata": {},
   "outputs": [
    {
     "name": "stdout",
     "output_type": "stream",
     "text": [
      "[VAI INFO] Update include_bias_corr: False\n",
      "[VAI INFO] Update include_fast_ft: False\n",
      "[VAI INFO] Update include_cle: False\n",
      "[INFO] Namespace(batchsize=1, inputs_shape=None, layout='NHWC', model_files=['/tmp/albertabeef/tensorflow_model_optimization/tmp_sub_graph_quantized_20230424-105025-513856_hvxJKr.h5'], model_type='tensorflow2', named_inputs_shape=None, out_filename='/tmp/albertabeef/tensorflow_model_optimization/tmp_sub_graph_xnnc_20230424-105025-513856_hvxJKr.xmodel', proto=None)\n",
      "[INFO] tensorflow2 model: /tmp/albertabeef/tensorflow_model_optimization/tmp_sub_graph_quantized_20230424-105025-513856_hvxJKr.h5\n",
      "[INFO] keras version: 2.10.0\n",
      "[INFO] Tensorflow Keras model type: functional\n"
     ]
    },
    {
     "name": "stderr",
     "output_type": "stream",
     "text": [
      "[INFO] parse raw model     :100%|██████████████████████████████████| 3/3 [00:00<00:00, 2376.38it/s]                  \n",
      "[INFO] infer shape (NHWC)  :100%|██████████████████████████████████| 4/4 [00:00<00:00, 167.06it/s]                   \n",
      "[INFO] perform level-0 opt :100%|██████████████████████████████████| 1/1 [00:00<00:00, 2570.04it/s]                  \n",
      "[INFO] perform level-1 opt :100%|██████████████████████████████████| 2/2 [00:00<00:00, 6978.88it/s]                  \n",
      "[INFO] generate xmodel     :100%|██████████████████████████████████| 4/4 [00:00<00:00, 2969.94it/s]                  \n",
      "WARNING: Logging before InitGoogleLogging() is written to STDERR\n",
      "I20230424 10:50:26.729082  5824 compile_pass_manager.cpp:287] [UNILOG][INFO] Compile mode: dpu\n",
      "I20230424 10:50:26.729112  5824 compile_pass_manager.cpp:288] [UNILOG][INFO] Debug mode: null\n",
      "I20230424 10:50:26.729127  5824 compile_pass_manager.cpp:292] [UNILOG][INFO] Target architecture: DPUCZDX8G_ISA1_B512_0101000016010200\n",
      "I20230424 10:50:26.729360  5824 compile_pass_manager.cpp:357] [UNILOG][INFO] Graph name: model, with op num: 4\n",
      "I20230424 10:50:26.729369  5824 compile_pass_manager.cpp:370] [UNILOG][INFO] Begin to compile...\n",
      "I20230424 10:50:26.733847  5824 compile_pass_manager.cpp:381] [UNILOG][INFO] Total device subgraph number 3, DPU subgraph number 1\n",
      "I20230424 10:50:26.733878  5824 compile_pass_manager.cpp:386] [UNILOG][INFO] Compile done.\n"
     ]
    },
    {
     "name": "stdout",
     "output_type": "stream",
     "text": [
      "[INFO] dump xmodel ...\r",
      "[INFO] dump xmodel: /tmp/albertabeef/tensorflow_model_optimization/tmp_sub_graph_xnnc_20230424-105025-513856_hvxJKr.xmodel\n",
      "[INFO] Namespace(batchsize=1, inputs_shape=None, layout='NHWC', model_files=['/tmp/albertabeef/tensorflow_model_optimization/tmp_sub_graph_quantized_20230424-105025-513856_hvxJKr.h5'], model_type='tensorflow2', named_inputs_shape=None, out_filename='/tmp/albertabeef/tensorflow_model_optimization/tmp_sub_graph_xnnc_20230424-105025-513856_hvxJKr.xmodel', proto=None)\n",
      "[INFO] tensorflow2 model: /tmp/albertabeef/tensorflow_model_optimization/tmp_sub_graph_quantized_20230424-105025-513856_hvxJKr.h5\n",
      "[INFO] keras version: 2.10.0\n",
      "[INFO] Tensorflow Keras model type: functional\n"
     ]
    },
    {
     "name": "stderr",
     "output_type": "stream",
     "text": [
      "[INFO] parse raw model     :100%|██████████████████████████████████| 3/3 [00:00<00:00, 11356.42it/s]                 \n",
      "[INFO] infer shape (NHWC)  :100%|██████████████████████████████████| 4/4 [00:00<00:00, 489.20it/s]                   \n",
      "[INFO] perform level-0 opt :100%|██████████████████████████████████| 1/1 [00:00<00:00, 2892.62it/s]                  \n",
      "[INFO] perform level-1 opt :100%|██████████████████████████████████| 2/2 [00:00<00:00, 5874.38it/s]                  \n",
      "[INFO] generate xmodel     :100%|██████████████████████████████████| 4/4 [00:00<00:00, 1664.41it/s]                  "
     ]
    },
    {
     "name": "stdout",
     "output_type": "stream",
     "text": [
      "[INFO] dump xmodel ...\r",
      "[INFO] dump xmodel: /tmp/albertabeef/tensorflow_model_optimization/tmp_sub_graph_xnnc_20230424-105025-513856_hvxJKr.xmodel\n"
     ]
    },
    {
     "name": "stderr",
     "output_type": "stream",
     "text": [
      "\n",
      "I20230424 10:50:26.833585  5824 compile_pass_manager.cpp:287] [UNILOG][INFO] Compile mode: dpu\n",
      "I20230424 10:50:26.833631  5824 compile_pass_manager.cpp:288] [UNILOG][INFO] Debug mode: null\n",
      "I20230424 10:50:26.833650  5824 compile_pass_manager.cpp:292] [UNILOG][INFO] Target architecture: DPUCZDX8G_ISA1_B512_0101000016010200\n",
      "I20230424 10:50:26.833772  5824 compile_pass_manager.cpp:357] [UNILOG][INFO] Graph name: model_1, with op num: 4\n",
      "I20230424 10:50:26.833791  5824 compile_pass_manager.cpp:370] [UNILOG][INFO] Begin to compile...\n",
      "I20230424 10:50:26.841383  5824 compile_pass_manager.cpp:381] [UNILOG][INFO] Total device subgraph number 3, DPU subgraph number 1\n",
      "I20230424 10:50:26.841430  5824 compile_pass_manager.cpp:386] [UNILOG][INFO] Compile done.\n"
     ]
    },
    {
     "name": "stdout",
     "output_type": "stream",
     "text": [
      "[INFO] Namespace(batchsize=1, inputs_shape=None, layout='NHWC', model_files=['/tmp/albertabeef/tensorflow_model_optimization/tmp_sub_graph_quantized_20230424-105025-513856_hvxJKr.h5'], model_type='tensorflow2', named_inputs_shape=None, out_filename='/tmp/albertabeef/tensorflow_model_optimization/tmp_sub_graph_xnnc_20230424-105025-513856_hvxJKr.xmodel', proto=None)\n",
      "[INFO] tensorflow2 model: /tmp/albertabeef/tensorflow_model_optimization/tmp_sub_graph_quantized_20230424-105025-513856_hvxJKr.h5\n",
      "[INFO] keras version: 2.10.0\n",
      "[INFO] Tensorflow Keras model type: functional\n"
     ]
    },
    {
     "name": "stderr",
     "output_type": "stream",
     "text": [
      "[INFO] parse raw model     :100%|██████████████████████████████████| 3/3 [00:00<00:00, 9861.22it/s]                  \n",
      "[INFO] infer shape (NHWC)  :100%|██████████████████████████████████| 4/4 [00:00<00:00, 800.75it/s]                   \n",
      "[INFO] perform level-0 opt :100%|██████████████████████████████████| 1/1 [00:00<00:00, 3206.65it/s]                  \n",
      "[INFO] perform level-1 opt :100%|██████████████████████████████████| 2/2 [00:00<00:00, 9446.63it/s]                  \n",
      "[INFO] generate xmodel     :100%|██████████████████████████████████| 4/4 [00:00<00:00, 1666.06it/s]                  \n",
      "I20230424 10:50:26.943454  5824 compile_pass_manager.cpp:287] [UNILOG][INFO] Compile mode: dpu\n",
      "I20230424 10:50:26.943495  5824 compile_pass_manager.cpp:288] [UNILOG][INFO] Debug mode: null\n",
      "I20230424 10:50:26.943509  5824 compile_pass_manager.cpp:292] [UNILOG][INFO] Target architecture: DPUCZDX8G_ISA1_B512_0101000016010200\n",
      "I20230424 10:50:26.943612  5824 compile_pass_manager.cpp:357] [UNILOG][INFO] Graph name: model_2, with op num: 4\n",
      "I20230424 10:50:26.943627  5824 compile_pass_manager.cpp:370] [UNILOG][INFO] Begin to compile...\n",
      "I20230424 10:50:26.951020  5824 compile_pass_manager.cpp:381] [UNILOG][INFO] Total device subgraph number 3, DPU subgraph number 1\n",
      "I20230424 10:50:26.951064  5824 compile_pass_manager.cpp:386] [UNILOG][INFO] Compile done.\n"
     ]
    },
    {
     "name": "stdout",
     "output_type": "stream",
     "text": [
      "[INFO] dump xmodel ...\r",
      "[INFO] dump xmodel: /tmp/albertabeef/tensorflow_model_optimization/tmp_sub_graph_xnnc_20230424-105025-513856_hvxJKr.xmodel\n",
      "[INFO] Namespace(batchsize=1, inputs_shape=None, layout='NHWC', model_files=['/tmp/albertabeef/tensorflow_model_optimization/tmp_sub_graph_quantized_20230424-105025-513856_hvxJKr.h5'], model_type='tensorflow2', named_inputs_shape=None, out_filename='/tmp/albertabeef/tensorflow_model_optimization/tmp_sub_graph_xnnc_20230424-105025-513856_hvxJKr.xmodel', proto=None)\n",
      "[INFO] tensorflow2 model: /tmp/albertabeef/tensorflow_model_optimization/tmp_sub_graph_quantized_20230424-105025-513856_hvxJKr.h5\n",
      "[INFO] keras version: 2.10.0\n",
      "[INFO] Tensorflow Keras model type: functional\n"
     ]
    },
    {
     "name": "stderr",
     "output_type": "stream",
     "text": [
      "[INFO] parse raw model     :100%|██████████████████████████████████| 3/3 [00:00<00:00, 10139.33it/s]                 \n",
      "[INFO] infer shape (NHWC)  :100%|██████████████████████████████████| 4/4 [00:00<00:00, 3289.65it/s]                  \n",
      "[INFO] perform level-0 opt :100%|██████████████████████████████████| 1/1 [00:00<00:00, 2502.57it/s]                  \n",
      "[INFO] perform level-1 opt :100%|██████████████████████████████████| 2/2 [00:00<00:00, 7133.17it/s]                  \n",
      "[INFO] generate xmodel     :100%|██████████████████████████████████| 4/4 [00:00<00:00, 2013.59it/s]                  "
     ]
    },
    {
     "name": "stdout",
     "output_type": "stream",
     "text": [
      "[INFO] dump xmodel ...\r",
      "[INFO] dump xmodel: /tmp/albertabeef/tensorflow_model_optimization/tmp_sub_graph_xnnc_20230424-105025-513856_hvxJKr.xmodel\n"
     ]
    },
    {
     "name": "stderr",
     "output_type": "stream",
     "text": [
      "\n",
      "I20230424 10:50:27.047474  5824 compile_pass_manager.cpp:287] [UNILOG][INFO] Compile mode: dpu\n",
      "I20230424 10:50:27.047514  5824 compile_pass_manager.cpp:288] [UNILOG][INFO] Debug mode: null\n",
      "I20230424 10:50:27.047531  5824 compile_pass_manager.cpp:292] [UNILOG][INFO] Target architecture: DPUCZDX8G_ISA1_B512_0101000016010200\n",
      "I20230424 10:50:27.047636  5824 compile_pass_manager.cpp:357] [UNILOG][INFO] Graph name: model_3, with op num: 4\n",
      "I20230424 10:50:27.047652  5824 compile_pass_manager.cpp:370] [UNILOG][INFO] Begin to compile...\n",
      "I20230424 10:50:27.054867  5824 compile_pass_manager.cpp:381] [UNILOG][INFO] Total device subgraph number 3, DPU subgraph number 1\n",
      "I20230424 10:50:27.054901  5824 compile_pass_manager.cpp:386] [UNILOG][INFO] Compile done.\n"
     ]
    },
    {
     "name": "stdout",
     "output_type": "stream",
     "text": [
      "[INFO] Namespace(batchsize=1, inputs_shape=None, layout='NHWC', model_files=['/tmp/albertabeef/tensorflow_model_optimization/tmp_sub_graph_quantized_20230424-105025-513856_hvxJKr.h5'], model_type='tensorflow2', named_inputs_shape=None, out_filename='/tmp/albertabeef/tensorflow_model_optimization/tmp_sub_graph_xnnc_20230424-105025-513856_hvxJKr.xmodel', proto=None)\n",
      "[INFO] tensorflow2 model: /tmp/albertabeef/tensorflow_model_optimization/tmp_sub_graph_quantized_20230424-105025-513856_hvxJKr.h5\n",
      "[INFO] keras version: 2.10.0\n",
      "[INFO] Tensorflow Keras model type: functional\n"
     ]
    },
    {
     "name": "stderr",
     "output_type": "stream",
     "text": [
      "[INFO] parse raw model     :100%|██████████████████████████████████| 3/3 [00:00<00:00, 4465.19it/s]                  \n",
      "[INFO] infer shape (NHWC)  :100%|██████████████████████████████████| 4/4 [00:00<00:00, 3967.18it/s]                  \n",
      "[INFO] perform level-0 opt :100%|██████████████████████████████████| 1/1 [00:00<00:00, 1871.62it/s]                  \n",
      "[INFO] perform level-1 opt :100%|██████████████████████████████████| 2/2 [00:00<00:00, 4771.68it/s]                  \n",
      "[INFO] generate xmodel     :100%|██████████████████████████████████| 4/4 [00:00<00:00, 2696.43it/s]                  \n",
      "I20230424 10:50:27.161005  5824 compile_pass_manager.cpp:287] [UNILOG][INFO] Compile mode: dpu\n",
      "I20230424 10:50:27.161048  5824 compile_pass_manager.cpp:288] [UNILOG][INFO] Debug mode: null\n",
      "I20230424 10:50:27.161064  5824 compile_pass_manager.cpp:292] [UNILOG][INFO] Target architecture: DPUCZDX8G_ISA1_B512_0101000016010200\n",
      "I20230424 10:50:27.161178  5824 compile_pass_manager.cpp:357] [UNILOG][INFO] Graph name: model_4, with op num: 4\n",
      "I20230424 10:50:27.161192  5824 compile_pass_manager.cpp:370] [UNILOG][INFO] Begin to compile...\n",
      "I20230424 10:50:27.168424  5824 compile_pass_manager.cpp:381] [UNILOG][INFO] Total device subgraph number 3, DPU subgraph number 1\n",
      "I20230424 10:50:27.168464  5824 compile_pass_manager.cpp:386] [UNILOG][INFO] Compile done.\n"
     ]
    },
    {
     "name": "stdout",
     "output_type": "stream",
     "text": [
      "[INFO] dump xmodel: /tmp/albertabeef/tensorflow_model_optimization/tmp_sub_graph_xnnc_20230424-105025-513856_hvxJKr.xmodel\n",
      "[INFO] Namespace(batchsize=1, inputs_shape=None, layout='NHWC', model_files=['/tmp/albertabeef/tensorflow_model_optimization/tmp_sub_graph_quantized_20230424-105025-516039_GsEbFx.h5'], model_type='tensorflow2', named_inputs_shape=None, out_filename='/tmp/albertabeef/tensorflow_model_optimization/tmp_sub_graph_xnnc_20230424-105025-516039_GsEbFx.xmodel', proto=None)\n",
      "[INFO] tensorflow2 model: /tmp/albertabeef/tensorflow_model_optimization/tmp_sub_graph_quantized_20230424-105025-516039_GsEbFx.h5\n",
      "[INFO] keras version: 2.10.0\n",
      "[INFO] Tensorflow Keras model type: functional\n"
     ]
    },
    {
     "name": "stderr",
     "output_type": "stream",
     "text": [
      "[INFO] parse raw model     :100%|██████████████████████████████████| 4/4 [00:00<00:00, 4601.54it/s]                  \n",
      "[INFO] infer shape (NHWC)  :100%|██████████████████████████████████| 5/5 [00:00<00:00, 293.21it/s]                   \n",
      "[INFO] perform level-0 opt :100%|██████████████████████████████████| 1/1 [00:00<00:00, 1687.17it/s]                  \n",
      "[INFO] perform level-1 opt :100%|██████████████████████████████████| 2/2 [00:00<00:00, 5269.23it/s]                  \n",
      "[INFO] generate xmodel     :100%|██████████████████████████████████| 5/5 [00:00<00:00, 2052.01it/s]                  "
     ]
    },
    {
     "name": "stdout",
     "output_type": "stream",
     "text": [
      "[INFO] dump xmodel ...\r",
      "[INFO] dump xmodel: /tmp/albertabeef/tensorflow_model_optimization/tmp_sub_graph_xnnc_20230424-105025-516039_GsEbFx.xmodel\n"
     ]
    },
    {
     "name": "stderr",
     "output_type": "stream",
     "text": [
      "\n",
      "I20230424 10:50:27.317767  5824 compile_pass_manager.cpp:287] [UNILOG][INFO] Compile mode: dpu\n",
      "I20230424 10:50:27.317791  5824 compile_pass_manager.cpp:288] [UNILOG][INFO] Debug mode: null\n",
      "I20230424 10:50:27.317800  5824 compile_pass_manager.cpp:292] [UNILOG][INFO] Target architecture: DPUCZDX8G_ISA1_B512_0101000016010200\n",
      "I20230424 10:50:27.317871  5824 compile_pass_manager.cpp:357] [UNILOG][INFO] Graph name: model_5, with op num: 9\n",
      "I20230424 10:50:27.317880  5824 compile_pass_manager.cpp:370] [UNILOG][INFO] Begin to compile...\n",
      "I20230424 10:50:27.324894  5824 compile_pass_manager.cpp:381] [UNILOG][INFO] Total device subgraph number 3, DPU subgraph number 1\n",
      "I20230424 10:50:27.324947  5824 compile_pass_manager.cpp:386] [UNILOG][INFO] Compile done.\n"
     ]
    },
    {
     "name": "stdout",
     "output_type": "stream",
     "text": [
      "[INFO] Namespace(batchsize=1, inputs_shape=None, layout='NHWC', model_files=['/tmp/albertabeef/tensorflow_model_optimization/tmp_sub_graph_quantized_20230424-105025-516039_GsEbFx.h5'], model_type='tensorflow2', named_inputs_shape=None, out_filename='/tmp/albertabeef/tensorflow_model_optimization/tmp_sub_graph_xnnc_20230424-105025-516039_GsEbFx.xmodel', proto=None)\n",
      "[INFO] tensorflow2 model: /tmp/albertabeef/tensorflow_model_optimization/tmp_sub_graph_quantized_20230424-105025-516039_GsEbFx.h5\n",
      "[INFO] keras version: 2.10.0\n",
      "[INFO] Tensorflow Keras model type: functional\n"
     ]
    },
    {
     "name": "stderr",
     "output_type": "stream",
     "text": [
      "[INFO] parse raw model     :100%|██████████████████████████████████| 4/4 [00:00<00:00, 3833.04it/s]                  \n",
      "[INFO] infer shape (NHWC)  :100%|██████████████████████████████████| 5/5 [00:00<00:00, 305.33it/s]                   \n",
      "[INFO] perform level-0 opt :100%|██████████████████████████████████| 1/1 [00:00<00:00, 2592.28it/s]                  \n",
      "[INFO] perform level-1 opt :100%|██████████████████████████████████| 2/2 [00:00<00:00, 2728.89it/s]                  \n",
      "[INFO] generate xmodel     :100%|██████████████████████████████████| 5/5 [00:00<00:00, 3336.23it/s]                  \n",
      "I20230424 10:50:27.478682  5824 compile_pass_manager.cpp:287] [UNILOG][INFO] Compile mode: dpu\n",
      "I20230424 10:50:27.478722  5824 compile_pass_manager.cpp:288] [UNILOG][INFO] Debug mode: null\n",
      "I20230424 10:50:27.478737  5824 compile_pass_manager.cpp:292] [UNILOG][INFO] Target architecture: DPUCZDX8G_ISA1_B512_0101000016010200\n",
      "I20230424 10:50:27.478848  5824 compile_pass_manager.cpp:357] [UNILOG][INFO] Graph name: model_6, with op num: 9\n",
      "I20230424 10:50:27.478863  5824 compile_pass_manager.cpp:370] [UNILOG][INFO] Begin to compile...\n",
      "I20230424 10:50:27.491394  5824 compile_pass_manager.cpp:381] [UNILOG][INFO] Total device subgraph number 3, DPU subgraph number 1\n",
      "I20230424 10:50:27.491430  5824 compile_pass_manager.cpp:386] [UNILOG][INFO] Compile done.\n"
     ]
    },
    {
     "name": "stdout",
     "output_type": "stream",
     "text": [
      "[INFO] dump xmodel: /tmp/albertabeef/tensorflow_model_optimization/tmp_sub_graph_xnnc_20230424-105025-516039_GsEbFx.xmodel\n",
      "[INFO] Namespace(batchsize=1, inputs_shape=None, layout='NHWC', model_files=['/tmp/albertabeef/tensorflow_model_optimization/tmp_sub_graph_quantized_20230424-105025-516039_GsEbFx.h5'], model_type='tensorflow2', named_inputs_shape=None, out_filename='/tmp/albertabeef/tensorflow_model_optimization/tmp_sub_graph_xnnc_20230424-105025-516039_GsEbFx.xmodel', proto=None)\n",
      "[INFO] tensorflow2 model: /tmp/albertabeef/tensorflow_model_optimization/tmp_sub_graph_quantized_20230424-105025-516039_GsEbFx.h5\n",
      "[INFO] keras version: 2.10.0\n",
      "[INFO] Tensorflow Keras model type: functional\n"
     ]
    },
    {
     "name": "stderr",
     "output_type": "stream",
     "text": [
      "[INFO] parse raw model     :100%|██████████████████████████████████| 4/4 [00:00<00:00, 7250.31it/s]                  \n",
      "[INFO] infer shape (NHWC)  :100%|██████████████████████████████████| 5/5 [00:00<00:00, 631.05it/s]                   \n",
      "[INFO] perform level-0 opt :100%|██████████████████████████████████| 1/1 [00:00<00:00, 2763.05it/s]                  \n",
      "[INFO] perform level-1 opt :100%|██████████████████████████████████| 2/2 [00:00<00:00, 7175.88it/s]                  \n",
      "[INFO] generate xmodel     :100%|██████████████████████████████████| 5/5 [00:00<00:00, 1039.58it/s]                  \n",
      "I20230424 10:50:27.637965  5824 compile_pass_manager.cpp:287] [UNILOG][INFO] Compile mode: dpu\n",
      "I20230424 10:50:27.637998  5824 compile_pass_manager.cpp:288] [UNILOG][INFO] Debug mode: null\n",
      "I20230424 10:50:27.638010  5824 compile_pass_manager.cpp:292] [UNILOG][INFO] Target architecture: DPUCZDX8G_ISA1_B512_0101000016010200\n",
      "I20230424 10:50:27.638098  5824 compile_pass_manager.cpp:357] [UNILOG][INFO] Graph name: model_7, with op num: 9\n",
      "I20230424 10:50:27.638109  5824 compile_pass_manager.cpp:370] [UNILOG][INFO] Begin to compile...\n",
      "I20230424 10:50:27.651113  5824 compile_pass_manager.cpp:381] [UNILOG][INFO] Total device subgraph number 3, DPU subgraph number 1\n",
      "I20230424 10:50:27.651147  5824 compile_pass_manager.cpp:386] [UNILOG][INFO] Compile done.\n"
     ]
    },
    {
     "name": "stdout",
     "output_type": "stream",
     "text": [
      "[INFO] dump xmodel: /tmp/albertabeef/tensorflow_model_optimization/tmp_sub_graph_xnnc_20230424-105025-516039_GsEbFx.xmodel\n",
      "[INFO] Namespace(batchsize=1, inputs_shape=None, layout='NHWC', model_files=['/tmp/albertabeef/tensorflow_model_optimization/tmp_sub_graph_quantized_20230424-105025-516039_GsEbFx.h5'], model_type='tensorflow2', named_inputs_shape=None, out_filename='/tmp/albertabeef/tensorflow_model_optimization/tmp_sub_graph_xnnc_20230424-105025-516039_GsEbFx.xmodel', proto=None)\n",
      "[INFO] tensorflow2 model: /tmp/albertabeef/tensorflow_model_optimization/tmp_sub_graph_quantized_20230424-105025-516039_GsEbFx.h5\n",
      "[INFO] keras version: 2.10.0\n",
      "[INFO] Tensorflow Keras model type: functional\n"
     ]
    },
    {
     "name": "stderr",
     "output_type": "stream",
     "text": [
      "[INFO] parse raw model     :100%|██████████████████████████████████| 4/4 [00:00<00:00, 3581.81it/s]                  \n",
      "[INFO] infer shape (NHWC)  :100%|██████████████████████████████████| 5/5 [00:00<00:00, 1220.05it/s]                  \n",
      "[INFO] perform level-0 opt :100%|██████████████████████████████████| 1/1 [00:00<00:00, 1018.28it/s]                  \n",
      "[INFO] perform level-1 opt :100%|██████████████████████████████████| 2/2 [00:00<00:00, 3001.29it/s]                  \n",
      "[INFO] generate xmodel     :100%|██████████████████████████████████| 5/5 [00:00<00:00, 801.20it/s]                   \n",
      "I20230424 10:50:27.804996  5824 compile_pass_manager.cpp:287] [UNILOG][INFO] Compile mode: dpu\n",
      "I20230424 10:50:27.805030  5824 compile_pass_manager.cpp:288] [UNILOG][INFO] Debug mode: null\n",
      "I20230424 10:50:27.805042  5824 compile_pass_manager.cpp:292] [UNILOG][INFO] Target architecture: DPUCZDX8G_ISA1_B512_0101000016010200\n",
      "I20230424 10:50:27.805135  5824 compile_pass_manager.cpp:357] [UNILOG][INFO] Graph name: model_8, with op num: 9\n",
      "I20230424 10:50:27.805146  5824 compile_pass_manager.cpp:370] [UNILOG][INFO] Begin to compile...\n",
      "I20230424 10:50:27.818852  5824 compile_pass_manager.cpp:381] [UNILOG][INFO] Total device subgraph number 3, DPU subgraph number 1\n",
      "I20230424 10:50:27.818879  5824 compile_pass_manager.cpp:386] [UNILOG][INFO] Compile done.\n"
     ]
    },
    {
     "name": "stdout",
     "output_type": "stream",
     "text": [
      "[INFO] dump xmodel: /tmp/albertabeef/tensorflow_model_optimization/tmp_sub_graph_xnnc_20230424-105025-516039_GsEbFx.xmodel\n",
      "[INFO] Namespace(batchsize=1, inputs_shape=None, layout='NHWC', model_files=['/tmp/albertabeef/tensorflow_model_optimization/tmp_sub_graph_quantized_20230424-105025-516039_GsEbFx.h5'], model_type='tensorflow2', named_inputs_shape=None, out_filename='/tmp/albertabeef/tensorflow_model_optimization/tmp_sub_graph_xnnc_20230424-105025-516039_GsEbFx.xmodel', proto=None)\n",
      "[INFO] tensorflow2 model: /tmp/albertabeef/tensorflow_model_optimization/tmp_sub_graph_quantized_20230424-105025-516039_GsEbFx.h5\n",
      "[INFO] keras version: 2.10.0\n",
      "[INFO] Tensorflow Keras model type: functional\n"
     ]
    },
    {
     "name": "stderr",
     "output_type": "stream",
     "text": [
      "[INFO] parse raw model     :100%|██████████████████████████████████| 4/4 [00:00<00:00, 11958.10it/s]                 \n",
      "[INFO] infer shape (NHWC)  :100%|██████████████████████████████████| 5/5 [00:00<00:00, 1762.76it/s]                  \n",
      "[INFO] perform level-0 opt :100%|██████████████████████████████████| 1/1 [00:00<00:00, 1451.32it/s]                  \n",
      "[INFO] perform level-1 opt :100%|██████████████████████████████████| 2/2 [00:00<00:00, 5429.52it/s]                  \n",
      "[INFO] generate xmodel     :100%|██████████████████████████████████| 5/5 [00:00<00:00, 816.14it/s]                   \n",
      "I20230424 10:50:28.138505  5824 compile_pass_manager.cpp:287] [UNILOG][INFO] Compile mode: dpu\n",
      "I20230424 10:50:28.138532  5824 compile_pass_manager.cpp:288] [UNILOG][INFO] Debug mode: null\n",
      "I20230424 10:50:28.138541  5824 compile_pass_manager.cpp:292] [UNILOG][INFO] Target architecture: DPUCZDX8G_ISA1_B512_0101000016010200\n",
      "I20230424 10:50:28.138613  5824 compile_pass_manager.cpp:357] [UNILOG][INFO] Graph name: model_9, with op num: 9\n",
      "I20230424 10:50:28.138621  5824 compile_pass_manager.cpp:370] [UNILOG][INFO] Begin to compile...\n",
      "I20230424 10:50:28.158015  5824 compile_pass_manager.cpp:381] [UNILOG][INFO] Total device subgraph number 3, DPU subgraph number 1\n",
      "I20230424 10:50:28.158044  5824 compile_pass_manager.cpp:386] [UNILOG][INFO] Compile done.\n"
     ]
    },
    {
     "name": "stdout",
     "output_type": "stream",
     "text": [
      "[INFO] dump xmodel ...\r",
      "[INFO] dump xmodel: /tmp/albertabeef/tensorflow_model_optimization/tmp_sub_graph_xnnc_20230424-105025-516039_GsEbFx.xmodel\n",
      "[INFO] Namespace(batchsize=1, inputs_shape=None, layout='NHWC', model_files=['/tmp/albertabeef/tensorflow_model_optimization/tmp_sub_graph_quantized_20230424-105025-516039_GsEbFx.h5'], model_type='tensorflow2', named_inputs_shape=None, out_filename='/tmp/albertabeef/tensorflow_model_optimization/tmp_sub_graph_xnnc_20230424-105025-516039_GsEbFx.xmodel', proto=None)\n",
      "[INFO] tensorflow2 model: /tmp/albertabeef/tensorflow_model_optimization/tmp_sub_graph_quantized_20230424-105025-516039_GsEbFx.h5\n",
      "[INFO] keras version: 2.10.0\n",
      "[INFO] Tensorflow Keras model type: functional\n"
     ]
    },
    {
     "name": "stderr",
     "output_type": "stream",
     "text": [
      "[INFO] parse raw model     :100%|██████████████████████████████████| 4/4 [00:00<00:00, 3672.77it/s]                  \n",
      "[INFO] infer shape (NHWC)  :100%|██████████████████████████████████| 5/5 [00:00<00:00, 1336.02it/s]                  \n",
      "[INFO] perform level-0 opt :100%|██████████████████████████████████| 1/1 [00:00<00:00, 783.69it/s]                   \n",
      "[INFO] perform level-1 opt :100%|██████████████████████████████████| 2/2 [00:00<00:00, 2420.95it/s]                  \n",
      "[INFO] generate xmodel     :100%|██████████████████████████████████| 5/5 [00:00<00:00, 587.70it/s]                   \n",
      "I20230424 10:50:28.317509  5824 compile_pass_manager.cpp:287] [UNILOG][INFO] Compile mode: dpu\n",
      "I20230424 10:50:28.317531  5824 compile_pass_manager.cpp:288] [UNILOG][INFO] Debug mode: null\n",
      "I20230424 10:50:28.317538  5824 compile_pass_manager.cpp:292] [UNILOG][INFO] Target architecture: DPUCZDX8G_ISA1_B512_0101000016010200\n"
     ]
    },
    {
     "name": "stdout",
     "output_type": "stream",
     "text": [
      "[INFO] dump xmodel ...\r",
      "[INFO] dump xmodel: /tmp/albertabeef/tensorflow_model_optimization/tmp_sub_graph_xnnc_20230424-105025-516039_GsEbFx.xmodel\n"
     ]
    },
    {
     "name": "stderr",
     "output_type": "stream",
     "text": [
      "I20230424 10:50:28.317611  5824 compile_pass_manager.cpp:357] [UNILOG][INFO] Graph name: model_10, with op num: 9\n",
      "I20230424 10:50:28.317617  5824 compile_pass_manager.cpp:370] [UNILOG][INFO] Begin to compile...\n",
      "I20230424 10:50:28.345100  5824 compile_pass_manager.cpp:381] [UNILOG][INFO] Total device subgraph number 3, DPU subgraph number 1\n",
      "I20230424 10:50:28.345127  5824 compile_pass_manager.cpp:386] [UNILOG][INFO] Compile done.\n"
     ]
    },
    {
     "name": "stdout",
     "output_type": "stream",
     "text": [
      "[INFO] Namespace(batchsize=1, inputs_shape=None, layout='NHWC', model_files=['/tmp/albertabeef/tensorflow_model_optimization/tmp_sub_graph_quantized_20230424-105025-516039_GsEbFx.h5'], model_type='tensorflow2', named_inputs_shape=None, out_filename='/tmp/albertabeef/tensorflow_model_optimization/tmp_sub_graph_xnnc_20230424-105025-516039_GsEbFx.xmodel', proto=None)\n",
      "[INFO] tensorflow2 model: /tmp/albertabeef/tensorflow_model_optimization/tmp_sub_graph_quantized_20230424-105025-516039_GsEbFx.h5\n",
      "[INFO] keras version: 2.10.0\n",
      "[INFO] Tensorflow Keras model type: functional\n"
     ]
    },
    {
     "name": "stderr",
     "output_type": "stream",
     "text": [
      "[INFO] parse raw model     :100%|██████████████████████████████████| 4/4 [00:00<00:00, 3982.25it/s]                  \n",
      "[INFO] infer shape (NHWC)  :100%|██████████████████████████████████| 5/5 [00:00<00:00, 2037.85it/s]                  \n",
      "[INFO] perform level-0 opt :100%|██████████████████████████████████| 1/1 [00:00<00:00, 823.06it/s]                   \n",
      "[INFO] perform level-1 opt :100%|██████████████████████████████████| 2/2 [00:00<00:00, 2943.37it/s]                  \n",
      "[INFO] generate xmodel     :100%|██████████████████████████████████| 5/5 [00:00<00:00, 473.24it/s]                   \n"
     ]
    },
    {
     "name": "stdout",
     "output_type": "stream",
     "text": [
      "[INFO] dump xmodel ...\r",
      "[INFO] dump xmodel: /tmp/albertabeef/tensorflow_model_optimization/tmp_sub_graph_xnnc_20230424-105025-516039_GsEbFx.xmodel\n"
     ]
    },
    {
     "name": "stderr",
     "output_type": "stream",
     "text": [
      "I20230424 10:50:28.519243  5824 compile_pass_manager.cpp:287] [UNILOG][INFO] Compile mode: dpu\n",
      "I20230424 10:50:28.519269  5824 compile_pass_manager.cpp:288] [UNILOG][INFO] Debug mode: null\n",
      "I20230424 10:50:28.519277  5824 compile_pass_manager.cpp:292] [UNILOG][INFO] Target architecture: DPUCZDX8G_ISA1_B512_0101000016010200\n",
      "I20230424 10:50:28.519351  5824 compile_pass_manager.cpp:357] [UNILOG][INFO] Graph name: model_11, with op num: 9\n",
      "I20230424 10:50:28.519359  5824 compile_pass_manager.cpp:370] [UNILOG][INFO] Begin to compile...\n",
      "I20230424 10:50:28.544633  5824 compile_pass_manager.cpp:381] [UNILOG][INFO] Total device subgraph number 3, DPU subgraph number 1\n",
      "I20230424 10:50:28.544660  5824 compile_pass_manager.cpp:386] [UNILOG][INFO] Compile done.\n"
     ]
    },
    {
     "name": "stdout",
     "output_type": "stream",
     "text": [
      "[INFO] Namespace(batchsize=1, inputs_shape=None, layout='NHWC', model_files=['/tmp/albertabeef/tensorflow_model_optimization/tmp_sub_graph_quantized_20230424-105025-516039_GsEbFx.h5'], model_type='tensorflow2', named_inputs_shape=None, out_filename='/tmp/albertabeef/tensorflow_model_optimization/tmp_sub_graph_xnnc_20230424-105025-516039_GsEbFx.xmodel', proto=None)\n",
      "[INFO] tensorflow2 model: /tmp/albertabeef/tensorflow_model_optimization/tmp_sub_graph_quantized_20230424-105025-516039_GsEbFx.h5\n",
      "[INFO] keras version: 2.10.0\n",
      "[INFO] Tensorflow Keras model type: functional\n"
     ]
    },
    {
     "name": "stderr",
     "output_type": "stream",
     "text": [
      "[INFO] parse raw model     :100%|██████████████████████████████████| 4/4 [00:00<00:00, 12104.77it/s]                 \n",
      "[INFO] infer shape (NHWC)  :100%|██████████████████████████████████| 5/5 [00:00<00:00, 4184.26it/s]                  \n",
      "[INFO] perform level-0 opt :100%|██████████████████████████████████| 1/1 [00:00<00:00, 2102.41it/s]                  \n",
      "[INFO] perform level-1 opt :100%|██████████████████████████████████| 2/2 [00:00<00:00, 5833.52it/s]                  \n",
      "[INFO] generate xmodel     :100%|██████████████████████████████████| 5/5 [00:00<00:00, 291.11it/s]                   \n"
     ]
    },
    {
     "name": "stdout",
     "output_type": "stream",
     "text": [
      "[INFO] dump xmodel ...\r",
      "[INFO] dump xmodel: /tmp/albertabeef/tensorflow_model_optimization/tmp_sub_graph_xnnc_20230424-105025-516039_GsEbFx.xmodel\n"
     ]
    },
    {
     "name": "stderr",
     "output_type": "stream",
     "text": [
      "I20230424 10:50:28.709764  5824 compile_pass_manager.cpp:287] [UNILOG][INFO] Compile mode: dpu\n",
      "I20230424 10:50:28.709784  5824 compile_pass_manager.cpp:288] [UNILOG][INFO] Debug mode: null\n",
      "I20230424 10:50:28.709790  5824 compile_pass_manager.cpp:292] [UNILOG][INFO] Target architecture: DPUCZDX8G_ISA1_B512_0101000016010200\n",
      "I20230424 10:50:28.709846  5824 compile_pass_manager.cpp:357] [UNILOG][INFO] Graph name: model_12, with op num: 9\n",
      "I20230424 10:50:28.709851  5824 compile_pass_manager.cpp:370] [UNILOG][INFO] Begin to compile...\n",
      "I20230424 10:50:28.755349  5824 compile_pass_manager.cpp:381] [UNILOG][INFO] Total device subgraph number 3, DPU subgraph number 1\n",
      "I20230424 10:50:28.755378  5824 compile_pass_manager.cpp:386] [UNILOG][INFO] Compile done.\n"
     ]
    },
    {
     "name": "stdout",
     "output_type": "stream",
     "text": [
      "[INFO] Namespace(batchsize=1, inputs_shape=None, layout='NHWC', model_files=['/tmp/albertabeef/tensorflow_model_optimization/tmp_sub_graph_quantized_20230424-105025-516039_GsEbFx.h5'], model_type='tensorflow2', named_inputs_shape=None, out_filename='/tmp/albertabeef/tensorflow_model_optimization/tmp_sub_graph_xnnc_20230424-105025-516039_GsEbFx.xmodel', proto=None)\n",
      "[INFO] tensorflow2 model: /tmp/albertabeef/tensorflow_model_optimization/tmp_sub_graph_quantized_20230424-105025-516039_GsEbFx.h5\n",
      "[INFO] keras version: 2.10.0\n",
      "[INFO] Tensorflow Keras model type: functional\n"
     ]
    },
    {
     "name": "stderr",
     "output_type": "stream",
     "text": [
      "[INFO] parse raw model     :100%|██████████████████████████████████| 4/4 [00:00<00:00, 11428.62it/s]                 \n",
      "[INFO] infer shape (NHWC)  :100%|██████████████████████████████████| 5/5 [00:00<00:00, 2366.72it/s]                  \n",
      "[INFO] perform level-0 opt :100%|██████████████████████████████████| 1/1 [00:00<00:00, 1979.38it/s]                  \n",
      "[INFO] perform level-1 opt :100%|██████████████████████████████████| 2/2 [00:00<00:00, 6223.00it/s]                  \n",
      "[INFO] generate xmodel     :100%|██████████████████████████████████| 5/5 [00:00<00:00, 180.63it/s]                   \n"
     ]
    },
    {
     "name": "stdout",
     "output_type": "stream",
     "text": [
      "[INFO] dump xmodel ...\r",
      "[INFO] dump xmodel: /tmp/albertabeef/tensorflow_model_optimization/tmp_sub_graph_xnnc_20230424-105025-516039_GsEbFx.xmodel\n"
     ]
    },
    {
     "name": "stderr",
     "output_type": "stream",
     "text": [
      "I20230424 10:50:28.952685  5824 compile_pass_manager.cpp:287] [UNILOG][INFO] Compile mode: dpu\n",
      "I20230424 10:50:28.952706  5824 compile_pass_manager.cpp:288] [UNILOG][INFO] Debug mode: null\n",
      "I20230424 10:50:28.952713  5824 compile_pass_manager.cpp:292] [UNILOG][INFO] Target architecture: DPUCZDX8G_ISA1_B512_0101000016010200\n",
      "I20230424 10:50:28.952769  5824 compile_pass_manager.cpp:357] [UNILOG][INFO] Graph name: model_13, with op num: 9\n",
      "I20230424 10:50:28.952775  5824 compile_pass_manager.cpp:370] [UNILOG][INFO] Begin to compile...\n",
      "I20230424 10:50:29.037767  5824 compile_pass_manager.cpp:381] [UNILOG][INFO] Total device subgraph number 3, DPU subgraph number 1\n",
      "I20230424 10:50:29.037793  5824 compile_pass_manager.cpp:386] [UNILOG][INFO] Compile done.\n"
     ]
    },
    {
     "name": "stdout",
     "output_type": "stream",
     "text": [
      "[INFO] Namespace(batchsize=1, inputs_shape=None, layout='NHWC', model_files=['/tmp/albertabeef/tensorflow_model_optimization/tmp_sub_graph_quantized_20230424-105025-516039_GsEbFx.h5'], model_type='tensorflow2', named_inputs_shape=None, out_filename='/tmp/albertabeef/tensorflow_model_optimization/tmp_sub_graph_xnnc_20230424-105025-516039_GsEbFx.xmodel', proto=None)\n",
      "[INFO] tensorflow2 model: /tmp/albertabeef/tensorflow_model_optimization/tmp_sub_graph_quantized_20230424-105025-516039_GsEbFx.h5\n",
      "[INFO] keras version: 2.10.0\n",
      "[INFO] Tensorflow Keras model type: functional\n"
     ]
    },
    {
     "name": "stderr",
     "output_type": "stream",
     "text": [
      "[INFO] parse raw model     :100%|██████████████████████████████████| 4/4 [00:00<00:00, 10936.91it/s]                 \n",
      "[INFO] infer shape (NHWC)  :100%|██████████████████████████████████| 5/5 [00:00<00:00, 2837.44it/s]                  \n",
      "[INFO] perform level-0 opt :100%|██████████████████████████████████| 1/1 [00:00<00:00, 2042.02it/s]                  \n",
      "[INFO] perform level-1 opt :100%|██████████████████████████████████| 2/2 [00:00<00:00, 4066.22it/s]                  \n",
      "[INFO] generate xmodel     :100%|██████████████████████████████████| 5/5 [00:00<00:00, 181.53it/s]                   \n",
      "I20230424 10:50:29.239383  5824 compile_pass_manager.cpp:287] [UNILOG][INFO] Compile mode: dpu\n",
      "I20230424 10:50:29.239405  5824 compile_pass_manager.cpp:288] [UNILOG][INFO] Debug mode: null\n"
     ]
    },
    {
     "name": "stdout",
     "output_type": "stream",
     "text": [
      "[INFO] dump xmodel ...\r",
      "[INFO] dump xmodel: /tmp/albertabeef/tensorflow_model_optimization/tmp_sub_graph_xnnc_20230424-105025-516039_GsEbFx.xmodel\n"
     ]
    },
    {
     "name": "stderr",
     "output_type": "stream",
     "text": [
      "I20230424 10:50:29.239413  5824 compile_pass_manager.cpp:292] [UNILOG][INFO] Target architecture: DPUCZDX8G_ISA1_B512_0101000016010200\n",
      "I20230424 10:50:29.239480  5824 compile_pass_manager.cpp:357] [UNILOG][INFO] Graph name: model_14, with op num: 9\n",
      "I20230424 10:50:29.239488  5824 compile_pass_manager.cpp:370] [UNILOG][INFO] Begin to compile...\n",
      "I20230424 10:50:29.325693  5824 compile_pass_manager.cpp:381] [UNILOG][INFO] Total device subgraph number 3, DPU subgraph number 1\n",
      "I20230424 10:50:29.325719  5824 compile_pass_manager.cpp:386] [UNILOG][INFO] Compile done.\n"
     ]
    },
    {
     "name": "stdout",
     "output_type": "stream",
     "text": [
      "[INFO] Namespace(batchsize=1, inputs_shape=None, layout='NHWC', model_files=['/tmp/albertabeef/tensorflow_model_optimization/tmp_sub_graph_quantized_20230424-105025-516039_GsEbFx.h5'], model_type='tensorflow2', named_inputs_shape=None, out_filename='/tmp/albertabeef/tensorflow_model_optimization/tmp_sub_graph_xnnc_20230424-105025-516039_GsEbFx.xmodel', proto=None)\n",
      "[INFO] tensorflow2 model: /tmp/albertabeef/tensorflow_model_optimization/tmp_sub_graph_quantized_20230424-105025-516039_GsEbFx.h5\n",
      "[INFO] keras version: 2.10.0\n",
      "[INFO] Tensorflow Keras model type: functional\n"
     ]
    },
    {
     "name": "stderr",
     "output_type": "stream",
     "text": [
      "[INFO] parse raw model     :100%|██████████████████████████████████| 4/4 [00:00<00:00, 11125.47it/s]                 \n",
      "[INFO] infer shape (NHWC)  :100%|██████████████████████████████████| 5/5 [00:00<00:00, 6284.54it/s]                  \n",
      "[INFO] perform level-0 opt :100%|██████████████████████████████████| 1/1 [00:00<00:00, 2085.68it/s]                  \n",
      "[INFO] perform level-1 opt :100%|██████████████████████████████████| 2/2 [00:00<00:00, 6260.16it/s]                  \n",
      "[INFO] generate xmodel     :100%|██████████████████████████████████| 5/5 [00:00<00:00, 193.34it/s]                   \n",
      "I20230424 10:50:29.521016  5824 compile_pass_manager.cpp:287] [UNILOG][INFO] Compile mode: dpu\n",
      "I20230424 10:50:29.521037  5824 compile_pass_manager.cpp:288] [UNILOG][INFO] Debug mode: null\n",
      "I20230424 10:50:29.521042  5824 compile_pass_manager.cpp:292] [UNILOG][INFO] Target architecture: DPUCZDX8G_ISA1_B512_0101000016010200\n"
     ]
    },
    {
     "name": "stdout",
     "output_type": "stream",
     "text": [
      "[INFO] dump xmodel ...\r",
      "[INFO] dump xmodel: /tmp/albertabeef/tensorflow_model_optimization/tmp_sub_graph_xnnc_20230424-105025-516039_GsEbFx.xmodel\n"
     ]
    },
    {
     "name": "stderr",
     "output_type": "stream",
     "text": [
      "I20230424 10:50:29.521099  5824 compile_pass_manager.cpp:357] [UNILOG][INFO] Graph name: model_15, with op num: 9\n",
      "I20230424 10:50:29.521104  5824 compile_pass_manager.cpp:370] [UNILOG][INFO] Begin to compile...\n",
      "I20230424 10:50:29.606273  5824 compile_pass_manager.cpp:381] [UNILOG][INFO] Total device subgraph number 3, DPU subgraph number 1\n",
      "I20230424 10:50:29.606298  5824 compile_pass_manager.cpp:386] [UNILOG][INFO] Compile done.\n"
     ]
    },
    {
     "name": "stdout",
     "output_type": "stream",
     "text": [
      "[INFO] Namespace(batchsize=1, inputs_shape=None, layout='NHWC', model_files=['/tmp/albertabeef/tensorflow_model_optimization/tmp_sub_graph_quantized_20230424-105025-516039_GsEbFx.h5'], model_type='tensorflow2', named_inputs_shape=None, out_filename='/tmp/albertabeef/tensorflow_model_optimization/tmp_sub_graph_xnnc_20230424-105025-516039_GsEbFx.xmodel', proto=None)\n",
      "[INFO] tensorflow2 model: /tmp/albertabeef/tensorflow_model_optimization/tmp_sub_graph_quantized_20230424-105025-516039_GsEbFx.h5\n",
      "[INFO] keras version: 2.10.0\n",
      "[INFO] Tensorflow Keras model type: functional\n"
     ]
    },
    {
     "name": "stderr",
     "output_type": "stream",
     "text": [
      "[INFO] parse raw model     :100%|██████████████████████████████████| 4/4 [00:00<00:00, 11088.71it/s]                 \n",
      "[INFO] infer shape (NHWC)  :100%|██████████████████████████████████| 5/5 [00:00<00:00, 6162.66it/s]                  \n",
      "[INFO] perform level-0 opt :100%|██████████████████████████████████| 1/1 [00:00<00:00, 827.61it/s]                   \n",
      "[INFO] perform level-1 opt :100%|██████████████████████████████████| 2/2 [00:00<00:00, 2956.86it/s]                  \n",
      "[INFO] generate xmodel     :100%|██████████████████████████████████| 5/5 [00:00<00:00, 148.07it/s]                   \n",
      "I20230424 10:50:29.807648  5824 compile_pass_manager.cpp:287] [UNILOG][INFO] Compile mode: dpu\n",
      "I20230424 10:50:29.807668  5824 compile_pass_manager.cpp:288] [UNILOG][INFO] Debug mode: null\n",
      "I20230424 10:50:29.807673  5824 compile_pass_manager.cpp:292] [UNILOG][INFO] Target architecture: DPUCZDX8G_ISA1_B512_0101000016010200\n",
      "I20230424 10:50:29.807736  5824 compile_pass_manager.cpp:357] [UNILOG][INFO] Graph name: model_16, with op num: 9\n",
      "I20230424 10:50:29.807741  5824 compile_pass_manager.cpp:370] [UNILOG][INFO] Begin to compile...\n",
      "I20230424 10:50:29.892761  5824 compile_pass_manager.cpp:381] [UNILOG][INFO] Total device subgraph number 3, DPU subgraph number 1\n",
      "I20230424 10:50:29.892786  5824 compile_pass_manager.cpp:386] [UNILOG][INFO] Compile done.\n"
     ]
    },
    {
     "name": "stdout",
     "output_type": "stream",
     "text": [
      "[INFO] dump xmodel: /tmp/albertabeef/tensorflow_model_optimization/tmp_sub_graph_xnnc_20230424-105025-516039_GsEbFx.xmodel\n",
      "[INFO] Namespace(batchsize=1, inputs_shape=None, layout='NHWC', model_files=['/tmp/albertabeef/tensorflow_model_optimization/tmp_sub_graph_quantized_20230424-105025-516039_GsEbFx.h5'], model_type='tensorflow2', named_inputs_shape=None, out_filename='/tmp/albertabeef/tensorflow_model_optimization/tmp_sub_graph_xnnc_20230424-105025-516039_GsEbFx.xmodel', proto=None)\n",
      "[INFO] tensorflow2 model: /tmp/albertabeef/tensorflow_model_optimization/tmp_sub_graph_quantized_20230424-105025-516039_GsEbFx.h5\n",
      "[INFO] keras version: 2.10.0\n",
      "[INFO] Tensorflow Keras model type: functional\n"
     ]
    },
    {
     "name": "stderr",
     "output_type": "stream",
     "text": [
      "[INFO] parse raw model     :100%|██████████████████████████████████| 4/4 [00:00<00:00, 9083.50it/s]                  \n",
      "[INFO] infer shape (NHWC)  :100%|██████████████████████████████████| 5/5 [00:00<00:00, 4001.43it/s]                  \n",
      "[INFO] perform level-0 opt :100%|██████████████████████████████████| 1/1 [00:00<00:00, 2024.28it/s]                  \n",
      "[INFO] perform level-1 opt :100%|██████████████████████████████████| 2/2 [00:00<00:00, 2833.99it/s]                  \n",
      "[INFO] generate xmodel     :100%|██████████████████████████████████| 5/5 [00:00<00:00, 161.63it/s]                   "
     ]
    },
    {
     "name": "stdout",
     "output_type": "stream",
     "text": [
      "[INFO] dump xmodel ...\r",
      "[INFO] dump xmodel: /tmp/albertabeef/tensorflow_model_optimization/tmp_sub_graph_xnnc_20230424-105025-516039_GsEbFx.xmodel\n"
     ]
    },
    {
     "name": "stderr",
     "output_type": "stream",
     "text": [
      "\n",
      "I20230424 10:50:30.112645  5824 compile_pass_manager.cpp:287] [UNILOG][INFO] Compile mode: dpu\n",
      "I20230424 10:50:30.112666  5824 compile_pass_manager.cpp:288] [UNILOG][INFO] Debug mode: null\n",
      "I20230424 10:50:30.112671  5824 compile_pass_manager.cpp:292] [UNILOG][INFO] Target architecture: DPUCZDX8G_ISA1_B512_0101000016010200\n",
      "I20230424 10:50:30.112728  5824 compile_pass_manager.cpp:357] [UNILOG][INFO] Graph name: model_17, with op num: 9\n",
      "I20230424 10:50:30.112733  5824 compile_pass_manager.cpp:370] [UNILOG][INFO] Begin to compile...\n",
      "I20230424 10:50:30.196614  5824 compile_pass_manager.cpp:381] [UNILOG][INFO] Total device subgraph number 3, DPU subgraph number 1\n",
      "I20230424 10:50:30.196640  5824 compile_pass_manager.cpp:386] [UNILOG][INFO] Compile done.\n"
     ]
    },
    {
     "name": "stdout",
     "output_type": "stream",
     "text": [
      "[INFO] Namespace(batchsize=1, inputs_shape=None, layout='NHWC', model_files=['/tmp/albertabeef/tensorflow_model_optimization/tmp_sub_graph_quantized_20230424-105025-516039_GsEbFx.h5'], model_type='tensorflow2', named_inputs_shape=None, out_filename='/tmp/albertabeef/tensorflow_model_optimization/tmp_sub_graph_xnnc_20230424-105025-516039_GsEbFx.xmodel', proto=None)\n",
      "[INFO] tensorflow2 model: /tmp/albertabeef/tensorflow_model_optimization/tmp_sub_graph_quantized_20230424-105025-516039_GsEbFx.h5\n",
      "[INFO] keras version: 2.10.0\n",
      "[INFO] Tensorflow Keras model type: functional\n"
     ]
    },
    {
     "name": "stderr",
     "output_type": "stream",
     "text": [
      "[INFO] parse raw model     :100%|██████████████████████████████████| 4/4 [00:00<00:00, 11237.25it/s]                 \n",
      "[INFO] infer shape (NHWC)  :100%|██████████████████████████████████| 7/7 [00:00<00:00, 29.34it/s]                    \n",
      "[INFO] perform level-0 opt :100%|██████████████████████████████████| 1/1 [00:00<00:00, 1530.21it/s]                  \n",
      "[INFO] perform level-1 opt :100%|██████████████████████████████████| 2/2 [00:00<00:00, 4798.97it/s]                  \n",
      "[INFO] generate xmodel     :100%|██████████████████████████████████| 7/7 [00:05<00:00,  1.32it/s]                    \n"
     ]
    },
    {
     "name": "stdout",
     "output_type": "stream",
     "text": [
      "[INFO] dump xmodel ...\r",
      "[INFO] dump xmodel: /tmp/albertabeef/tensorflow_model_optimization/tmp_sub_graph_xnnc_20230424-105025-516039_GsEbFx.xmodel\n"
     ]
    },
    {
     "name": "stderr",
     "output_type": "stream",
     "text": [
      "I20230424 10:50:38.481685  5824 compile_pass_manager.cpp:287] [UNILOG][INFO] Compile mode: dpu\n",
      "I20230424 10:50:38.481706  5824 compile_pass_manager.cpp:288] [UNILOG][INFO] Debug mode: null\n",
      "I20230424 10:50:38.481712  5824 compile_pass_manager.cpp:292] [UNILOG][INFO] Target architecture: DPUCZDX8G_ISA1_B512_0101000016010200\n",
      "I20230424 10:50:38.481771  5824 compile_pass_manager.cpp:357] [UNILOG][INFO] Graph name: model_18, with op num: 9\n",
      "I20230424 10:50:38.481776  5824 compile_pass_manager.cpp:370] [UNILOG][INFO] Begin to compile...\n",
      "W20230424 10:50:46.478884  5824 PartitionPass.cpp:3741] [UNILOG][WARNING] xir::Op{name = quant_fc1(TransferMatMulToConv2d), type = conv2d-fix} has been assigned to CPU: [Weights(4096, 8, 8, 392) is too large to be loaded into parameter buffer. \"kernel_h * kernel_w * kernel_d(=1 for conv2d) * ⌈input_channel / weights_bank_width⌉ * ⌈output_channel_parallel / weights_bank_num⌉\"(3136) is supposed to be less equal than 2048].\n",
      "I20230424 10:50:46.479035  5824 compile_pass_manager.cpp:381] [UNILOG][INFO] Total device subgraph number 5, DPU subgraph number 2\n",
      "I20230424 10:50:46.479054  5824 compile_pass_manager.cpp:386] [UNILOG][INFO] Compile done.\n"
     ]
    },
    {
     "name": "stdout",
     "output_type": "stream",
     "text": [
      "[INFO] Namespace(batchsize=1, inputs_shape=None, layout='NHWC', model_files=['/tmp/albertabeef/tensorflow_model_optimization/tmp_sub_graph_quantized_20230424-105025-516039_GsEbFx.h5'], model_type='tensorflow2', named_inputs_shape=None, out_filename='/tmp/albertabeef/tensorflow_model_optimization/tmp_sub_graph_xnnc_20230424-105025-516039_GsEbFx.xmodel', proto=None)\n",
      "[INFO] tensorflow2 model: /tmp/albertabeef/tensorflow_model_optimization/tmp_sub_graph_quantized_20230424-105025-516039_GsEbFx.h5\n",
      "[INFO] keras version: 2.10.0\n",
      "[INFO] Tensorflow Keras model type: functional\n"
     ]
    },
    {
     "name": "stderr",
     "output_type": "stream",
     "text": [
      "[INFO] parse raw model     :100%|██████████████████████████████████| 4/4 [00:00<00:00, 5976.92it/s]                  \n",
      "[INFO] infer shape (NHWC)  :100%|██████████████████████████████████| 7/7 [00:00<00:00, 136.64it/s]                   \n",
      "[INFO] perform level-0 opt :100%|██████████████████████████████████| 1/1 [00:00<00:00, 1493.17it/s]                  \n",
      "[INFO] perform level-1 opt :100%|██████████████████████████████████| 2/2 [00:00<00:00, 5346.47it/s]                  \n",
      "[INFO] generate xmodel     :100%|██████████████████████████████████| 7/7 [00:00<00:00,  8.00it/s]                    \n"
     ]
    },
    {
     "name": "stdout",
     "output_type": "stream",
     "text": [
      "[INFO] dump xmodel ...\r",
      "[INFO] dump xmodel: /tmp/albertabeef/tensorflow_model_optimization/tmp_sub_graph_xnnc_20230424-105025-516039_GsEbFx.xmodel\n"
     ]
    },
    {
     "name": "stderr",
     "output_type": "stream",
     "text": [
      "I20230424 10:50:48.069222  5824 compile_pass_manager.cpp:287] [UNILOG][INFO] Compile mode: dpu\n",
      "I20230424 10:50:48.069245  5824 compile_pass_manager.cpp:288] [UNILOG][INFO] Debug mode: null\n",
      "I20230424 10:50:48.069250  5824 compile_pass_manager.cpp:292] [UNILOG][INFO] Target architecture: DPUCZDX8G_ISA1_B512_0101000016010200\n",
      "I20230424 10:50:48.069309  5824 compile_pass_manager.cpp:357] [UNILOG][INFO] Graph name: model_19, with op num: 9\n",
      "I20230424 10:50:48.069314  5824 compile_pass_manager.cpp:370] [UNILOG][INFO] Begin to compile...\n",
      "I20230424 10:50:49.394403  5824 compile_pass_manager.cpp:381] [UNILOG][INFO] Total device subgraph number 3, DPU subgraph number 1\n",
      "I20230424 10:50:49.394430  5824 compile_pass_manager.cpp:386] [UNILOG][INFO] Compile done.\n"
     ]
    },
    {
     "name": "stdout",
     "output_type": "stream",
     "text": [
      "[INFO] Namespace(batchsize=1, inputs_shape=None, layout='NHWC', model_files=['/tmp/albertabeef/tensorflow_model_optimization/tmp_sub_graph_quantized_20230424-105025-516168_WgeBub.h5'], model_type='tensorflow2', named_inputs_shape=None, out_filename='/tmp/albertabeef/tensorflow_model_optimization/tmp_sub_graph_xnnc_20230424-105025-516168_WgeBub.xmodel', proto=None)\n",
      "[INFO] tensorflow2 model: /tmp/albertabeef/tensorflow_model_optimization/tmp_sub_graph_quantized_20230424-105025-516168_WgeBub.h5\n",
      "[INFO] keras version: 2.10.0\n",
      "[INFO] Tensorflow Keras model type: functional\n"
     ]
    },
    {
     "name": "stderr",
     "output_type": "stream",
     "text": [
      "[INFO] parse raw model     :100%|██████████████████████████████████| 3/3 [00:00<00:00, 12300.01it/s]                 \n",
      "[INFO] infer shape (NHWC)  :100%|██████████████████████████████████| 6/6 [00:00<00:00, 358.20it/s]                   \n",
      "[INFO] perform level-0 opt :100%|██████████████████████████████████| 1/1 [00:00<00:00, 1778.00it/s]                  \n",
      "[INFO] perform level-1 opt :100%|██████████████████████████████████| 2/2 [00:00<00:00, 5548.02it/s]                  \n",
      "[INFO] generate xmodel     :100%|██████████████████████████████████| 6/6 [00:00<00:00, 27.88it/s]                    \n",
      "I20230424 10:50:49.870944  5824 compile_pass_manager.cpp:287] [UNILOG][INFO] Compile mode: dpu\n",
      "I20230424 10:50:49.870965  5824 compile_pass_manager.cpp:288] [UNILOG][INFO] Debug mode: null\n",
      "I20230424 10:50:49.870970  5824 compile_pass_manager.cpp:292] [UNILOG][INFO] Target architecture: DPUCZDX8G_ISA1_B512_0101000016010200\n",
      "I20230424 10:50:49.871045  5824 compile_pass_manager.cpp:357] [UNILOG][INFO] Graph name: model_20, with op num: 8\n",
      "I20230424 10:50:49.871050  5824 compile_pass_manager.cpp:370] [UNILOG][INFO] Begin to compile...\n",
      "I20230424 10:50:50.110378  5824 compile_pass_manager.cpp:381] [UNILOG][INFO] Total device subgraph number 3, DPU subgraph number 1\n",
      "I20230424 10:50:50.110404  5824 compile_pass_manager.cpp:386] [UNILOG][INFO] Compile done.\n"
     ]
    },
    {
     "name": "stdout",
     "output_type": "stream",
     "text": [
      "[INFO] dump xmodel: /tmp/albertabeef/tensorflow_model_optimization/tmp_sub_graph_xnnc_20230424-105025-516168_WgeBub.xmodel\n",
      "[INFO] Namespace(batchsize=1, inputs_shape=None, layout='NHWC', model_files=['/tmp/albertabeef/tensorflow_model_optimization/tmp_sub_graph_quantized_20230424-105025-516410_OnpWVh.h5'], model_type='tensorflow2', named_inputs_shape=None, out_filename='/tmp/albertabeef/tensorflow_model_optimization/tmp_sub_graph_xnnc_20230424-105025-516410_OnpWVh.xmodel', proto=None)\n",
      "[INFO] tensorflow2 model: /tmp/albertabeef/tensorflow_model_optimization/tmp_sub_graph_quantized_20230424-105025-516410_OnpWVh.h5\n",
      "[INFO] keras version: 2.10.0\n",
      "[INFO] Tensorflow Keras model type: functional\n"
     ]
    },
    {
     "name": "stderr",
     "output_type": "stream",
     "text": [
      "[INFO] parse raw model     :100%|██████████████████████████████████| 3/3 [00:00<00:00, 15807.68it/s]                 \n",
      "[INFO] infer shape (NHWC)  :100%|██████████████████████████████████| 3/3 [00:00<00:00, 4438.42it/s]                  \n",
      "[INFO] perform level-0 opt :100%|██████████████████████████████████| 1/1 [00:00<00:00, 4080.06it/s]                  \n",
      "[INFO] perform level-1 opt :100%|██████████████████████████████████| 2/2 [00:00<00:00, 8232.20it/s]                  \n",
      "[INFO] generate xmodel     :100%|██████████████████████████████████| 3/3 [00:00<00:00, 3719.45it/s]                  \n",
      "I20230424 10:50:50.183846  5824 compile_pass_manager.cpp:287] [UNILOG][INFO] Compile mode: dpu\n",
      "I20230424 10:50:50.183874  5824 compile_pass_manager.cpp:288] [UNILOG][INFO] Debug mode: null\n",
      "I20230424 10:50:50.183884  5824 compile_pass_manager.cpp:292] [UNILOG][INFO] Target architecture: DPUCZDX8G_ISA1_B512_0101000016010200\n",
      "I20230424 10:50:50.184046  5824 compile_pass_manager.cpp:357] [UNILOG][INFO] Graph name: model_21, with op num: 3\n",
      "I20230424 10:50:50.184054  5824 compile_pass_manager.cpp:370] [UNILOG][INFO] Begin to compile...\n",
      "I20230424 10:50:50.188170  5824 compile_pass_manager.cpp:381] [UNILOG][INFO] Total device subgraph number 3, DPU subgraph number 1\n",
      "I20230424 10:50:50.188210  5824 compile_pass_manager.cpp:386] [UNILOG][INFO] Compile done.\n"
     ]
    },
    {
     "name": "stdout",
     "output_type": "stream",
     "text": [
      "[INFO] dump xmodel: /tmp/albertabeef/tensorflow_model_optimization/tmp_sub_graph_xnnc_20230424-105025-516410_OnpWVh.xmodel\n",
      "[VAI INFO] Inspect Results:\n",
      "[MODEL INFO]:\n",
      "________________________________________________________________________________________________________________________\n",
      "Model Name: vgg16\n",
      "________________________________________________________________________________________________________________________\n",
      "ID          Name                    Type                    Device      Notes                                           \n",
      "========================================================================================================================\n",
      "0/22        input_1                 InputLayer              INPUT                                                       \n",
      "------------------------------------------------------------------------------------------------------------------------\n",
      "1/22        block1_conv1            Conv2D<relu>            DPU                                                         \n",
      "------------------------------------------------------------------------------------------------------------------------\n",
      "2/22        block1_conv2            Conv2D<relu>            DPU                                                         \n",
      "------------------------------------------------------------------------------------------------------------------------\n",
      "3/22        block1_pool             MaxPooling2D            DPU                                                         \n",
      "------------------------------------------------------------------------------------------------------------------------\n",
      "4/22        block2_conv1            Conv2D<relu>            DPU                                                         \n",
      "------------------------------------------------------------------------------------------------------------------------\n",
      "5/22        block2_conv2            Conv2D<relu>            DPU                                                         \n",
      "------------------------------------------------------------------------------------------------------------------------\n",
      "6/22        block2_pool             MaxPooling2D            DPU                                                         \n",
      "------------------------------------------------------------------------------------------------------------------------\n",
      "7/22        block3_conv1            Conv2D<relu>            DPU                                                         \n",
      "------------------------------------------------------------------------------------------------------------------------\n",
      "8/22        block3_conv2            Conv2D<relu>            DPU                                                         \n",
      "------------------------------------------------------------------------------------------------------------------------\n",
      "9/22        block3_conv3            Conv2D<relu>            DPU                                                         \n",
      "------------------------------------------------------------------------------------------------------------------------\n",
      "10/22       block3_pool             MaxPooling2D            DPU                                                         \n",
      "------------------------------------------------------------------------------------------------------------------------\n",
      "11/22       block4_conv1            Conv2D<relu>            DPU                                                         \n",
      "------------------------------------------------------------------------------------------------------------------------\n",
      "12/22       block4_conv2            Conv2D<relu>            DPU                                                         \n",
      "------------------------------------------------------------------------------------------------------------------------\n",
      "13/22       block4_conv3            Conv2D<relu>            DPU                                                         \n",
      "------------------------------------------------------------------------------------------------------------------------\n",
      "14/22       block4_pool             MaxPooling2D            DPU                                                         \n",
      "------------------------------------------------------------------------------------------------------------------------\n",
      "15/22       block5_conv1            Conv2D<relu>            DPU                                                         \n",
      "------------------------------------------------------------------------------------------------------------------------\n",
      "16/22       block5_conv2            Conv2D<relu>            DPU                                                         \n",
      "------------------------------------------------------------------------------------------------------------------------\n",
      "17/22       block5_conv3            Conv2D<relu>            DPU                                                         \n",
      "------------------------------------------------------------------------------------------------------------------------\n",
      "18/22       block5_pool             MaxPooling2D            DPU                                                         \n",
      "------------------------------------------------------------------------------------------------------------------------\n",
      "19/22       flatten                 Flatten                 DPU                                                         \n",
      "------------------------------------------------------------------------------------------------------------------------\n",
      "20/22       fc1                     Dense<relu>             CPU         Seperate layer activation `relu`; xir::Op{name =\n",
      "                                                                        quant_fc1(TransferMatMulToConv2d), type =       \n",
      "                                                                        conv2d-fix} has been assigned to CPU:           \n",
      "                                                                        [Weights(4096, 8, 8, 392) is too large to be    \n",
      "                                                                        loaded into parameter buffer. \"kernel_h *       \n",
      "                                                                        kernel_w * kernel_d(=1 for conv2d) *            \n",
      "                                                                        ⌈input_channel / weights_bank_width⌉ *          \n",
      "                                                                        ⌈output_channel_parallel /                      \n",
      "                                                                        weights_bank_num⌉\"(3136) is supposed to be less \n",
      "                                                                        equal than 2048]                                \n",
      "------------------------------------------------------------------------------------------------------------------------\n",
      "21/22       fc2                     Dense<relu>             DPU                                                         \n",
      "------------------------------------------------------------------------------------------------------------------------\n",
      "22/22       predictions             Dense<softmax>          DPU+CPU     Seperate layer activation `softmax`; `softmax`  \n",
      "                                                                        is not supported by target                      \n",
      "------------------------------------------------------------------------------------------------------------------------\n",
      "========================================================================================================================\n",
      "[SUMMARY INFO]:\n",
      "- [Target Name]: 0x101000016010200\n",
      "- [Total Layers]: 23\n",
      "- [Layer Types]: InputLayer(1) Conv2D<relu>(13) MaxPooling2D(5) Flatten(1) Dense<relu>(2) Dense<softmax>(1) \n",
      "- [Partition Results]: INPUT(1) DPU(20) CPU(1) DPU+CPU(1) \n",
      "========================================================================================================================\n",
      "[NOTES INFO]:\n",
      "- [20/22] Layer fc1 (Type:Dense<relu>, Device:CPU):\n",
      "    * Seperate layer activation `relu`\n",
      "    * xir::Op{name = quant_fc1(TransferMatMulToConv2d), type = conv2d-fix} has been assigned to CPU: [Weights(4096, 8, 8, 392) is too large to be loaded into parameter buffer. \"kernel_h * kernel_w * kernel_d(=1 for conv2d) * ⌈input_channel / weights_bank_width⌉ * ⌈output_channel_parallel / weights_bank_num⌉\"(3136) is supposed to be less equal than 2048]\n",
      "- [22/22] Layer predictions (Type:Dense<softmax>, Device:DPU+CPU):\n",
      "    * Seperate layer activation `softmax`\n",
      "    * `softmax` is not supported by target\n",
      "========================================================================================================================\n",
      "[VAI INFO] Start dumping inspected results to inspect_results.txt\n",
      "[VAI INFO] Inspected results has been dumped in: inspect_results.txt.\n",
      "[VAI INFO] Inspect Finished.\n"
     ]
    }
   ],
   "source": [
    "inspected_model = inspector.inspect_model(vgg16_model)"
   ]
  },
  {
   "cell_type": "markdown",
   "id": "d3d61f90",
   "metadata": {},
   "source": [
    "## 4 Inspecting the Modified Model"
   ]
  },
  {
   "cell_type": "markdown",
   "id": "3cb64a9c",
   "metadata": {},
   "source": [
    "\n",
    "### 4.1 VGG Convolutional Base\n",
    "We begin by creating a model of the VGG-16 convolutional base. We can do this by instantiating the model and setting `include_top = False`, which excludes the fully connected layers. In this notebook, we will instantiate the model with weights that were learned by training the model on the ImageNet dataset.\n",
    "\n",
    "<img src='https://github.com/AlbertaBeef/asl_tutorial/raw/2022.2/images/VGG16_10_pretrained_base.png' width=1000 align='center'><br/>"
   ]
  },
  {
   "cell_type": "code",
   "execution_count": 10,
   "id": "e770910b",
   "metadata": {
    "colab": {
     "base_uri": "https://localhost:8080/"
    },
    "execution": {
     "iopub.execute_input": "2023-04-19T17:13:22.860736Z",
     "iopub.status.busy": "2023-04-19T17:13:22.860328Z",
     "iopub.status.idle": "2023-04-19T17:13:23.816235Z",
     "shell.execute_reply": "2023-04-19T17:13:23.815086Z",
     "shell.execute_reply.started": "2023-04-19T17:13:22.860695Z"
    },
    "id": "0b461de1",
    "outputId": "ac6159e4-5139-48ec-e81f-0853a4e07981"
   },
   "outputs": [
    {
     "name": "stdout",
     "output_type": "stream",
     "text": [
      "Create an VGG16 model along with the imagenet pre-trained weights.\n"
     ]
    }
   ],
   "source": [
    "print('Create an VGG16 model along with the imagenet pre-trained weights.')\n",
    "input_shape = (DatasetConfig.IMG_HEIGHT, DatasetConfig.IMG_WIDTH, DatasetConfig.CHANNELS)\n",
    "vgg16_model_base = tf.keras.applications.vgg16.VGG16(input_shape=input_shape,\n",
    "                                                    include_top=False,\n",
    "                                                    weights='imagenet',\n",
    "                                                   )"
   ]
  },
  {
   "cell_type": "code",
   "execution_count": 11,
   "id": "8d1aebc0",
   "metadata": {
    "execution": {
     "iopub.execute_input": "2023-04-19T17:13:23.823312Z",
     "iopub.status.busy": "2023-04-19T17:13:23.822213Z",
     "iopub.status.idle": "2023-04-19T17:13:23.872269Z",
     "shell.execute_reply": "2023-04-19T17:13:23.871415Z",
     "shell.execute_reply.started": "2023-04-19T17:13:23.823268Z"
    }
   },
   "outputs": [
    {
     "name": "stdout",
     "output_type": "stream",
     "text": [
      "Model: \"vgg16\"\n",
      "_________________________________________________________________\n",
      " Layer (type)                Output Shape              Param #   \n",
      "=================================================================\n",
      " input_23 (InputLayer)       [(None, 224, 224, 3)]     0         \n",
      "                                                                 \n",
      " block1_conv1 (Conv2D)       (None, 224, 224, 64)      1792      \n",
      "                                                                 \n",
      " block1_conv2 (Conv2D)       (None, 224, 224, 64)      36928     \n",
      "                                                                 \n",
      " block1_pool (MaxPooling2D)  (None, 112, 112, 64)      0         \n",
      "                                                                 \n",
      " block2_conv1 (Conv2D)       (None, 112, 112, 128)     73856     \n",
      "                                                                 \n",
      " block2_conv2 (Conv2D)       (None, 112, 112, 128)     147584    \n",
      "                                                                 \n",
      " block2_pool (MaxPooling2D)  (None, 56, 56, 128)       0         \n",
      "                                                                 \n",
      " block3_conv1 (Conv2D)       (None, 56, 56, 256)       295168    \n",
      "                                                                 \n",
      " block3_conv2 (Conv2D)       (None, 56, 56, 256)       590080    \n",
      "                                                                 \n",
      " block3_conv3 (Conv2D)       (None, 56, 56, 256)       590080    \n",
      "                                                                 \n",
      " block3_pool (MaxPooling2D)  (None, 28, 28, 256)       0         \n",
      "                                                                 \n",
      " block4_conv1 (Conv2D)       (None, 28, 28, 512)       1180160   \n",
      "                                                                 \n",
      " block4_conv2 (Conv2D)       (None, 28, 28, 512)       2359808   \n",
      "                                                                 \n",
      " block4_conv3 (Conv2D)       (None, 28, 28, 512)       2359808   \n",
      "                                                                 \n",
      " block4_pool (MaxPooling2D)  (None, 14, 14, 512)       0         \n",
      "                                                                 \n",
      " block5_conv1 (Conv2D)       (None, 14, 14, 512)       2359808   \n",
      "                                                                 \n",
      " block5_conv2 (Conv2D)       (None, 14, 14, 512)       2359808   \n",
      "                                                                 \n",
      " block5_conv3 (Conv2D)       (None, 14, 14, 512)       2359808   \n",
      "                                                                 \n",
      " block5_pool (MaxPooling2D)  (None, 7, 7, 512)         0         \n",
      "                                                                 \n",
      "=================================================================\n",
      "Total params: 14,714,688\n",
      "Trainable params: 14,714,688\n",
      "Non-trainable params: 0\n",
      "_________________________________________________________________\n",
      "None\n"
     ]
    }
   ],
   "source": [
    "print(vgg16_model_base.summary())"
   ]
  },
  {
   "cell_type": "markdown",
   "id": "d7228471",
   "metadata": {},
   "source": [
    "### 4.2 Add the Classification Layer (attempt 1)\n",
    "Since we intend to train and use the model to classify hand signals from the ASL dataset (which has 29 classes), we will need to add our own classification layer. In this example, we have chosen to use just a single fully connected dense layer that contains 256 nodes, followed by a softmax output layer that contains 29 nodes for each of the 29 classes. The number of dense layers and the number of nodes per layer is a design choice, but the number of nodes in the output layer must match the number of classes in the dataset.\n",
    "\n",
    "<img src='https://github.com/AlbertaBeef/asl_tutorial/raw/2022.2/images/VGG16_02_asl.png' width=1000 align='center'><br/>"
   ]
  },
  {
   "cell_type": "code",
   "execution_count": 12,
   "id": "e29dac4a",
   "metadata": {},
   "outputs": [
    {
     "name": "stdout",
     "output_type": "stream",
     "text": [
      "Add Classification Layers (output or top)\n"
     ]
    }
   ],
   "source": [
    "print('Add Classification Layers (output or top)')\n",
    "# Take the output of the VGG16 just before last layer\n",
    "x = vgg16_model_base.layers[-1].output\n",
    "\n",
    "# Flatten the outputs of the last conv layer\n",
    "flatten = tf.keras.layers.Flatten(name='flatten')(x)\n",
    "\n",
    "# Fully Connected layers.\n",
    "dense = tf.keras.layers.Dense(256, activation= 'relu',name='fc')(flatten)\n",
    "\n",
    "# adding the prediction layer with 'softmax'\n",
    "predictions = tf.keras.layers.Dense(DatasetConfig.NUM_CLASSES, activation='softmax',name='predictions')(dense)\n",
    "    \n",
    "# Create the new model with the new outputs\n",
    "model = tf.keras.Model(inputs=vgg16_model_base.input, outputs=predictions)"
   ]
  },
  {
   "cell_type": "code",
   "execution_count": 13,
   "id": "f9fd4f69",
   "metadata": {},
   "outputs": [
    {
     "name": "stdout",
     "output_type": "stream",
     "text": [
      "Model: \"model_22\"\n",
      "_________________________________________________________________\n",
      " Layer (type)                Output Shape              Param #   \n",
      "=================================================================\n",
      " input_23 (InputLayer)       [(None, 224, 224, 3)]     0         \n",
      "                                                                 \n",
      " block1_conv1 (Conv2D)       (None, 224, 224, 64)      1792      \n",
      "                                                                 \n",
      " block1_conv2 (Conv2D)       (None, 224, 224, 64)      36928     \n",
      "                                                                 \n",
      " block1_pool (MaxPooling2D)  (None, 112, 112, 64)      0         \n",
      "                                                                 \n",
      " block2_conv1 (Conv2D)       (None, 112, 112, 128)     73856     \n",
      "                                                                 \n",
      " block2_conv2 (Conv2D)       (None, 112, 112, 128)     147584    \n",
      "                                                                 \n",
      " block2_pool (MaxPooling2D)  (None, 56, 56, 128)       0         \n",
      "                                                                 \n",
      " block3_conv1 (Conv2D)       (None, 56, 56, 256)       295168    \n",
      "                                                                 \n",
      " block3_conv2 (Conv2D)       (None, 56, 56, 256)       590080    \n",
      "                                                                 \n",
      " block3_conv3 (Conv2D)       (None, 56, 56, 256)       590080    \n",
      "                                                                 \n",
      " block3_pool (MaxPooling2D)  (None, 28, 28, 256)       0         \n",
      "                                                                 \n",
      " block4_conv1 (Conv2D)       (None, 28, 28, 512)       1180160   \n",
      "                                                                 \n",
      " block4_conv2 (Conv2D)       (None, 28, 28, 512)       2359808   \n",
      "                                                                 \n",
      " block4_conv3 (Conv2D)       (None, 28, 28, 512)       2359808   \n",
      "                                                                 \n",
      " block4_pool (MaxPooling2D)  (None, 14, 14, 512)       0         \n",
      "                                                                 \n",
      " block5_conv1 (Conv2D)       (None, 14, 14, 512)       2359808   \n",
      "                                                                 \n",
      " block5_conv2 (Conv2D)       (None, 14, 14, 512)       2359808   \n",
      "                                                                 \n",
      " block5_conv3 (Conv2D)       (None, 14, 14, 512)       2359808   \n",
      "                                                                 \n",
      " block5_pool (MaxPooling2D)  (None, 7, 7, 512)         0         \n",
      "                                                                 \n",
      " flatten (Flatten)           (None, 25088)             0         \n",
      "                                                                 \n",
      " fc (Dense)                  (None, 256)               6422784   \n",
      "                                                                 \n",
      " predictions (Dense)         (None, 29)                7453      \n",
      "                                                                 \n",
      "=================================================================\n",
      "Total params: 21,144,925\n",
      "Trainable params: 21,144,925\n",
      "Non-trainable params: 0\n",
      "_________________________________________________________________\n",
      "None\n"
     ]
    }
   ],
   "source": [
    "print(model.summary())"
   ]
  },
  {
   "cell_type": "markdown",
   "id": "7e40ac40",
   "metadata": {},
   "source": [
    "### 4.3 Inspect the Modified Model (attempt 1)"
   ]
  },
  {
   "cell_type": "code",
   "execution_count": 14,
   "id": "2e076251",
   "metadata": {},
   "outputs": [
    {
     "name": "stdout",
     "output_type": "stream",
     "text": [
      "[VAI INFO] Update include_bias_corr: False\n",
      "[VAI INFO] Update include_fast_ft: False\n",
      "[VAI INFO] Update include_cle: False\n",
      "[INFO] Namespace(batchsize=1, inputs_shape=None, layout='NHWC', model_files=['/tmp/albertabeef/tensorflow_model_optimization/tmp_sub_graph_quantized_20230424-105055-142572_MlSUDs.h5'], model_type='tensorflow2', named_inputs_shape=None, out_filename='/tmp/albertabeef/tensorflow_model_optimization/tmp_sub_graph_xnnc_20230424-105055-142572_MlSUDs.xmodel', proto=None)\n",
      "[INFO] tensorflow2 model: /tmp/albertabeef/tensorflow_model_optimization/tmp_sub_graph_quantized_20230424-105055-142572_MlSUDs.h5\n",
      "[INFO] keras version: 2.10.0\n",
      "[INFO] Tensorflow Keras model type: functional\n"
     ]
    },
    {
     "name": "stderr",
     "output_type": "stream",
     "text": [
      "[INFO] parse raw model     :100%|██████████████████████████████████| 3/3 [00:00<00:00, 3609.56it/s]                  \n",
      "[INFO] infer shape (NHWC)  :100%|██████████████████████████████████| 4/4 [00:00<00:00, 332.37it/s]                   \n",
      "[INFO] perform level-0 opt :100%|██████████████████████████████████| 1/1 [00:00<00:00, 848.36it/s]                   \n",
      "[INFO] perform level-1 opt :100%|██████████████████████████████████| 2/2 [00:00<00:00, 2302.03it/s]                  \n",
      "[INFO] generate xmodel     :100%|██████████████████████████████████| 4/4 [00:00<00:00, 2125.31it/s]                  \n",
      "I20230424 10:50:55.380667  5824 compile_pass_manager.cpp:287] [UNILOG][INFO] Compile mode: dpu\n",
      "I20230424 10:50:55.380702  5824 compile_pass_manager.cpp:288] [UNILOG][INFO] Debug mode: null\n",
      "I20230424 10:50:55.380712  5824 compile_pass_manager.cpp:292] [UNILOG][INFO] Target architecture: DPUCZDX8G_ISA1_B512_0101000016010200\n",
      "I20230424 10:50:55.380802  5824 compile_pass_manager.cpp:357] [UNILOG][INFO] Graph name: model_23, with op num: 4\n",
      "I20230424 10:50:55.380815  5824 compile_pass_manager.cpp:370] [UNILOG][INFO] Begin to compile...\n",
      "I20230424 10:50:55.385149  5824 compile_pass_manager.cpp:381] [UNILOG][INFO] Total device subgraph number 3, DPU subgraph number 1\n",
      "I20230424 10:50:55.385182  5824 compile_pass_manager.cpp:386] [UNILOG][INFO] Compile done.\n"
     ]
    },
    {
     "name": "stdout",
     "output_type": "stream",
     "text": [
      "[INFO] dump xmodel ...\r",
      "[INFO] dump xmodel: /tmp/albertabeef/tensorflow_model_optimization/tmp_sub_graph_xnnc_20230424-105055-142572_MlSUDs.xmodel\n",
      "[INFO] Namespace(batchsize=1, inputs_shape=None, layout='NHWC', model_files=['/tmp/albertabeef/tensorflow_model_optimization/tmp_sub_graph_quantized_20230424-105055-142572_MlSUDs.h5'], model_type='tensorflow2', named_inputs_shape=None, out_filename='/tmp/albertabeef/tensorflow_model_optimization/tmp_sub_graph_xnnc_20230424-105055-142572_MlSUDs.xmodel', proto=None)\n",
      "[INFO] tensorflow2 model: /tmp/albertabeef/tensorflow_model_optimization/tmp_sub_graph_quantized_20230424-105055-142572_MlSUDs.h5\n",
      "[INFO] keras version: 2.10.0\n",
      "[INFO] Tensorflow Keras model type: functional\n"
     ]
    },
    {
     "name": "stderr",
     "output_type": "stream",
     "text": [
      "[INFO] parse raw model     :100%|██████████████████████████████████| 3/3 [00:00<00:00, 2872.81it/s]                  \n",
      "[INFO] infer shape (NHWC)  :100%|██████████████████████████████████| 4/4 [00:00<00:00, 1296.94it/s]                  \n",
      "[INFO] perform level-0 opt :100%|██████████████████████████████████| 1/1 [00:00<00:00, 2304.56it/s]                  \n",
      "[INFO] perform level-1 opt :100%|██████████████████████████████████| 2/2 [00:00<00:00, 8793.09it/s]                  \n",
      "[INFO] generate xmodel     :100%|██████████████████████████████████| 4/4 [00:00<00:00, 2385.84it/s]                  \n",
      "I20230424 10:50:55.473963  5824 compile_pass_manager.cpp:287] [UNILOG][INFO] Compile mode: dpu\n",
      "I20230424 10:50:55.473989  5824 compile_pass_manager.cpp:288] [UNILOG][INFO] Debug mode: null\n",
      "I20230424 10:50:55.473997  5824 compile_pass_manager.cpp:292] [UNILOG][INFO] Target architecture: DPUCZDX8G_ISA1_B512_0101000016010200\n",
      "I20230424 10:50:55.474061  5824 compile_pass_manager.cpp:357] [UNILOG][INFO] Graph name: model_24, with op num: 4\n",
      "I20230424 10:50:55.474066  5824 compile_pass_manager.cpp:370] [UNILOG][INFO] Begin to compile...\n",
      "I20230424 10:50:55.476984  5824 compile_pass_manager.cpp:381] [UNILOG][INFO] Total device subgraph number 3, DPU subgraph number 1\n",
      "I20230424 10:50:55.477005  5824 compile_pass_manager.cpp:386] [UNILOG][INFO] Compile done.\n"
     ]
    },
    {
     "name": "stdout",
     "output_type": "stream",
     "text": [
      "[INFO] dump xmodel ...\r",
      "[INFO] dump xmodel: /tmp/albertabeef/tensorflow_model_optimization/tmp_sub_graph_xnnc_20230424-105055-142572_MlSUDs.xmodel\n",
      "[INFO] Namespace(batchsize=1, inputs_shape=None, layout='NHWC', model_files=['/tmp/albertabeef/tensorflow_model_optimization/tmp_sub_graph_quantized_20230424-105055-142572_MlSUDs.h5'], model_type='tensorflow2', named_inputs_shape=None, out_filename='/tmp/albertabeef/tensorflow_model_optimization/tmp_sub_graph_xnnc_20230424-105055-142572_MlSUDs.xmodel', proto=None)\n",
      "[INFO] tensorflow2 model: /tmp/albertabeef/tensorflow_model_optimization/tmp_sub_graph_quantized_20230424-105055-142572_MlSUDs.h5\n",
      "[INFO] keras version: 2.10.0\n",
      "[INFO] Tensorflow Keras model type: functional\n"
     ]
    },
    {
     "name": "stderr",
     "output_type": "stream",
     "text": [
      "[INFO] parse raw model     :100%|██████████████████████████████████| 3/3 [00:00<00:00, 2899.29it/s]                  \n",
      "[INFO] infer shape (NHWC)  :100%|██████████████████████████████████| 4/4 [00:00<00:00, 2029.42it/s]                  \n",
      "[INFO] perform level-0 opt :100%|██████████████████████████████████| 1/1 [00:00<00:00, 576.54it/s]                   \n",
      "[INFO] perform level-1 opt :100%|██████████████████████████████████| 2/2 [00:00<00:00, 2779.53it/s]                  \n",
      "[INFO] generate xmodel     :100%|██████████████████████████████████| 4/4 [00:00<00:00, 2373.01it/s]                  \n"
     ]
    },
    {
     "name": "stdout",
     "output_type": "stream",
     "text": [
      "[INFO] dump xmodel ...\r",
      "[INFO] dump xmodel: /tmp/albertabeef/tensorflow_model_optimization/tmp_sub_graph_xnnc_20230424-105055-142572_MlSUDs.xmodel\n"
     ]
    },
    {
     "name": "stderr",
     "output_type": "stream",
     "text": [
      "I20230424 10:50:55.580355  5824 compile_pass_manager.cpp:287] [UNILOG][INFO] Compile mode: dpu\n",
      "I20230424 10:50:55.580394  5824 compile_pass_manager.cpp:288] [UNILOG][INFO] Debug mode: null\n",
      "I20230424 10:50:55.580410  5824 compile_pass_manager.cpp:292] [UNILOG][INFO] Target architecture: DPUCZDX8G_ISA1_B512_0101000016010200\n",
      "I20230424 10:50:55.580535  5824 compile_pass_manager.cpp:357] [UNILOG][INFO] Graph name: model_25, with op num: 4\n",
      "I20230424 10:50:55.580550  5824 compile_pass_manager.cpp:370] [UNILOG][INFO] Begin to compile...\n",
      "I20230424 10:50:55.588300  5824 compile_pass_manager.cpp:381] [UNILOG][INFO] Total device subgraph number 3, DPU subgraph number 1\n",
      "I20230424 10:50:55.588343  5824 compile_pass_manager.cpp:386] [UNILOG][INFO] Compile done.\n"
     ]
    },
    {
     "name": "stdout",
     "output_type": "stream",
     "text": [
      "[INFO] Namespace(batchsize=1, inputs_shape=None, layout='NHWC', model_files=['/tmp/albertabeef/tensorflow_model_optimization/tmp_sub_graph_quantized_20230424-105055-142572_MlSUDs.h5'], model_type='tensorflow2', named_inputs_shape=None, out_filename='/tmp/albertabeef/tensorflow_model_optimization/tmp_sub_graph_xnnc_20230424-105055-142572_MlSUDs.xmodel', proto=None)\n",
      "[INFO] tensorflow2 model: /tmp/albertabeef/tensorflow_model_optimization/tmp_sub_graph_quantized_20230424-105055-142572_MlSUDs.h5\n",
      "[INFO] keras version: 2.10.0\n",
      "[INFO] Tensorflow Keras model type: functional\n"
     ]
    },
    {
     "name": "stderr",
     "output_type": "stream",
     "text": [
      "[INFO] parse raw model     :100%|██████████████████████████████████| 3/3 [00:00<00:00, 2167.97it/s]                  \n",
      "[INFO] infer shape (NHWC)  :100%|██████████████████████████████████| 4/4 [00:00<00:00, 2584.69it/s]                  \n",
      "[INFO] perform level-0 opt :100%|██████████████████████████████████| 1/1 [00:00<00:00, 771.58it/s]                   \n",
      "[INFO] perform level-1 opt :100%|██████████████████████████████████| 2/2 [00:00<00:00, 3140.62it/s]                  \n",
      "[INFO] generate xmodel     :100%|██████████████████████████████████| 4/4 [00:00<00:00, 3894.43it/s]                  \n",
      "I20230424 10:50:55.687435  5824 compile_pass_manager.cpp:287] [UNILOG][INFO] Compile mode: dpu\n",
      "I20230424 10:50:55.687461  5824 compile_pass_manager.cpp:288] [UNILOG][INFO] Debug mode: null\n",
      "I20230424 10:50:55.687470  5824 compile_pass_manager.cpp:292] [UNILOG][INFO] Target architecture: DPUCZDX8G_ISA1_B512_0101000016010200\n",
      "I20230424 10:50:55.687551  5824 compile_pass_manager.cpp:357] [UNILOG][INFO] Graph name: model_26, with op num: 4\n",
      "I20230424 10:50:55.687561  5824 compile_pass_manager.cpp:370] [UNILOG][INFO] Begin to compile...\n",
      "I20230424 10:50:55.692953  5824 compile_pass_manager.cpp:381] [UNILOG][INFO] Total device subgraph number 3, DPU subgraph number 1\n",
      "I20230424 10:50:55.692991  5824 compile_pass_manager.cpp:386] [UNILOG][INFO] Compile done.\n"
     ]
    },
    {
     "name": "stdout",
     "output_type": "stream",
     "text": [
      "[INFO] dump xmodel ...\r",
      "[INFO] dump xmodel: /tmp/albertabeef/tensorflow_model_optimization/tmp_sub_graph_xnnc_20230424-105055-142572_MlSUDs.xmodel\n",
      "[INFO] Namespace(batchsize=1, inputs_shape=None, layout='NHWC', model_files=['/tmp/albertabeef/tensorflow_model_optimization/tmp_sub_graph_quantized_20230424-105055-142572_MlSUDs.h5'], model_type='tensorflow2', named_inputs_shape=None, out_filename='/tmp/albertabeef/tensorflow_model_optimization/tmp_sub_graph_xnnc_20230424-105055-142572_MlSUDs.xmodel', proto=None)\n",
      "[INFO] tensorflow2 model: /tmp/albertabeef/tensorflow_model_optimization/tmp_sub_graph_quantized_20230424-105055-142572_MlSUDs.h5\n",
      "[INFO] keras version: 2.10.0\n",
      "[INFO] Tensorflow Keras model type: functional\n"
     ]
    },
    {
     "name": "stderr",
     "output_type": "stream",
     "text": [
      "[INFO] parse raw model     :100%|██████████████████████████████████| 3/3 [00:00<00:00, 10529.63it/s]                 \n",
      "[INFO] infer shape (NHWC)  :100%|██████████████████████████████████| 4/4 [00:00<00:00, 5165.40it/s]                  \n",
      "[INFO] perform level-0 opt :100%|██████████████████████████████████| 1/1 [00:00<00:00, 2540.46it/s]                  \n",
      "[INFO] perform level-1 opt :100%|██████████████████████████████████| 2/2 [00:00<00:00, 7345.54it/s]                  \n",
      "[INFO] generate xmodel     :100%|██████████████████████████████████| 4/4 [00:00<00:00, 3269.14it/s]                  \n",
      "I20230424 10:50:55.780737  5824 compile_pass_manager.cpp:287] [UNILOG][INFO] Compile mode: dpu\n",
      "I20230424 10:50:55.780766  5824 compile_pass_manager.cpp:288] [UNILOG][INFO] Debug mode: null\n",
      "I20230424 10:50:55.780776  5824 compile_pass_manager.cpp:292] [UNILOG][INFO] Target architecture: DPUCZDX8G_ISA1_B512_0101000016010200\n",
      "I20230424 10:50:55.780858  5824 compile_pass_manager.cpp:357] [UNILOG][INFO] Graph name: model_27, with op num: 4\n",
      "I20230424 10:50:55.780866  5824 compile_pass_manager.cpp:370] [UNILOG][INFO] Begin to compile...\n",
      "I20230424 10:50:55.785468  5824 compile_pass_manager.cpp:381] [UNILOG][INFO] Total device subgraph number 3, DPU subgraph number 1\n",
      "I20230424 10:50:55.785493  5824 compile_pass_manager.cpp:386] [UNILOG][INFO] Compile done.\n"
     ]
    },
    {
     "name": "stdout",
     "output_type": "stream",
     "text": [
      "[INFO] dump xmodel: /tmp/albertabeef/tensorflow_model_optimization/tmp_sub_graph_xnnc_20230424-105055-142572_MlSUDs.xmodel\n",
      "[INFO] Namespace(batchsize=1, inputs_shape=None, layout='NHWC', model_files=['/tmp/albertabeef/tensorflow_model_optimization/tmp_sub_graph_quantized_20230424-105055-144512_UvbcIl.h5'], model_type='tensorflow2', named_inputs_shape=None, out_filename='/tmp/albertabeef/tensorflow_model_optimization/tmp_sub_graph_xnnc_20230424-105055-144512_UvbcIl.xmodel', proto=None)\n",
      "[INFO] tensorflow2 model: /tmp/albertabeef/tensorflow_model_optimization/tmp_sub_graph_quantized_20230424-105055-144512_UvbcIl.h5\n",
      "[INFO] keras version: 2.10.0\n",
      "[INFO] Tensorflow Keras model type: functional\n"
     ]
    },
    {
     "name": "stderr",
     "output_type": "stream",
     "text": [
      "[INFO] parse raw model     :100%|██████████████████████████████████| 4/4 [00:00<00:00, 12255.09it/s]                 \n",
      "[INFO] infer shape (NHWC)  :100%|██████████████████████████████████| 5/5 [00:00<00:00, 778.89it/s]                   \n",
      "[INFO] perform level-0 opt :100%|██████████████████████████████████| 1/1 [00:00<00:00, 886.93it/s]                   \n",
      "[INFO] perform level-1 opt :100%|██████████████████████████████████| 2/2 [00:00<00:00, 4366.79it/s]                  \n",
      "[INFO] generate xmodel     :100%|██████████████████████████████████| 5/5 [00:00<00:00, 1786.03it/s]                  \n",
      "I20230424 10:50:55.930356  5824 compile_pass_manager.cpp:287] [UNILOG][INFO] Compile mode: dpu\n",
      "I20230424 10:50:55.930397  5824 compile_pass_manager.cpp:288] [UNILOG][INFO] Debug mode: null\n",
      "I20230424 10:50:55.930413  5824 compile_pass_manager.cpp:292] [UNILOG][INFO] Target architecture: DPUCZDX8G_ISA1_B512_0101000016010200\n",
      "I20230424 10:50:55.930526  5824 compile_pass_manager.cpp:357] [UNILOG][INFO] Graph name: model_28, with op num: 9\n",
      "I20230424 10:50:55.930541  5824 compile_pass_manager.cpp:370] [UNILOG][INFO] Begin to compile...\n",
      "I20230424 10:50:55.939937  5824 compile_pass_manager.cpp:381] [UNILOG][INFO] Total device subgraph number 3, DPU subgraph number 1\n",
      "I20230424 10:50:55.939975  5824 compile_pass_manager.cpp:386] [UNILOG][INFO] Compile done.\n"
     ]
    },
    {
     "name": "stdout",
     "output_type": "stream",
     "text": [
      "[INFO] dump xmodel: /tmp/albertabeef/tensorflow_model_optimization/tmp_sub_graph_xnnc_20230424-105055-144512_UvbcIl.xmodel\n",
      "[INFO] Namespace(batchsize=1, inputs_shape=None, layout='NHWC', model_files=['/tmp/albertabeef/tensorflow_model_optimization/tmp_sub_graph_quantized_20230424-105055-144512_UvbcIl.h5'], model_type='tensorflow2', named_inputs_shape=None, out_filename='/tmp/albertabeef/tensorflow_model_optimization/tmp_sub_graph_xnnc_20230424-105055-144512_UvbcIl.xmodel', proto=None)\n",
      "[INFO] tensorflow2 model: /tmp/albertabeef/tensorflow_model_optimization/tmp_sub_graph_quantized_20230424-105055-144512_UvbcIl.h5\n",
      "[INFO] keras version: 2.10.0\n",
      "[INFO] Tensorflow Keras model type: functional\n"
     ]
    },
    {
     "name": "stderr",
     "output_type": "stream",
     "text": [
      "[INFO] parse raw model     :100%|██████████████████████████████████| 4/4 [00:00<00:00, 4353.20it/s]                  \n",
      "[INFO] infer shape (NHWC)  :100%|██████████████████████████████████| 5/5 [00:00<00:00, 175.93it/s]                   \n",
      "[INFO] perform level-0 opt :100%|██████████████████████████████████| 1/1 [00:00<00:00, 2706.00it/s]                  \n",
      "[INFO] perform level-1 opt :100%|██████████████████████████████████| 2/2 [00:00<00:00, 5285.83it/s]                  \n",
      "[INFO] generate xmodel     :100%|██████████████████████████████████| 5/5 [00:00<00:00, 1135.68it/s]                  \n",
      "I20230424 10:50:56.115074  5824 compile_pass_manager.cpp:287] [UNILOG][INFO] Compile mode: dpu\n",
      "I20230424 10:50:56.115111  5824 compile_pass_manager.cpp:288] [UNILOG][INFO] Debug mode: null\n",
      "I20230424 10:50:56.115124  5824 compile_pass_manager.cpp:292] [UNILOG][INFO] Target architecture: DPUCZDX8G_ISA1_B512_0101000016010200\n"
     ]
    },
    {
     "name": "stdout",
     "output_type": "stream",
     "text": [
      "[INFO] dump xmodel ...\r",
      "[INFO] dump xmodel: /tmp/albertabeef/tensorflow_model_optimization/tmp_sub_graph_xnnc_20230424-105055-144512_UvbcIl.xmodel\n"
     ]
    },
    {
     "name": "stderr",
     "output_type": "stream",
     "text": [
      "I20230424 10:50:56.115236  5824 compile_pass_manager.cpp:357] [UNILOG][INFO] Graph name: model_29, with op num: 9\n",
      "I20230424 10:50:56.115247  5824 compile_pass_manager.cpp:370] [UNILOG][INFO] Begin to compile...\n",
      "I20230424 10:50:56.126231  5824 compile_pass_manager.cpp:381] [UNILOG][INFO] Total device subgraph number 3, DPU subgraph number 1\n",
      "I20230424 10:50:56.126260  5824 compile_pass_manager.cpp:386] [UNILOG][INFO] Compile done.\n"
     ]
    },
    {
     "name": "stdout",
     "output_type": "stream",
     "text": [
      "[INFO] Namespace(batchsize=1, inputs_shape=None, layout='NHWC', model_files=['/tmp/albertabeef/tensorflow_model_optimization/tmp_sub_graph_quantized_20230424-105055-144512_UvbcIl.h5'], model_type='tensorflow2', named_inputs_shape=None, out_filename='/tmp/albertabeef/tensorflow_model_optimization/tmp_sub_graph_xnnc_20230424-105055-144512_UvbcIl.xmodel', proto=None)\n",
      "[INFO] tensorflow2 model: /tmp/albertabeef/tensorflow_model_optimization/tmp_sub_graph_quantized_20230424-105055-144512_UvbcIl.h5\n",
      "[INFO] keras version: 2.10.0\n",
      "[INFO] Tensorflow Keras model type: functional\n"
     ]
    },
    {
     "name": "stderr",
     "output_type": "stream",
     "text": [
      "[INFO] parse raw model     :100%|██████████████████████████████████| 4/4 [00:00<00:00, 8742.69it/s]                  \n",
      "[INFO] infer shape (NHWC)  :100%|██████████████████████████████████| 5/5 [00:00<00:00, 1693.57it/s]                  \n",
      "[INFO] perform level-0 opt :100%|██████████████████████████████████| 1/1 [00:00<00:00, 2748.56it/s]                  \n",
      "[INFO] perform level-1 opt :100%|██████████████████████████████████| 2/2 [00:00<00:00, 8456.26it/s]                  \n",
      "[INFO] generate xmodel     :100%|██████████████████████████████████| 5/5 [00:00<00:00, 1181.16it/s]                  \n",
      "I20230424 10:50:56.269701  5824 compile_pass_manager.cpp:287] [UNILOG][INFO] Compile mode: dpu\n",
      "I20230424 10:50:56.269737  5824 compile_pass_manager.cpp:288] [UNILOG][INFO] Debug mode: null\n",
      "I20230424 10:50:56.269748  5824 compile_pass_manager.cpp:292] [UNILOG][INFO] Target architecture: DPUCZDX8G_ISA1_B512_0101000016010200\n",
      "I20230424 10:50:56.269845  5824 compile_pass_manager.cpp:357] [UNILOG][INFO] Graph name: model_30, with op num: 9\n",
      "I20230424 10:50:56.269856  5824 compile_pass_manager.cpp:370] [UNILOG][INFO] Begin to compile...\n",
      "I20230424 10:50:56.282888  5824 compile_pass_manager.cpp:381] [UNILOG][INFO] Total device subgraph number 3, DPU subgraph number 1\n",
      "I20230424 10:50:56.282930  5824 compile_pass_manager.cpp:386] [UNILOG][INFO] Compile done.\n"
     ]
    },
    {
     "name": "stdout",
     "output_type": "stream",
     "text": [
      "[INFO] dump xmodel: /tmp/albertabeef/tensorflow_model_optimization/tmp_sub_graph_xnnc_20230424-105055-144512_UvbcIl.xmodel\n",
      "[INFO] Namespace(batchsize=1, inputs_shape=None, layout='NHWC', model_files=['/tmp/albertabeef/tensorflow_model_optimization/tmp_sub_graph_quantized_20230424-105055-144512_UvbcIl.h5'], model_type='tensorflow2', named_inputs_shape=None, out_filename='/tmp/albertabeef/tensorflow_model_optimization/tmp_sub_graph_xnnc_20230424-105055-144512_UvbcIl.xmodel', proto=None)\n",
      "[INFO] tensorflow2 model: /tmp/albertabeef/tensorflow_model_optimization/tmp_sub_graph_quantized_20230424-105055-144512_UvbcIl.h5\n",
      "[INFO] keras version: 2.10.0\n",
      "[INFO] Tensorflow Keras model type: functional\n"
     ]
    },
    {
     "name": "stderr",
     "output_type": "stream",
     "text": [
      "[INFO] parse raw model     :100%|██████████████████████████████████| 4/4 [00:00<00:00, 4894.17it/s]                  \n",
      "[INFO] infer shape (NHWC)  :100%|██████████████████████████████████| 5/5 [00:00<00:00, 836.08it/s]                   \n",
      "[INFO] perform level-0 opt :100%|██████████████████████████████████| 1/1 [00:00<00:00, 1909.11it/s]                  \n",
      "[INFO] perform level-1 opt :100%|██████████████████████████████████| 2/2 [00:00<00:00, 5315.97it/s]                  \n",
      "[INFO] generate xmodel     :100%|██████████████████████████████████| 5/5 [00:00<00:00, 1275.64it/s]                  "
     ]
    },
    {
     "name": "stdout",
     "output_type": "stream",
     "text": [
      "[INFO] dump xmodel ...\r",
      "[INFO] dump xmodel: /tmp/albertabeef/tensorflow_model_optimization/tmp_sub_graph_xnnc_20230424-105055-144512_UvbcIl.xmodel\n"
     ]
    },
    {
     "name": "stderr",
     "output_type": "stream",
     "text": [
      "\n",
      "I20230424 10:50:56.430949  5824 compile_pass_manager.cpp:287] [UNILOG][INFO] Compile mode: dpu\n",
      "I20230424 10:50:56.430986  5824 compile_pass_manager.cpp:288] [UNILOG][INFO] Debug mode: null\n",
      "I20230424 10:50:56.431002  5824 compile_pass_manager.cpp:292] [UNILOG][INFO] Target architecture: DPUCZDX8G_ISA1_B512_0101000016010200\n",
      "I20230424 10:50:56.431107  5824 compile_pass_manager.cpp:357] [UNILOG][INFO] Graph name: model_31, with op num: 9\n",
      "I20230424 10:50:56.431123  5824 compile_pass_manager.cpp:370] [UNILOG][INFO] Begin to compile...\n",
      "I20230424 10:50:56.445422  5824 compile_pass_manager.cpp:381] [UNILOG][INFO] Total device subgraph number 3, DPU subgraph number 1\n",
      "I20230424 10:50:56.445454  5824 compile_pass_manager.cpp:386] [UNILOG][INFO] Compile done.\n"
     ]
    },
    {
     "name": "stdout",
     "output_type": "stream",
     "text": [
      "[INFO] Namespace(batchsize=1, inputs_shape=None, layout='NHWC', model_files=['/tmp/albertabeef/tensorflow_model_optimization/tmp_sub_graph_quantized_20230424-105055-144512_UvbcIl.h5'], model_type='tensorflow2', named_inputs_shape=None, out_filename='/tmp/albertabeef/tensorflow_model_optimization/tmp_sub_graph_xnnc_20230424-105055-144512_UvbcIl.xmodel', proto=None)\n",
      "[INFO] tensorflow2 model: /tmp/albertabeef/tensorflow_model_optimization/tmp_sub_graph_quantized_20230424-105055-144512_UvbcIl.h5\n",
      "[INFO] keras version: 2.10.0\n",
      "[INFO] Tensorflow Keras model type: functional\n"
     ]
    },
    {
     "name": "stderr",
     "output_type": "stream",
     "text": [
      "[INFO] parse raw model     :100%|██████████████████████████████████| 4/4 [00:00<00:00, 10479.21it/s]                 \n",
      "[INFO] infer shape (NHWC)  :100%|██████████████████████████████████| 5/5 [00:00<00:00, 2368.33it/s]                  \n",
      "[INFO] perform level-0 opt :100%|██████████████████████████████████| 1/1 [00:00<00:00, 1855.89it/s]                  \n",
      "[INFO] perform level-1 opt :100%|██████████████████████████████████| 2/2 [00:00<00:00, 5706.54it/s]                  \n",
      "[INFO] generate xmodel     :100%|██████████████████████████████████| 5/5 [00:00<00:00, 657.33it/s]                   "
     ]
    },
    {
     "name": "stdout",
     "output_type": "stream",
     "text": [
      "[INFO] dump xmodel ...\r"
     ]
    },
    {
     "name": "stderr",
     "output_type": "stream",
     "text": [
      "\n",
      "I20230424 10:50:56.591182  5824 compile_pass_manager.cpp:287] [UNILOG][INFO] Compile mode: dpu\n",
      "I20230424 10:50:56.591207  5824 compile_pass_manager.cpp:288] [UNILOG][INFO] Debug mode: null\n",
      "I20230424 10:50:56.591214  5824 compile_pass_manager.cpp:292] [UNILOG][INFO] Target architecture: DPUCZDX8G_ISA1_B512_0101000016010200\n",
      "I20230424 10:50:56.591284  5824 compile_pass_manager.cpp:357] [UNILOG][INFO] Graph name: model_32, with op num: 9\n",
      "I20230424 10:50:56.591290  5824 compile_pass_manager.cpp:370] [UNILOG][INFO] Begin to compile...\n",
      "I20230424 10:50:56.607169  5824 compile_pass_manager.cpp:381] [UNILOG][INFO] Total device subgraph number 3, DPU subgraph number 1\n",
      "I20230424 10:50:56.607195  5824 compile_pass_manager.cpp:386] [UNILOG][INFO] Compile done.\n"
     ]
    },
    {
     "name": "stdout",
     "output_type": "stream",
     "text": [
      "[INFO] dump xmodel: /tmp/albertabeef/tensorflow_model_optimization/tmp_sub_graph_xnnc_20230424-105055-144512_UvbcIl.xmodel\n",
      "[INFO] Namespace(batchsize=1, inputs_shape=None, layout='NHWC', model_files=['/tmp/albertabeef/tensorflow_model_optimization/tmp_sub_graph_quantized_20230424-105055-144512_UvbcIl.h5'], model_type='tensorflow2', named_inputs_shape=None, out_filename='/tmp/albertabeef/tensorflow_model_optimization/tmp_sub_graph_xnnc_20230424-105055-144512_UvbcIl.xmodel', proto=None)\n",
      "[INFO] tensorflow2 model: /tmp/albertabeef/tensorflow_model_optimization/tmp_sub_graph_quantized_20230424-105055-144512_UvbcIl.h5\n",
      "[INFO] keras version: 2.10.0\n",
      "[INFO] Tensorflow Keras model type: functional\n"
     ]
    },
    {
     "name": "stderr",
     "output_type": "stream",
     "text": [
      "[INFO] parse raw model     :100%|██████████████████████████████████| 4/4 [00:00<00:00, 4918.56it/s]                  \n",
      "[INFO] infer shape (NHWC)  :100%|██████████████████████████████████| 5/5 [00:00<00:00, 1472.00it/s]                  \n",
      "[INFO] perform level-0 opt :100%|██████████████████████████████████| 1/1 [00:00<00:00, 937.90it/s]                   \n",
      "[INFO] perform level-1 opt :100%|██████████████████████████████████| 2/2 [00:00<00:00, 1954.93it/s]                  \n",
      "[INFO] generate xmodel     :100%|██████████████████████████████████| 5/5 [00:00<00:00, 493.66it/s]                   \n",
      "I20230424 10:50:56.778110  5824 compile_pass_manager.cpp:287] [UNILOG][INFO] Compile mode: dpu\n",
      "I20230424 10:50:56.778134  5824 compile_pass_manager.cpp:288] [UNILOG][INFO] Debug mode: null\n",
      "I20230424 10:50:56.778141  5824 compile_pass_manager.cpp:292] [UNILOG][INFO] Target architecture: DPUCZDX8G_ISA1_B512_0101000016010200\n"
     ]
    },
    {
     "name": "stdout",
     "output_type": "stream",
     "text": [
      "[INFO] dump xmodel ...\r",
      "[INFO] dump xmodel: /tmp/albertabeef/tensorflow_model_optimization/tmp_sub_graph_xnnc_20230424-105055-144512_UvbcIl.xmodel\n"
     ]
    },
    {
     "name": "stderr",
     "output_type": "stream",
     "text": [
      "I20230424 10:50:56.778221  5824 compile_pass_manager.cpp:357] [UNILOG][INFO] Graph name: model_33, with op num: 9\n",
      "I20230424 10:50:56.778228  5824 compile_pass_manager.cpp:370] [UNILOG][INFO] Begin to compile...\n",
      "I20230424 10:50:56.805905  5824 compile_pass_manager.cpp:381] [UNILOG][INFO] Total device subgraph number 3, DPU subgraph number 1\n",
      "I20230424 10:50:56.805932  5824 compile_pass_manager.cpp:386] [UNILOG][INFO] Compile done.\n"
     ]
    },
    {
     "name": "stdout",
     "output_type": "stream",
     "text": [
      "[INFO] Namespace(batchsize=1, inputs_shape=None, layout='NHWC', model_files=['/tmp/albertabeef/tensorflow_model_optimization/tmp_sub_graph_quantized_20230424-105055-144512_UvbcIl.h5'], model_type='tensorflow2', named_inputs_shape=None, out_filename='/tmp/albertabeef/tensorflow_model_optimization/tmp_sub_graph_xnnc_20230424-105055-144512_UvbcIl.xmodel', proto=None)\n",
      "[INFO] tensorflow2 model: /tmp/albertabeef/tensorflow_model_optimization/tmp_sub_graph_quantized_20230424-105055-144512_UvbcIl.h5\n",
      "[INFO] keras version: 2.10.0\n",
      "[INFO] Tensorflow Keras model type: functional\n"
     ]
    },
    {
     "name": "stderr",
     "output_type": "stream",
     "text": [
      "[INFO] parse raw model     :100%|██████████████████████████████████| 4/4 [00:00<00:00, 4071.15it/s]                  \n",
      "[INFO] infer shape (NHWC)  :100%|██████████████████████████████████| 5/5 [00:00<00:00, 2039.24it/s]                  \n",
      "[INFO] perform level-0 opt :100%|██████████████████████████████████| 1/1 [00:00<00:00, 940.43it/s]                   \n",
      "[INFO] perform level-1 opt :100%|██████████████████████████████████| 2/2 [00:00<00:00, 2798.07it/s]                  \n",
      "[INFO] generate xmodel     :100%|██████████████████████████████████| 5/5 [00:00<00:00, 792.25it/s]                   \n",
      "I20230424 10:50:57.216228  5824 compile_pass_manager.cpp:287] [UNILOG][INFO] Compile mode: dpu\n",
      "I20230424 10:50:57.216253  5824 compile_pass_manager.cpp:288] [UNILOG][INFO] Debug mode: null\n",
      "I20230424 10:50:57.216259  5824 compile_pass_manager.cpp:292] [UNILOG][INFO] Target architecture: DPUCZDX8G_ISA1_B512_0101000016010200\n",
      "I20230424 10:50:57.216325  5824 compile_pass_manager.cpp:357] [UNILOG][INFO] Graph name: model_34, with op num: 9\n",
      "I20230424 10:50:57.216331  5824 compile_pass_manager.cpp:370] [UNILOG][INFO] Begin to compile...\n",
      "I20230424 10:50:57.242008  5824 compile_pass_manager.cpp:381] [UNILOG][INFO] Total device subgraph number 3, DPU subgraph number 1\n",
      "I20230424 10:50:57.242035  5824 compile_pass_manager.cpp:386] [UNILOG][INFO] Compile done.\n"
     ]
    },
    {
     "name": "stdout",
     "output_type": "stream",
     "text": [
      "[INFO] dump xmodel ...\r",
      "[INFO] dump xmodel: /tmp/albertabeef/tensorflow_model_optimization/tmp_sub_graph_xnnc_20230424-105055-144512_UvbcIl.xmodel\n",
      "[INFO] Namespace(batchsize=1, inputs_shape=None, layout='NHWC', model_files=['/tmp/albertabeef/tensorflow_model_optimization/tmp_sub_graph_quantized_20230424-105055-144512_UvbcIl.h5'], model_type='tensorflow2', named_inputs_shape=None, out_filename='/tmp/albertabeef/tensorflow_model_optimization/tmp_sub_graph_xnnc_20230424-105055-144512_UvbcIl.xmodel', proto=None)\n",
      "[INFO] tensorflow2 model: /tmp/albertabeef/tensorflow_model_optimization/tmp_sub_graph_quantized_20230424-105055-144512_UvbcIl.h5\n",
      "[INFO] keras version: 2.10.0\n",
      "[INFO] Tensorflow Keras model type: functional\n"
     ]
    },
    {
     "name": "stderr",
     "output_type": "stream",
     "text": [
      "[INFO] parse raw model     :100%|██████████████████████████████████| 4/4 [00:00<00:00, 11610.53it/s]                 \n",
      "[INFO] infer shape (NHWC)  :100%|██████████████████████████████████| 5/5 [00:00<00:00, 3711.77it/s]                  \n",
      "[INFO] perform level-0 opt :100%|██████████████████████████████████| 1/1 [00:00<00:00, 2406.37it/s]                  \n",
      "[INFO] perform level-1 opt :100%|██████████████████████████████████| 2/2 [00:00<00:00, 7423.55it/s]                  \n",
      "[INFO] generate xmodel     :100%|██████████████████████████████████| 5/5 [00:00<00:00, 357.30it/s]                   \n",
      "I20230424 10:50:57.400732  5824 compile_pass_manager.cpp:287] [UNILOG][INFO] Compile mode: dpu\n"
     ]
    },
    {
     "name": "stdout",
     "output_type": "stream",
     "text": [
      "[INFO] dump xmodel ...\r",
      "[INFO] dump xmodel: /tmp/albertabeef/tensorflow_model_optimization/tmp_sub_graph_xnnc_20230424-105055-144512_UvbcIl.xmodel\n"
     ]
    },
    {
     "name": "stderr",
     "output_type": "stream",
     "text": [
      "I20230424 10:50:57.400761  5824 compile_pass_manager.cpp:288] [UNILOG][INFO] Debug mode: null\n",
      "I20230424 10:50:57.400770  5824 compile_pass_manager.cpp:292] [UNILOG][INFO] Target architecture: DPUCZDX8G_ISA1_B512_0101000016010200\n",
      "I20230424 10:50:57.400841  5824 compile_pass_manager.cpp:357] [UNILOG][INFO] Graph name: model_35, with op num: 9\n",
      "I20230424 10:50:57.400851  5824 compile_pass_manager.cpp:370] [UNILOG][INFO] Begin to compile...\n",
      "I20230424 10:50:57.449618  5824 compile_pass_manager.cpp:381] [UNILOG][INFO] Total device subgraph number 3, DPU subgraph number 1\n",
      "I20230424 10:50:57.449645  5824 compile_pass_manager.cpp:386] [UNILOG][INFO] Compile done.\n"
     ]
    },
    {
     "name": "stdout",
     "output_type": "stream",
     "text": [
      "[INFO] Namespace(batchsize=1, inputs_shape=None, layout='NHWC', model_files=['/tmp/albertabeef/tensorflow_model_optimization/tmp_sub_graph_quantized_20230424-105055-144512_UvbcIl.h5'], model_type='tensorflow2', named_inputs_shape=None, out_filename='/tmp/albertabeef/tensorflow_model_optimization/tmp_sub_graph_xnnc_20230424-105055-144512_UvbcIl.xmodel', proto=None)\n",
      "[INFO] tensorflow2 model: /tmp/albertabeef/tensorflow_model_optimization/tmp_sub_graph_quantized_20230424-105055-144512_UvbcIl.h5\n",
      "[INFO] keras version: 2.10.0\n",
      "[INFO] Tensorflow Keras model type: functional\n"
     ]
    },
    {
     "name": "stderr",
     "output_type": "stream",
     "text": [
      "[INFO] parse raw model     :100%|██████████████████████████████████| 4/4 [00:00<00:00, 11169.92it/s]                 \n",
      "[INFO] infer shape (NHWC)  :100%|██████████████████████████████████| 5/5 [00:00<00:00, 3581.81it/s]                  \n",
      "[INFO] perform level-0 opt :100%|██████████████████████████████████| 1/1 [00:00<00:00, 2074.33it/s]                  \n",
      "[INFO] perform level-1 opt :100%|██████████████████████████████████| 2/2 [00:00<00:00, 1655.54it/s]                  \n",
      "[INFO] generate xmodel     :100%|██████████████████████████████████| 5/5 [00:00<00:00, 126.84it/s]                   \n",
      "I20230424 10:50:57.656514  5824 compile_pass_manager.cpp:287] [UNILOG][INFO] Compile mode: dpu\n",
      "I20230424 10:50:57.656541  5824 compile_pass_manager.cpp:288] [UNILOG][INFO] Debug mode: null\n",
      "I20230424 10:50:57.656565  5824 compile_pass_manager.cpp:292] [UNILOG][INFO] Target architecture: DPUCZDX8G_ISA1_B512_0101000016010200\n",
      "I20230424 10:50:57.656632  5824 compile_pass_manager.cpp:357] [UNILOG][INFO] Graph name: model_36, with op num: 9\n",
      "I20230424 10:50:57.656641  5824 compile_pass_manager.cpp:370] [UNILOG][INFO] Begin to compile...\n",
      "I20230424 10:50:57.742074  5824 compile_pass_manager.cpp:381] [UNILOG][INFO] Total device subgraph number 3, DPU subgraph number 1\n",
      "I20230424 10:50:57.742110  5824 compile_pass_manager.cpp:386] [UNILOG][INFO] Compile done.\n"
     ]
    },
    {
     "name": "stdout",
     "output_type": "stream",
     "text": [
      "[INFO] dump xmodel: /tmp/albertabeef/tensorflow_model_optimization/tmp_sub_graph_xnnc_20230424-105055-144512_UvbcIl.xmodel\n",
      "[INFO] Namespace(batchsize=1, inputs_shape=None, layout='NHWC', model_files=['/tmp/albertabeef/tensorflow_model_optimization/tmp_sub_graph_quantized_20230424-105055-144512_UvbcIl.h5'], model_type='tensorflow2', named_inputs_shape=None, out_filename='/tmp/albertabeef/tensorflow_model_optimization/tmp_sub_graph_xnnc_20230424-105055-144512_UvbcIl.xmodel', proto=None)\n",
      "[INFO] tensorflow2 model: /tmp/albertabeef/tensorflow_model_optimization/tmp_sub_graph_quantized_20230424-105055-144512_UvbcIl.h5\n",
      "[INFO] keras version: 2.10.0\n",
      "[INFO] Tensorflow Keras model type: functional\n"
     ]
    },
    {
     "name": "stderr",
     "output_type": "stream",
     "text": [
      "[INFO] parse raw model     :100%|██████████████████████████████████| 4/4 [00:00<00:00, 12264.05it/s]                 \n",
      "[INFO] infer shape (NHWC)  :100%|██████████████████████████████████| 5/5 [00:00<00:00, 3417.23it/s]                  \n",
      "[INFO] perform level-0 opt :100%|██████████████████████████████████| 1/1 [00:00<00:00, 2174.34it/s]                  \n",
      "[INFO] perform level-1 opt :100%|██████████████████████████████████| 2/2 [00:00<00:00, 4768.96it/s]                  \n",
      "[INFO] generate xmodel     :100%|██████████████████████████████████| 5/5 [00:00<00:00, 188.04it/s]                   "
     ]
    },
    {
     "name": "stdout",
     "output_type": "stream",
     "text": [
      "[INFO] dump xmodel ...\r",
      "[INFO] dump xmodel: /tmp/albertabeef/tensorflow_model_optimization/tmp_sub_graph_xnnc_20230424-105055-144512_UvbcIl.xmodel\n"
     ]
    },
    {
     "name": "stderr",
     "output_type": "stream",
     "text": [
      "\n",
      "I20230424 10:50:57.941561  5824 compile_pass_manager.cpp:287] [UNILOG][INFO] Compile mode: dpu\n",
      "I20230424 10:50:57.941591  5824 compile_pass_manager.cpp:288] [UNILOG][INFO] Debug mode: null\n",
      "I20230424 10:50:57.941602  5824 compile_pass_manager.cpp:292] [UNILOG][INFO] Target architecture: DPUCZDX8G_ISA1_B512_0101000016010200\n",
      "I20230424 10:50:57.941684  5824 compile_pass_manager.cpp:357] [UNILOG][INFO] Graph name: model_37, with op num: 9\n",
      "I20230424 10:50:57.941692  5824 compile_pass_manager.cpp:370] [UNILOG][INFO] Begin to compile...\n",
      "I20230424 10:50:58.030869  5824 compile_pass_manager.cpp:381] [UNILOG][INFO] Total device subgraph number 3, DPU subgraph number 1\n",
      "I20230424 10:50:58.030896  5824 compile_pass_manager.cpp:386] [UNILOG][INFO] Compile done.\n"
     ]
    },
    {
     "name": "stdout",
     "output_type": "stream",
     "text": [
      "[INFO] Namespace(batchsize=1, inputs_shape=None, layout='NHWC', model_files=['/tmp/albertabeef/tensorflow_model_optimization/tmp_sub_graph_quantized_20230424-105055-144512_UvbcIl.h5'], model_type='tensorflow2', named_inputs_shape=None, out_filename='/tmp/albertabeef/tensorflow_model_optimization/tmp_sub_graph_xnnc_20230424-105055-144512_UvbcIl.xmodel', proto=None)\n",
      "[INFO] tensorflow2 model: /tmp/albertabeef/tensorflow_model_optimization/tmp_sub_graph_quantized_20230424-105055-144512_UvbcIl.h5\n",
      "[INFO] keras version: 2.10.0\n",
      "[INFO] Tensorflow Keras model type: functional\n"
     ]
    },
    {
     "name": "stderr",
     "output_type": "stream",
     "text": [
      "[INFO] parse raw model     :100%|██████████████████████████████████| 4/4 [00:00<00:00, 10994.24it/s]                 \n",
      "[INFO] infer shape (NHWC)  :100%|██████████████████████████████████| 5/5 [00:00<00:00, 6121.28it/s]                  \n",
      "[INFO] perform level-0 opt :100%|██████████████████████████████████| 1/1 [00:00<00:00, 2304.56it/s]                  \n",
      "[INFO] perform level-1 opt :100%|██████████████████████████████████| 2/2 [00:00<00:00, 7371.36it/s]                  \n",
      "[INFO] generate xmodel     :100%|██████████████████████████████████| 5/5 [00:00<00:00, 149.45it/s]                   "
     ]
    },
    {
     "name": "stdout",
     "output_type": "stream",
     "text": [
      "[INFO] dump xmodel ...\r",
      "[INFO] dump xmodel: /tmp/albertabeef/tensorflow_model_optimization/tmp_sub_graph_xnnc_20230424-105055-144512_UvbcIl.xmodel\n"
     ]
    },
    {
     "name": "stderr",
     "output_type": "stream",
     "text": [
      "\n",
      "I20230424 10:50:58.241978  5824 compile_pass_manager.cpp:287] [UNILOG][INFO] Compile mode: dpu\n",
      "I20230424 10:50:58.242002  5824 compile_pass_manager.cpp:288] [UNILOG][INFO] Debug mode: null\n",
      "I20230424 10:50:58.242007  5824 compile_pass_manager.cpp:292] [UNILOG][INFO] Target architecture: DPUCZDX8G_ISA1_B512_0101000016010200\n",
      "I20230424 10:50:58.242063  5824 compile_pass_manager.cpp:357] [UNILOG][INFO] Graph name: model_38, with op num: 9\n",
      "I20230424 10:50:58.242067  5824 compile_pass_manager.cpp:370] [UNILOG][INFO] Begin to compile...\n",
      "I20230424 10:50:58.327240  5824 compile_pass_manager.cpp:381] [UNILOG][INFO] Total device subgraph number 3, DPU subgraph number 1\n",
      "I20230424 10:50:58.327266  5824 compile_pass_manager.cpp:386] [UNILOG][INFO] Compile done.\n"
     ]
    },
    {
     "name": "stdout",
     "output_type": "stream",
     "text": [
      "[INFO] Namespace(batchsize=1, inputs_shape=None, layout='NHWC', model_files=['/tmp/albertabeef/tensorflow_model_optimization/tmp_sub_graph_quantized_20230424-105055-144512_UvbcIl.h5'], model_type='tensorflow2', named_inputs_shape=None, out_filename='/tmp/albertabeef/tensorflow_model_optimization/tmp_sub_graph_xnnc_20230424-105055-144512_UvbcIl.xmodel', proto=None)\n",
      "[INFO] tensorflow2 model: /tmp/albertabeef/tensorflow_model_optimization/tmp_sub_graph_quantized_20230424-105055-144512_UvbcIl.h5\n",
      "[INFO] keras version: 2.10.0\n",
      "[INFO] Tensorflow Keras model type: functional\n"
     ]
    },
    {
     "name": "stderr",
     "output_type": "stream",
     "text": [
      "[INFO] parse raw model     :100%|██████████████████████████████████| 4/4 [00:00<00:00, 14966.29it/s]                 \n",
      "[INFO] infer shape (NHWC)  :100%|██████████████████████████████████| 5/5 [00:00<00:00, 4008.32it/s]                  \n",
      "[INFO] perform level-0 opt :100%|██████████████████████████████████| 1/1 [00:00<00:00, 1197.00it/s]                  \n",
      "[INFO] perform level-1 opt :100%|██████████████████████████████████| 2/2 [00:00<00:00, 6250.83it/s]                  \n",
      "[INFO] generate xmodel     :100%|██████████████████████████████████| 5/5 [00:00<00:00, 212.35it/s]                   "
     ]
    },
    {
     "name": "stdout",
     "output_type": "stream",
     "text": [
      "[INFO] dump xmodel ...\r",
      "[INFO] dump xmodel: /tmp/albertabeef/tensorflow_model_optimization/tmp_sub_graph_xnnc_20230424-105055-144512_UvbcIl.xmodel\n"
     ]
    },
    {
     "name": "stderr",
     "output_type": "stream",
     "text": [
      "\n",
      "I20230424 10:50:58.520231  5824 compile_pass_manager.cpp:287] [UNILOG][INFO] Compile mode: dpu\n",
      "I20230424 10:50:58.520252  5824 compile_pass_manager.cpp:288] [UNILOG][INFO] Debug mode: null\n",
      "I20230424 10:50:58.520258  5824 compile_pass_manager.cpp:292] [UNILOG][INFO] Target architecture: DPUCZDX8G_ISA1_B512_0101000016010200\n",
      "I20230424 10:50:58.520314  5824 compile_pass_manager.cpp:357] [UNILOG][INFO] Graph name: model_39, with op num: 9\n",
      "I20230424 10:50:58.520319  5824 compile_pass_manager.cpp:370] [UNILOG][INFO] Begin to compile...\n",
      "I20230424 10:50:58.604632  5824 compile_pass_manager.cpp:381] [UNILOG][INFO] Total device subgraph number 3, DPU subgraph number 1\n",
      "I20230424 10:50:58.604658  5824 compile_pass_manager.cpp:386] [UNILOG][INFO] Compile done.\n"
     ]
    },
    {
     "name": "stdout",
     "output_type": "stream",
     "text": [
      "[INFO] Namespace(batchsize=1, inputs_shape=None, layout='NHWC', model_files=['/tmp/albertabeef/tensorflow_model_optimization/tmp_sub_graph_quantized_20230424-105055-144512_UvbcIl.h5'], model_type='tensorflow2', named_inputs_shape=None, out_filename='/tmp/albertabeef/tensorflow_model_optimization/tmp_sub_graph_xnnc_20230424-105055-144512_UvbcIl.xmodel', proto=None)\n",
      "[INFO] tensorflow2 model: /tmp/albertabeef/tensorflow_model_optimization/tmp_sub_graph_quantized_20230424-105055-144512_UvbcIl.h5\n",
      "[INFO] keras version: 2.10.0\n",
      "[INFO] Tensorflow Keras model type: functional\n"
     ]
    },
    {
     "name": "stderr",
     "output_type": "stream",
     "text": [
      "[INFO] parse raw model     :100%|██████████████████████████████████| 4/4 [00:00<00:00, 14475.60it/s]                 \n",
      "[INFO] infer shape (NHWC)  :100%|██████████████████████████████████| 5/5 [00:00<00:00, 4022.93it/s]                  \n",
      "[INFO] perform level-0 opt :100%|██████████████████████████████████| 1/1 [00:00<00:00, 957.82it/s]                   \n",
      "[INFO] perform level-1 opt :100%|██████████████████████████████████| 2/2 [00:00<00:00, 5745.62it/s]                  \n",
      "[INFO] generate xmodel     :100%|██████████████████████████████████| 5/5 [00:00<00:00, 209.37it/s]                   "
     ]
    },
    {
     "name": "stdout",
     "output_type": "stream",
     "text": [
      "[INFO] dump xmodel ...\r",
      "[INFO] dump xmodel: /tmp/albertabeef/tensorflow_model_optimization/tmp_sub_graph_xnnc_20230424-105055-144512_UvbcIl.xmodel\n"
     ]
    },
    {
     "name": "stderr",
     "output_type": "stream",
     "text": [
      "\n",
      "I20230424 10:50:58.817075  5824 compile_pass_manager.cpp:287] [UNILOG][INFO] Compile mode: dpu\n",
      "I20230424 10:50:58.817096  5824 compile_pass_manager.cpp:288] [UNILOG][INFO] Debug mode: null\n",
      "I20230424 10:50:58.817103  5824 compile_pass_manager.cpp:292] [UNILOG][INFO] Target architecture: DPUCZDX8G_ISA1_B512_0101000016010200\n",
      "I20230424 10:50:58.817162  5824 compile_pass_manager.cpp:357] [UNILOG][INFO] Graph name: model_40, with op num: 9\n",
      "I20230424 10:50:58.817168  5824 compile_pass_manager.cpp:370] [UNILOG][INFO] Begin to compile...\n",
      "I20230424 10:50:58.901015  5824 compile_pass_manager.cpp:381] [UNILOG][INFO] Total device subgraph number 3, DPU subgraph number 1\n",
      "I20230424 10:50:58.901041  5824 compile_pass_manager.cpp:386] [UNILOG][INFO] Compile done.\n"
     ]
    },
    {
     "name": "stdout",
     "output_type": "stream",
     "text": [
      "[INFO] Namespace(batchsize=1, inputs_shape=None, layout='NHWC', model_files=['/tmp/albertabeef/tensorflow_model_optimization/tmp_sub_graph_quantized_20230424-105055-144512_UvbcIl.h5'], model_type='tensorflow2', named_inputs_shape=None, out_filename='/tmp/albertabeef/tensorflow_model_optimization/tmp_sub_graph_xnnc_20230424-105055-144512_UvbcIl.xmodel', proto=None)\n",
      "[INFO] tensorflow2 model: /tmp/albertabeef/tensorflow_model_optimization/tmp_sub_graph_quantized_20230424-105055-144512_UvbcIl.h5\n",
      "[INFO] keras version: 2.10.0\n",
      "[INFO] Tensorflow Keras model type: functional\n"
     ]
    },
    {
     "name": "stderr",
     "output_type": "stream",
     "text": [
      "[INFO] parse raw model     :100%|██████████████████████████████████| 4/4 [00:00<00:00, 10571.65it/s]                 \n",
      "[INFO] infer shape (NHWC)  :100%|██████████████████████████████████| 7/7 [00:00<00:00, 537.11it/s]                   \n",
      "[INFO] perform level-0 opt :100%|██████████████████████████████████| 1/1 [00:00<00:00, 1534.69it/s]                  \n",
      "[INFO] perform level-1 opt :100%|██████████████████████████████████| 2/2 [00:00<00:00, 5096.36it/s]                  \n",
      "[INFO] generate xmodel     :100%|██████████████████████████████████| 7/7 [00:00<00:00, 22.31it/s]                    \n",
      "I20230424 10:50:59.482585  5824 compile_pass_manager.cpp:287] [UNILOG][INFO] Compile mode: dpu\n"
     ]
    },
    {
     "name": "stdout",
     "output_type": "stream",
     "text": [
      "[INFO] dump xmodel ...\r",
      "[INFO] dump xmodel: /tmp/albertabeef/tensorflow_model_optimization/tmp_sub_graph_xnnc_20230424-105055-144512_UvbcIl.xmodel\n"
     ]
    },
    {
     "name": "stderr",
     "output_type": "stream",
     "text": [
      "I20230424 10:50:59.482606  5824 compile_pass_manager.cpp:288] [UNILOG][INFO] Debug mode: null\n",
      "I20230424 10:50:59.482614  5824 compile_pass_manager.cpp:292] [UNILOG][INFO] Target architecture: DPUCZDX8G_ISA1_B512_0101000016010200\n",
      "I20230424 10:50:59.482673  5824 compile_pass_manager.cpp:357] [UNILOG][INFO] Graph name: model_41, with op num: 9\n",
      "I20230424 10:50:59.482678  5824 compile_pass_manager.cpp:370] [UNILOG][INFO] Begin to compile...\n",
      "W20230424 10:50:59.882633  5824 PartitionPass.cpp:3741] [UNILOG][WARNING] xir::Op{name = quant_fc(TransferMatMulToConv2d), type = conv2d-fix} has been assigned to CPU: [Weights(256, 8, 8, 392) is too large to be loaded into parameter buffer. \"kernel_h * kernel_w * kernel_d(=1 for conv2d) * ⌈input_channel / weights_bank_width⌉ * ⌈output_channel_parallel / weights_bank_num⌉\"(3136) is supposed to be less equal than 2048].\n",
      "I20230424 10:50:59.882769  5824 compile_pass_manager.cpp:381] [UNILOG][INFO] Total device subgraph number 5, DPU subgraph number 2\n",
      "I20230424 10:50:59.882787  5824 compile_pass_manager.cpp:386] [UNILOG][INFO] Compile done.\n"
     ]
    },
    {
     "name": "stdout",
     "output_type": "stream",
     "text": [
      "[INFO] Namespace(batchsize=1, inputs_shape=None, layout='NHWC', model_files=['/tmp/albertabeef/tensorflow_model_optimization/tmp_sub_graph_quantized_20230424-105055-144632_eHbTrR.h5'], model_type='tensorflow2', named_inputs_shape=None, out_filename='/tmp/albertabeef/tensorflow_model_optimization/tmp_sub_graph_xnnc_20230424-105055-144632_eHbTrR.xmodel', proto=None)\n",
      "[INFO] tensorflow2 model: /tmp/albertabeef/tensorflow_model_optimization/tmp_sub_graph_quantized_20230424-105055-144632_eHbTrR.h5\n",
      "[INFO] keras version: 2.10.0\n",
      "[INFO] Tensorflow Keras model type: functional\n"
     ]
    },
    {
     "name": "stderr",
     "output_type": "stream",
     "text": [
      "[INFO] parse raw model     :100%|██████████████████████████████████| 3/3 [00:00<00:00, 9052.45it/s]                  \n",
      "[INFO] infer shape (NHWC)  :100%|██████████████████████████████████| 6/6 [00:00<00:00, 24745.16it/s]                 \n",
      "[INFO] perform level-0 opt :100%|██████████████████████████████████| 1/1 [00:00<00:00, 1889.33it/s]                  \n",
      "[INFO] perform level-1 opt :100%|██████████████████████████████████| 2/2 [00:00<00:00, 2754.88it/s]                  \n",
      "[INFO] generate xmodel     :100%|██████████████████████████████████| 6/6 [00:00<00:00, 1462.02it/s]                  \n",
      "I20230424 10:51:00.024927  5824 compile_pass_manager.cpp:287] [UNILOG][INFO] Compile mode: dpu\n",
      "I20230424 10:51:00.024964  5824 compile_pass_manager.cpp:288] [UNILOG][INFO] Debug mode: null\n",
      "I20230424 10:51:00.024979  5824 compile_pass_manager.cpp:292] [UNILOG][INFO] Target architecture: DPUCZDX8G_ISA1_B512_0101000016010200\n",
      "I20230424 10:51:00.025095  5824 compile_pass_manager.cpp:357] [UNILOG][INFO] Graph name: model_42, with op num: 8\n",
      "I20230424 10:51:00.025108  5824 compile_pass_manager.cpp:370] [UNILOG][INFO] Begin to compile...\n",
      "I20230424 10:51:00.038823  5824 compile_pass_manager.cpp:381] [UNILOG][INFO] Total device subgraph number 3, DPU subgraph number 1\n",
      "I20230424 10:51:00.038863  5824 compile_pass_manager.cpp:386] [UNILOG][INFO] Compile done.\n"
     ]
    },
    {
     "name": "stdout",
     "output_type": "stream",
     "text": [
      "[INFO] dump xmodel ...\r",
      "[INFO] dump xmodel: /tmp/albertabeef/tensorflow_model_optimization/tmp_sub_graph_xnnc_20230424-105055-144632_eHbTrR.xmodel\n",
      "[INFO] Namespace(batchsize=1, inputs_shape=None, layout='NHWC', model_files=['/tmp/albertabeef/tensorflow_model_optimization/tmp_sub_graph_quantized_20230424-105055-144853_POuAfQ.h5'], model_type='tensorflow2', named_inputs_shape=None, out_filename='/tmp/albertabeef/tensorflow_model_optimization/tmp_sub_graph_xnnc_20230424-105055-144853_POuAfQ.xmodel', proto=None)\n",
      "[INFO] tensorflow2 model: /tmp/albertabeef/tensorflow_model_optimization/tmp_sub_graph_quantized_20230424-105055-144853_POuAfQ.h5\n",
      "[INFO] keras version: 2.10.0\n",
      "[INFO] Tensorflow Keras model type: functional\n"
     ]
    },
    {
     "name": "stderr",
     "output_type": "stream",
     "text": [
      "[INFO] parse raw model     :100%|██████████████████████████████████| 3/3 [00:00<00:00, 18183.40it/s]                 \n",
      "[INFO] infer shape (NHWC)  :100%|██████████████████████████████████| 3/3 [00:00<00:00, 4114.75it/s]                  \n",
      "[INFO] perform level-0 opt :100%|██████████████████████████████████| 1/1 [00:00<00:00, 3075.00it/s]                  \n",
      "[INFO] perform level-1 opt :100%|██████████████████████████████████| 2/2 [00:00<00:00, 4604.07it/s]                  \n",
      "[INFO] generate xmodel     :100%|██████████████████████████████████| 3/3 [00:00<00:00, 2360.33it/s]                  "
     ]
    },
    {
     "name": "stdout",
     "output_type": "stream",
     "text": [
      "[INFO] dump xmodel ...\r",
      "[INFO] dump xmodel: /tmp/albertabeef/tensorflow_model_optimization/tmp_sub_graph_xnnc_20230424-105055-144853_POuAfQ.xmodel\n"
     ]
    },
    {
     "name": "stderr",
     "output_type": "stream",
     "text": [
      "\n",
      "I20230424 10:51:00.110710  5824 compile_pass_manager.cpp:287] [UNILOG][INFO] Compile mode: dpu\n",
      "I20230424 10:51:00.110735  5824 compile_pass_manager.cpp:288] [UNILOG][INFO] Debug mode: null\n",
      "I20230424 10:51:00.110744  5824 compile_pass_manager.cpp:292] [UNILOG][INFO] Target architecture: DPUCZDX8G_ISA1_B512_0101000016010200\n",
      "I20230424 10:51:00.110883  5824 compile_pass_manager.cpp:357] [UNILOG][INFO] Graph name: model_43, with op num: 3\n",
      "I20230424 10:51:00.110891  5824 compile_pass_manager.cpp:370] [UNILOG][INFO] Begin to compile...\n",
      "I20230424 10:51:00.114202  5824 compile_pass_manager.cpp:381] [UNILOG][INFO] Total device subgraph number 3, DPU subgraph number 1\n",
      "I20230424 10:51:00.114245  5824 compile_pass_manager.cpp:386] [UNILOG][INFO] Compile done.\n"
     ]
    },
    {
     "name": "stdout",
     "output_type": "stream",
     "text": [
      "[VAI INFO] Inspect Results:\n",
      "[MODEL INFO]:\n",
      "________________________________________________________________________________________________________________________\n",
      "Model Name: model_22\n",
      "________________________________________________________________________________________________________________________\n",
      "ID          Name                    Type                    Device      Notes                                           \n",
      "========================================================================================================================\n",
      "0/21        input_23                InputLayer              INPUT                                                       \n",
      "------------------------------------------------------------------------------------------------------------------------\n",
      "1/21        block1_conv1            Conv2D<relu>            DPU                                                         \n",
      "------------------------------------------------------------------------------------------------------------------------\n",
      "2/21        block1_conv2            Conv2D<relu>            DPU                                                         \n",
      "------------------------------------------------------------------------------------------------------------------------\n",
      "3/21        block1_pool             MaxPooling2D            DPU                                                         \n",
      "------------------------------------------------------------------------------------------------------------------------\n",
      "4/21        block2_conv1            Conv2D<relu>            DPU                                                         \n",
      "------------------------------------------------------------------------------------------------------------------------\n",
      "5/21        block2_conv2            Conv2D<relu>            DPU                                                         \n",
      "------------------------------------------------------------------------------------------------------------------------\n",
      "6/21        block2_pool             MaxPooling2D            DPU                                                         \n",
      "------------------------------------------------------------------------------------------------------------------------\n",
      "7/21        block3_conv1            Conv2D<relu>            DPU                                                         \n",
      "------------------------------------------------------------------------------------------------------------------------\n",
      "8/21        block3_conv2            Conv2D<relu>            DPU                                                         \n",
      "------------------------------------------------------------------------------------------------------------------------\n",
      "9/21        block3_conv3            Conv2D<relu>            DPU                                                         \n",
      "------------------------------------------------------------------------------------------------------------------------\n",
      "10/21       block3_pool             MaxPooling2D            DPU                                                         \n",
      "------------------------------------------------------------------------------------------------------------------------\n",
      "11/21       block4_conv1            Conv2D<relu>            DPU                                                         \n",
      "------------------------------------------------------------------------------------------------------------------------\n",
      "12/21       block4_conv2            Conv2D<relu>            DPU                                                         \n",
      "------------------------------------------------------------------------------------------------------------------------\n",
      "13/21       block4_conv3            Conv2D<relu>            DPU                                                         \n",
      "------------------------------------------------------------------------------------------------------------------------\n",
      "14/21       block4_pool             MaxPooling2D            DPU                                                         \n",
      "------------------------------------------------------------------------------------------------------------------------\n",
      "15/21       block5_conv1            Conv2D<relu>            DPU                                                         \n",
      "------------------------------------------------------------------------------------------------------------------------\n",
      "16/21       block5_conv2            Conv2D<relu>            DPU                                                         \n",
      "------------------------------------------------------------------------------------------------------------------------\n",
      "17/21       block5_conv3            Conv2D<relu>            DPU                                                         \n",
      "------------------------------------------------------------------------------------------------------------------------\n",
      "18/21       block5_pool             MaxPooling2D            DPU                                                         \n",
      "------------------------------------------------------------------------------------------------------------------------\n",
      "19/21       flatten                 Flatten                 DPU                                                         \n",
      "------------------------------------------------------------------------------------------------------------------------\n",
      "20/21       fc                      Dense<relu>             CPU         Seperate layer activation `relu`; xir::Op{name =\n",
      "                                                                        quant_fc(TransferMatMulToConv2d), type =        \n",
      "                                                                        conv2d-fix} has been assigned to CPU:           \n",
      "                                                                        [Weights(256, 8, 8, 392) is too large to be     \n",
      "                                                                        loaded into parameter buffer. \"kernel_h *       \n",
      "                                                                        kernel_w * kernel_d(=1 for conv2d) *            \n",
      "                                                                        ⌈input_channel / weights_bank_width⌉ *          \n",
      "                                                                        ⌈output_channel_parallel /                      \n",
      "                                                                        weights_bank_num⌉\"(3136) is supposed to be less \n",
      "                                                                        equal than 2048]                                \n",
      "------------------------------------------------------------------------------------------------------------------------\n",
      "21/21       predictions             Dense<softmax>          DPU+CPU     Seperate layer activation `softmax`; `softmax`  \n",
      "                                                                        is not supported by target                      \n",
      "------------------------------------------------------------------------------------------------------------------------\n",
      "========================================================================================================================\n",
      "[SUMMARY INFO]:\n",
      "- [Target Name]: 0x101000016010200\n",
      "- [Total Layers]: 22\n",
      "- [Layer Types]: InputLayer(1) Conv2D<relu>(13) MaxPooling2D(5) Flatten(1) Dense<relu>(1) Dense<softmax>(1) \n",
      "- [Partition Results]: INPUT(1) DPU(19) CPU(1) DPU+CPU(1) \n",
      "========================================================================================================================\n",
      "[NOTES INFO]:\n",
      "- [20/21] Layer fc (Type:Dense<relu>, Device:CPU):\n",
      "    * Seperate layer activation `relu`\n",
      "    * xir::Op{name = quant_fc(TransferMatMulToConv2d), type = conv2d-fix} has been assigned to CPU: [Weights(256, 8, 8, 392) is too large to be loaded into parameter buffer. \"kernel_h * kernel_w * kernel_d(=1 for conv2d) * ⌈input_channel / weights_bank_width⌉ * ⌈output_channel_parallel / weights_bank_num⌉\"(3136) is supposed to be less equal than 2048]\n",
      "- [21/21] Layer predictions (Type:Dense<softmax>, Device:DPU+CPU):\n",
      "    * Seperate layer activation `softmax`\n",
      "    * `softmax` is not supported by target\n",
      "========================================================================================================================\n",
      "[VAI INFO] Start dumping inspected results to inspect_results.txt\n",
      "[VAI INFO] Inspected results has been dumped in: inspect_results.txt.\n",
      "[VAI INFO] Inspect Finished.\n"
     ]
    }
   ],
   "source": [
    "inspected_model = inspector.inspect_model(model)"
   ]
  },
  {
   "cell_type": "markdown",
   "id": "39715134",
   "metadata": {},
   "source": [
    "### 4.4 Add the Classification Layer (attempt 2)\n",
    "Since we intend to train and use the model to classify hand signals from the ASL dataset (which has 29 classes), we will need to add our own classification layer. In this example, we have chosen to use just a single fully connected dense layer that contains 256 nodes, followed by a softmax output layer that contains 29 nodes for each of the 29 classes. The number of dense layers and the number of nodes per layer is a design choice, but the number of nodes in the output layer must match the number of classes in the dataset.\n",
    "\n",
    "<img src='https://github.com/AlbertaBeef/asl_tutorial/raw/2022.2/images/VGG16_03_asl_vitis_ai.png' width=1000 align='center'><br/>"
   ]
  },
  {
   "cell_type": "code",
   "execution_count": 15,
   "id": "c27164b6",
   "metadata": {
    "execution": {
     "iopub.execute_input": "2023-04-19T17:13:23.874011Z",
     "iopub.status.busy": "2023-04-19T17:13:23.873299Z",
     "iopub.status.idle": "2023-04-19T17:13:23.939787Z",
     "shell.execute_reply": "2023-04-19T17:13:23.938678Z",
     "shell.execute_reply.started": "2023-04-19T17:13:23.873971Z"
    }
   },
   "outputs": [
    {
     "name": "stdout",
     "output_type": "stream",
     "text": [
      "Add Classification Layers (output or top)\n"
     ]
    }
   ],
   "source": [
    "print('Add Classification Layers (output or top)')\n",
    "# Take the output of the VGG16 just before last layer\n",
    "x = vgg16_model_base.layers[-1].output\n",
    "\n",
    "# reduce the size of the last layer (7x7x512=25088)\n",
    "# to account for conv2d/dense limitations in Vitis-AI\n",
    "#x = tf.keras.layers.Conv2D(1024, (7, 7),name='block6_conv')(x)\n",
    "#x = tf.keras.layers.Dropout(0.5)(x)\n",
    "x = tf.keras.layers.MaxPooling2D()(x)\n",
    "    \n",
    "# Flatten the outputs of the last conv layer\n",
    "flatten = tf.keras.layers.Flatten(name='flatten')(x)\n",
    "\n",
    "# Fully Connected layers.\n",
    "dense = tf.keras.layers.Dense(256, activation= 'relu',name='fc')(flatten)\n",
    "\n",
    "# adding the prediction layer with 'softmax'\n",
    "predictions = tf.keras.layers.Dense(DatasetConfig.NUM_CLASSES, activation='softmax',name='predictions')(dense)\n",
    "    \n",
    "# Create the new model with the new outputs\n",
    "model = tf.keras.Model(inputs=vgg16_model_base.input, outputs=predictions)"
   ]
  },
  {
   "cell_type": "code",
   "execution_count": 16,
   "id": "01761d1f",
   "metadata": {
    "execution": {
     "iopub.execute_input": "2023-04-19T17:13:23.942255Z",
     "iopub.status.busy": "2023-04-19T17:13:23.941806Z",
     "iopub.status.idle": "2023-04-19T17:13:23.999986Z",
     "shell.execute_reply": "2023-04-19T17:13:23.999150Z",
     "shell.execute_reply.started": "2023-04-19T17:13:23.942212Z"
    }
   },
   "outputs": [
    {
     "name": "stdout",
     "output_type": "stream",
     "text": [
      "Model: \"model_44\"\n",
      "_________________________________________________________________\n",
      " Layer (type)                Output Shape              Param #   \n",
      "=================================================================\n",
      " input_23 (InputLayer)       [(None, 224, 224, 3)]     0         \n",
      "                                                                 \n",
      " block1_conv1 (Conv2D)       (None, 224, 224, 64)      1792      \n",
      "                                                                 \n",
      " block1_conv2 (Conv2D)       (None, 224, 224, 64)      36928     \n",
      "                                                                 \n",
      " block1_pool (MaxPooling2D)  (None, 112, 112, 64)      0         \n",
      "                                                                 \n",
      " block2_conv1 (Conv2D)       (None, 112, 112, 128)     73856     \n",
      "                                                                 \n",
      " block2_conv2 (Conv2D)       (None, 112, 112, 128)     147584    \n",
      "                                                                 \n",
      " block2_pool (MaxPooling2D)  (None, 56, 56, 128)       0         \n",
      "                                                                 \n",
      " block3_conv1 (Conv2D)       (None, 56, 56, 256)       295168    \n",
      "                                                                 \n",
      " block3_conv2 (Conv2D)       (None, 56, 56, 256)       590080    \n",
      "                                                                 \n",
      " block3_conv3 (Conv2D)       (None, 56, 56, 256)       590080    \n",
      "                                                                 \n",
      " block3_pool (MaxPooling2D)  (None, 28, 28, 256)       0         \n",
      "                                                                 \n",
      " block4_conv1 (Conv2D)       (None, 28, 28, 512)       1180160   \n",
      "                                                                 \n",
      " block4_conv2 (Conv2D)       (None, 28, 28, 512)       2359808   \n",
      "                                                                 \n",
      " block4_conv3 (Conv2D)       (None, 28, 28, 512)       2359808   \n",
      "                                                                 \n",
      " block4_pool (MaxPooling2D)  (None, 14, 14, 512)       0         \n",
      "                                                                 \n",
      " block5_conv1 (Conv2D)       (None, 14, 14, 512)       2359808   \n",
      "                                                                 \n",
      " block5_conv2 (Conv2D)       (None, 14, 14, 512)       2359808   \n",
      "                                                                 \n",
      " block5_conv3 (Conv2D)       (None, 14, 14, 512)       2359808   \n",
      "                                                                 \n",
      " block5_pool (MaxPooling2D)  (None, 7, 7, 512)         0         \n",
      "                                                                 \n",
      " max_pooling2d (MaxPooling2D  (None, 3, 3, 512)        0         \n",
      " )                                                               \n",
      "                                                                 \n",
      " flatten (Flatten)           (None, 4608)              0         \n",
      "                                                                 \n",
      " fc (Dense)                  (None, 256)               1179904   \n",
      "                                                                 \n",
      " predictions (Dense)         (None, 29)                7453      \n",
      "                                                                 \n",
      "=================================================================\n",
      "Total params: 15,902,045\n",
      "Trainable params: 15,902,045\n",
      "Non-trainable params: 0\n",
      "_________________________________________________________________\n",
      "None\n"
     ]
    }
   ],
   "source": [
    "print(model.summary())"
   ]
  },
  {
   "cell_type": "markdown",
   "id": "61c12a65",
   "metadata": {},
   "source": [
    "### 4.5 Inspect the Modified Model (attempt 2)"
   ]
  },
  {
   "cell_type": "code",
   "execution_count": 17,
   "id": "bc94753b",
   "metadata": {},
   "outputs": [
    {
     "name": "stdout",
     "output_type": "stream",
     "text": [
      "[VAI INFO] Update include_bias_corr: False\n",
      "[VAI INFO] Update include_fast_ft: False\n",
      "[VAI INFO] Update include_cle: False\n",
      "[INFO] Namespace(batchsize=1, inputs_shape=None, layout='NHWC', model_files=['/tmp/albertabeef/tensorflow_model_optimization/tmp_sub_graph_quantized_20230424-105103-332241_PvSQKz.h5'], model_type='tensorflow2', named_inputs_shape=None, out_filename='/tmp/albertabeef/tensorflow_model_optimization/tmp_sub_graph_xnnc_20230424-105103-332241_PvSQKz.xmodel', proto=None)\n",
      "[INFO] tensorflow2 model: /tmp/albertabeef/tensorflow_model_optimization/tmp_sub_graph_quantized_20230424-105103-332241_PvSQKz.h5\n",
      "[INFO] keras version: 2.10.0\n",
      "[INFO] Tensorflow Keras model type: functional\n"
     ]
    },
    {
     "name": "stderr",
     "output_type": "stream",
     "text": [
      "[INFO] parse raw model     :100%|██████████████████████████████████| 3/3 [00:00<00:00, 3591.01it/s]                  \n",
      "[INFO] infer shape (NHWC)  :100%|██████████████████████████████████| 4/4 [00:00<00:00, 799.07it/s]                   \n",
      "[INFO] perform level-0 opt :100%|██████████████████████████████████| 1/1 [00:00<00:00, 2235.77it/s]                  \n",
      "[INFO] perform level-1 opt :100%|██████████████████████████████████| 2/2 [00:00<00:00, 5596.14it/s]                  \n",
      "[INFO] generate xmodel     :100%|██████████████████████████████████| 4/4 [00:00<00:00, 4132.32it/s]                  \n",
      "I20230424 10:51:03.567304  5824 compile_pass_manager.cpp:287] [UNILOG][INFO] Compile mode: dpu\n",
      "I20230424 10:51:03.567344  5824 compile_pass_manager.cpp:288] [UNILOG][INFO] Debug mode: null\n",
      "I20230424 10:51:03.567359  5824 compile_pass_manager.cpp:292] [UNILOG][INFO] Target architecture: DPUCZDX8G_ISA1_B512_0101000016010200\n",
      "I20230424 10:51:03.567471  5824 compile_pass_manager.cpp:357] [UNILOG][INFO] Graph name: model_45, with op num: 4\n",
      "I20230424 10:51:03.567487  5824 compile_pass_manager.cpp:370] [UNILOG][INFO] Begin to compile...\n",
      "I20230424 10:51:03.575191  5824 compile_pass_manager.cpp:381] [UNILOG][INFO] Total device subgraph number 3, DPU subgraph number 1\n",
      "I20230424 10:51:03.575230  5824 compile_pass_manager.cpp:386] [UNILOG][INFO] Compile done.\n"
     ]
    },
    {
     "name": "stdout",
     "output_type": "stream",
     "text": [
      "[INFO] dump xmodel ...\r",
      "[INFO] dump xmodel: /tmp/albertabeef/tensorflow_model_optimization/tmp_sub_graph_xnnc_20230424-105103-332241_PvSQKz.xmodel\n",
      "[INFO] Namespace(batchsize=1, inputs_shape=None, layout='NHWC', model_files=['/tmp/albertabeef/tensorflow_model_optimization/tmp_sub_graph_quantized_20230424-105103-332241_PvSQKz.h5'], model_type='tensorflow2', named_inputs_shape=None, out_filename='/tmp/albertabeef/tensorflow_model_optimization/tmp_sub_graph_xnnc_20230424-105103-332241_PvSQKz.xmodel', proto=None)\n",
      "[INFO] tensorflow2 model: /tmp/albertabeef/tensorflow_model_optimization/tmp_sub_graph_quantized_20230424-105103-332241_PvSQKz.h5\n",
      "[INFO] keras version: 2.10.0\n",
      "[INFO] Tensorflow Keras model type: functional\n"
     ]
    },
    {
     "name": "stderr",
     "output_type": "stream",
     "text": [
      "[INFO] parse raw model     :100%|██████████████████████████████████| 3/3 [00:00<00:00, 4602.38it/s]                  \n",
      "[INFO] infer shape (NHWC)  :100%|██████████████████████████████████| 4/4 [00:00<00:00, 1693.81it/s]                  \n",
      "[INFO] perform level-0 opt :100%|██████████████████████████████████| 1/1 [00:00<00:00, 2744.96it/s]                  \n",
      "[INFO] perform level-1 opt :100%|██████████████████████████████████| 2/2 [00:00<00:00, 9351.85it/s]                  \n",
      "[INFO] generate xmodel     :100%|██████████████████████████████████| 4/4 [00:00<00:00, 5195.79it/s]                  \n",
      "I20230424 10:51:03.654947  5824 compile_pass_manager.cpp:287] [UNILOG][INFO] Compile mode: dpu\n",
      "I20230424 10:51:03.654968  5824 compile_pass_manager.cpp:288] [UNILOG][INFO] Debug mode: null\n",
      "I20230424 10:51:03.654973  5824 compile_pass_manager.cpp:292] [UNILOG][INFO] Target architecture: DPUCZDX8G_ISA1_B512_0101000016010200\n",
      "I20230424 10:51:03.655035  5824 compile_pass_manager.cpp:357] [UNILOG][INFO] Graph name: model_46, with op num: 4\n",
      "I20230424 10:51:03.655041  5824 compile_pass_manager.cpp:370] [UNILOG][INFO] Begin to compile...\n",
      "I20230424 10:51:03.658493  5824 compile_pass_manager.cpp:381] [UNILOG][INFO] Total device subgraph number 3, DPU subgraph number 1\n",
      "I20230424 10:51:03.658522  5824 compile_pass_manager.cpp:386] [UNILOG][INFO] Compile done.\n"
     ]
    },
    {
     "name": "stdout",
     "output_type": "stream",
     "text": [
      "[INFO] dump xmodel ...\r",
      "[INFO] dump xmodel: /tmp/albertabeef/tensorflow_model_optimization/tmp_sub_graph_xnnc_20230424-105103-332241_PvSQKz.xmodel\n",
      "[INFO] Namespace(batchsize=1, inputs_shape=None, layout='NHWC', model_files=['/tmp/albertabeef/tensorflow_model_optimization/tmp_sub_graph_quantized_20230424-105103-332241_PvSQKz.h5'], model_type='tensorflow2', named_inputs_shape=None, out_filename='/tmp/albertabeef/tensorflow_model_optimization/tmp_sub_graph_xnnc_20230424-105103-332241_PvSQKz.xmodel', proto=None)\n",
      "[INFO] tensorflow2 model: /tmp/albertabeef/tensorflow_model_optimization/tmp_sub_graph_quantized_20230424-105103-332241_PvSQKz.h5\n",
      "[INFO] keras version: 2.10.0\n",
      "[INFO] Tensorflow Keras model type: functional\n"
     ]
    },
    {
     "name": "stderr",
     "output_type": "stream",
     "text": [
      "[INFO] parse raw model     :100%|██████████████████████████████████| 3/3 [00:00<00:00, 5466.08it/s]                  \n",
      "[INFO] infer shape (NHWC)  :100%|██████████████████████████████████| 4/4 [00:00<00:00, 3041.00it/s]                  \n",
      "[INFO] perform level-0 opt :100%|██████████████████████████████████| 1/1 [00:00<00:00, 3281.93it/s]                  \n",
      "[INFO] perform level-1 opt :100%|██████████████████████████████████| 2/2 [00:00<00:00, 9765.55it/s]                  \n",
      "[INFO] generate xmodel     :100%|██████████████████████████████████| 4/4 [00:00<00:00, 5215.17it/s]                  \n",
      "I20230424 10:51:03.734477  5824 compile_pass_manager.cpp:287] [UNILOG][INFO] Compile mode: dpu\n",
      "I20230424 10:51:03.734498  5824 compile_pass_manager.cpp:288] [UNILOG][INFO] Debug mode: null\n",
      "I20230424 10:51:03.734503  5824 compile_pass_manager.cpp:292] [UNILOG][INFO] Target architecture: DPUCZDX8G_ISA1_B512_0101000016010200\n",
      "I20230424 10:51:03.734560  5824 compile_pass_manager.cpp:357] [UNILOG][INFO] Graph name: model_47, with op num: 4\n",
      "I20230424 10:51:03.734565  5824 compile_pass_manager.cpp:370] [UNILOG][INFO] Begin to compile...\n",
      "I20230424 10:51:03.737483  5824 compile_pass_manager.cpp:381] [UNILOG][INFO] Total device subgraph number 3, DPU subgraph number 1\n",
      "I20230424 10:51:03.737504  5824 compile_pass_manager.cpp:386] [UNILOG][INFO] Compile done.\n"
     ]
    },
    {
     "name": "stdout",
     "output_type": "stream",
     "text": [
      "[INFO] dump xmodel: /tmp/albertabeef/tensorflow_model_optimization/tmp_sub_graph_xnnc_20230424-105103-332241_PvSQKz.xmodel\n",
      "[INFO] Namespace(batchsize=1, inputs_shape=None, layout='NHWC', model_files=['/tmp/albertabeef/tensorflow_model_optimization/tmp_sub_graph_quantized_20230424-105103-332241_PvSQKz.h5'], model_type='tensorflow2', named_inputs_shape=None, out_filename='/tmp/albertabeef/tensorflow_model_optimization/tmp_sub_graph_xnnc_20230424-105103-332241_PvSQKz.xmodel', proto=None)\n",
      "[INFO] tensorflow2 model: /tmp/albertabeef/tensorflow_model_optimization/tmp_sub_graph_quantized_20230424-105103-332241_PvSQKz.h5\n",
      "[INFO] keras version: 2.10.0\n",
      "[INFO] Tensorflow Keras model type: functional\n"
     ]
    },
    {
     "name": "stderr",
     "output_type": "stream",
     "text": [
      "[INFO] parse raw model     :100%|██████████████████████████████████| 3/3 [00:00<00:00, 9177.91it/s]                  \n",
      "[INFO] infer shape (NHWC)  :100%|██████████████████████████████████| 4/4 [00:00<00:00, 2844.08it/s]                  \n",
      "[INFO] perform level-0 opt :100%|██████████████████████████████████| 1/1 [00:00<00:00, 1133.60it/s]                  \n",
      "[INFO] perform level-1 opt :100%|██████████████████████████████████| 2/2 [00:00<00:00, 2984.21it/s]                  \n",
      "[INFO] generate xmodel     :100%|██████████████████████████████████| 4/4 [00:00<00:00, 4500.33it/s]                  \n"
     ]
    },
    {
     "name": "stdout",
     "output_type": "stream",
     "text": [
      "[INFO] dump xmodel ...\r",
      "[INFO] dump xmodel: /tmp/albertabeef/tensorflow_model_optimization/tmp_sub_graph_xnnc_20230424-105103-332241_PvSQKz.xmodel\n"
     ]
    },
    {
     "name": "stderr",
     "output_type": "stream",
     "text": [
      "I20230424 10:51:03.854486  5824 compile_pass_manager.cpp:287] [UNILOG][INFO] Compile mode: dpu\n",
      "I20230424 10:51:03.854521  5824 compile_pass_manager.cpp:288] [UNILOG][INFO] Debug mode: null\n",
      "I20230424 10:51:03.854538  5824 compile_pass_manager.cpp:292] [UNILOG][INFO] Target architecture: DPUCZDX8G_ISA1_B512_0101000016010200\n",
      "I20230424 10:51:03.854640  5824 compile_pass_manager.cpp:357] [UNILOG][INFO] Graph name: model_48, with op num: 4\n",
      "I20230424 10:51:03.854651  5824 compile_pass_manager.cpp:370] [UNILOG][INFO] Begin to compile...\n",
      "I20230424 10:51:03.859587  5824 compile_pass_manager.cpp:381] [UNILOG][INFO] Total device subgraph number 3, DPU subgraph number 1\n",
      "I20230424 10:51:03.859625  5824 compile_pass_manager.cpp:386] [UNILOG][INFO] Compile done.\n"
     ]
    },
    {
     "name": "stdout",
     "output_type": "stream",
     "text": [
      "[INFO] Namespace(batchsize=1, inputs_shape=None, layout='NHWC', model_files=['/tmp/albertabeef/tensorflow_model_optimization/tmp_sub_graph_quantized_20230424-105103-332241_PvSQKz.h5'], model_type='tensorflow2', named_inputs_shape=None, out_filename='/tmp/albertabeef/tensorflow_model_optimization/tmp_sub_graph_xnnc_20230424-105103-332241_PvSQKz.xmodel', proto=None)\n",
      "[INFO] tensorflow2 model: /tmp/albertabeef/tensorflow_model_optimization/tmp_sub_graph_quantized_20230424-105103-332241_PvSQKz.h5\n",
      "[INFO] keras version: 2.10.0\n",
      "[INFO] Tensorflow Keras model type: functional\n"
     ]
    },
    {
     "name": "stderr",
     "output_type": "stream",
     "text": [
      "[INFO] parse raw model     :100%|██████████████████████████████████| 3/3 [00:00<00:00, 8713.93it/s]                  \n",
      "[INFO] infer shape (NHWC)  :100%|██████████████████████████████████| 4/4 [00:00<00:00, 3402.40it/s]                  \n",
      "[INFO] perform level-0 opt :100%|██████████████████████████████████| 1/1 [00:00<00:00, 2576.35it/s]                  \n",
      "[INFO] perform level-1 opt :100%|██████████████████████████████████| 2/2 [00:00<00:00, 3953.16it/s]                  \n",
      "[INFO] generate xmodel     :100%|██████████████████████████████████| 4/4 [00:00<00:00, 3058.74it/s]                  "
     ]
    },
    {
     "name": "stdout",
     "output_type": "stream",
     "text": [
      "[INFO] dump xmodel ...\r",
      "[INFO] dump xmodel: /tmp/albertabeef/tensorflow_model_optimization/tmp_sub_graph_xnnc_20230424-105103-332241_PvSQKz.xmodel\n"
     ]
    },
    {
     "name": "stderr",
     "output_type": "stream",
     "text": [
      "\n",
      "I20230424 10:51:03.959108  5824 compile_pass_manager.cpp:287] [UNILOG][INFO] Compile mode: dpu\n",
      "I20230424 10:51:03.959138  5824 compile_pass_manager.cpp:288] [UNILOG][INFO] Debug mode: null\n",
      "I20230424 10:51:03.959151  5824 compile_pass_manager.cpp:292] [UNILOG][INFO] Target architecture: DPUCZDX8G_ISA1_B512_0101000016010200\n",
      "I20230424 10:51:03.959241  5824 compile_pass_manager.cpp:357] [UNILOG][INFO] Graph name: model_49, with op num: 4\n",
      "I20230424 10:51:03.959252  5824 compile_pass_manager.cpp:370] [UNILOG][INFO] Begin to compile...\n",
      "I20230424 10:51:03.965832  5824 compile_pass_manager.cpp:381] [UNILOG][INFO] Total device subgraph number 3, DPU subgraph number 1\n",
      "I20230424 10:51:03.965865  5824 compile_pass_manager.cpp:386] [UNILOG][INFO] Compile done.\n"
     ]
    },
    {
     "name": "stdout",
     "output_type": "stream",
     "text": [
      "[INFO] Namespace(batchsize=1, inputs_shape=None, layout='NHWC', model_files=['/tmp/albertabeef/tensorflow_model_optimization/tmp_sub_graph_quantized_20230424-105103-332241_PvSQKz.h5'], model_type='tensorflow2', named_inputs_shape=None, out_filename='/tmp/albertabeef/tensorflow_model_optimization/tmp_sub_graph_xnnc_20230424-105103-332241_PvSQKz.xmodel', proto=None)\n",
      "[INFO] tensorflow2 model: /tmp/albertabeef/tensorflow_model_optimization/tmp_sub_graph_quantized_20230424-105103-332241_PvSQKz.h5\n",
      "[INFO] keras version: 2.10.0\n",
      "[INFO] Tensorflow Keras model type: functional\n"
     ]
    },
    {
     "name": "stderr",
     "output_type": "stream",
     "text": [
      "[INFO] parse raw model     :100%|██████████████████████████████████| 3/3 [00:00<00:00, 9369.26it/s]                  \n",
      "[INFO] infer shape (NHWC)  :100%|██████████████████████████████████| 4/4 [00:00<00:00, 5685.26it/s]                  \n",
      "[INFO] perform level-0 opt :100%|██████████████████████████████████| 1/1 [00:00<00:00, 3241.35it/s]                  \n",
      "[INFO] perform level-1 opt :100%|██████████████████████████████████| 2/2 [00:00<00:00, 5671.81it/s]                  \n",
      "[INFO] generate xmodel     :100%|██████████████████████████████████| 4/4 [00:00<00:00, 3609.56it/s]                  \n"
     ]
    },
    {
     "name": "stdout",
     "output_type": "stream",
     "text": [
      "[INFO] dump xmodel ...\r",
      "[INFO] dump xmodel: /tmp/albertabeef/tensorflow_model_optimization/tmp_sub_graph_xnnc_20230424-105103-332241_PvSQKz.xmodel\n"
     ]
    },
    {
     "name": "stderr",
     "output_type": "stream",
     "text": [
      "I20230424 10:51:04.058432  5824 compile_pass_manager.cpp:287] [UNILOG][INFO] Compile mode: dpu\n",
      "I20230424 10:51:04.058459  5824 compile_pass_manager.cpp:288] [UNILOG][INFO] Debug mode: null\n",
      "I20230424 10:51:04.058470  5824 compile_pass_manager.cpp:292] [UNILOG][INFO] Target architecture: DPUCZDX8G_ISA1_B512_0101000016010200\n",
      "I20230424 10:51:04.058554  5824 compile_pass_manager.cpp:357] [UNILOG][INFO] Graph name: model_50, with op num: 4\n",
      "I20230424 10:51:04.058563  5824 compile_pass_manager.cpp:370] [UNILOG][INFO] Begin to compile...\n",
      "I20230424 10:51:04.064937  5824 compile_pass_manager.cpp:381] [UNILOG][INFO] Total device subgraph number 3, DPU subgraph number 1\n",
      "I20230424 10:51:04.064980  5824 compile_pass_manager.cpp:386] [UNILOG][INFO] Compile done.\n"
     ]
    },
    {
     "name": "stdout",
     "output_type": "stream",
     "text": [
      "[INFO] Namespace(batchsize=1, inputs_shape=None, layout='NHWC', model_files=['/tmp/albertabeef/tensorflow_model_optimization/tmp_sub_graph_quantized_20230424-105103-332756_IsOuqC.h5'], model_type='tensorflow2', named_inputs_shape=None, out_filename='/tmp/albertabeef/tensorflow_model_optimization/tmp_sub_graph_xnnc_20230424-105103-332756_IsOuqC.xmodel', proto=None)\n",
      "[INFO] tensorflow2 model: /tmp/albertabeef/tensorflow_model_optimization/tmp_sub_graph_quantized_20230424-105103-332756_IsOuqC.h5\n",
      "[INFO] keras version: 2.10.0\n",
      "[INFO] Tensorflow Keras model type: functional\n"
     ]
    },
    {
     "name": "stderr",
     "output_type": "stream",
     "text": [
      "[INFO] parse raw model     :100%|██████████████████████████████████| 4/4 [00:00<00:00, 10186.53it/s]                 \n",
      "[INFO] infer shape (NHWC)  :100%|██████████████████████████████████| 5/5 [00:00<00:00, 1045.02it/s]                  \n",
      "[INFO] perform level-0 opt :100%|██████████████████████████████████| 1/1 [00:00<00:00, 1952.66it/s]                  \n",
      "[INFO] perform level-1 opt :100%|██████████████████████████████████| 2/2 [00:00<00:00, 5262.61it/s]                  \n",
      "[INFO] generate xmodel     :100%|██████████████████████████████████| 5/5 [00:00<00:00, 2432.89it/s]                  \n",
      "I20230424 10:51:04.229611  5824 compile_pass_manager.cpp:287] [UNILOG][INFO] Compile mode: dpu\n",
      "I20230424 10:51:04.229637  5824 compile_pass_manager.cpp:288] [UNILOG][INFO] Debug mode: null\n",
      "I20230424 10:51:04.229646  5824 compile_pass_manager.cpp:292] [UNILOG][INFO] Target architecture: DPUCZDX8G_ISA1_B512_0101000016010200\n",
      "I20230424 10:51:04.229718  5824 compile_pass_manager.cpp:357] [UNILOG][INFO] Graph name: model_51, with op num: 9\n",
      "I20230424 10:51:04.229727  5824 compile_pass_manager.cpp:370] [UNILOG][INFO] Begin to compile...\n",
      "I20230424 10:51:04.237098  5824 compile_pass_manager.cpp:381] [UNILOG][INFO] Total device subgraph number 3, DPU subgraph number 1\n",
      "I20230424 10:51:04.237128  5824 compile_pass_manager.cpp:386] [UNILOG][INFO] Compile done.\n"
     ]
    },
    {
     "name": "stdout",
     "output_type": "stream",
     "text": [
      "[INFO] dump xmodel: /tmp/albertabeef/tensorflow_model_optimization/tmp_sub_graph_xnnc_20230424-105103-332756_IsOuqC.xmodel\n",
      "[INFO] Namespace(batchsize=1, inputs_shape=None, layout='NHWC', model_files=['/tmp/albertabeef/tensorflow_model_optimization/tmp_sub_graph_quantized_20230424-105103-332756_IsOuqC.h5'], model_type='tensorflow2', named_inputs_shape=None, out_filename='/tmp/albertabeef/tensorflow_model_optimization/tmp_sub_graph_xnnc_20230424-105103-332756_IsOuqC.xmodel', proto=None)\n",
      "[INFO] tensorflow2 model: /tmp/albertabeef/tensorflow_model_optimization/tmp_sub_graph_quantized_20230424-105103-332756_IsOuqC.h5\n",
      "[INFO] keras version: 2.10.0\n",
      "[INFO] Tensorflow Keras model type: functional\n"
     ]
    },
    {
     "name": "stderr",
     "output_type": "stream",
     "text": [
      "[INFO] parse raw model     :100%|██████████████████████████████████| 4/4 [00:00<00:00, 3804.36it/s]                  \n",
      "[INFO] infer shape (NHWC)  :100%|██████████████████████████████████| 5/5 [00:00<00:00, 299.28it/s]                   \n",
      "[INFO] perform level-0 opt :100%|██████████████████████████████████| 1/1 [00:00<00:00, 2613.27it/s]                  \n",
      "[INFO] perform level-1 opt :100%|██████████████████████████████████| 2/2 [00:00<00:00, 6223.00it/s]                  \n",
      "[INFO] generate xmodel     :100%|██████████████████████████████████| 5/5 [00:00<00:00, 2260.84it/s]                  \n",
      "I20230424 10:51:04.400085  5824 compile_pass_manager.cpp:287] [UNILOG][INFO] Compile mode: dpu\n",
      "I20230424 10:51:04.400110  5824 compile_pass_manager.cpp:288] [UNILOG][INFO] Debug mode: null\n",
      "I20230424 10:51:04.400118  5824 compile_pass_manager.cpp:292] [UNILOG][INFO] Target architecture: DPUCZDX8G_ISA1_B512_0101000016010200\n",
      "I20230424 10:51:04.400190  5824 compile_pass_manager.cpp:357] [UNILOG][INFO] Graph name: model_52, with op num: 9\n",
      "I20230424 10:51:04.400197  5824 compile_pass_manager.cpp:370] [UNILOG][INFO] Begin to compile...\n",
      "I20230424 10:51:04.407750  5824 compile_pass_manager.cpp:381] [UNILOG][INFO] Total device subgraph number 3, DPU subgraph number 1\n",
      "I20230424 10:51:04.407774  5824 compile_pass_manager.cpp:386] [UNILOG][INFO] Compile done.\n"
     ]
    },
    {
     "name": "stdout",
     "output_type": "stream",
     "text": [
      "[INFO] dump xmodel: /tmp/albertabeef/tensorflow_model_optimization/tmp_sub_graph_xnnc_20230424-105103-332756_IsOuqC.xmodel\n",
      "[INFO] Namespace(batchsize=1, inputs_shape=None, layout='NHWC', model_files=['/tmp/albertabeef/tensorflow_model_optimization/tmp_sub_graph_quantized_20230424-105103-332756_IsOuqC.h5'], model_type='tensorflow2', named_inputs_shape=None, out_filename='/tmp/albertabeef/tensorflow_model_optimization/tmp_sub_graph_xnnc_20230424-105103-332756_IsOuqC.xmodel', proto=None)\n",
      "[INFO] tensorflow2 model: /tmp/albertabeef/tensorflow_model_optimization/tmp_sub_graph_quantized_20230424-105103-332756_IsOuqC.h5\n",
      "[INFO] keras version: 2.10.0\n",
      "[INFO] Tensorflow Keras model type: functional\n"
     ]
    },
    {
     "name": "stderr",
     "output_type": "stream",
     "text": [
      "[INFO] parse raw model     :100%|██████████████████████████████████| 4/4 [00:00<00:00, 4606.59it/s]                  \n",
      "[INFO] infer shape (NHWC)  :100%|██████████████████████████████████| 5/5 [00:00<00:00, 765.66it/s]                   \n",
      "[INFO] perform level-0 opt :100%|██████████████████████████████████| 1/1 [00:00<00:00, 2039.04it/s]                  \n",
      "[INFO] perform level-1 opt :100%|██████████████████████████████████| 2/2 [00:00<00:00, 5262.61it/s]                  \n",
      "[INFO] generate xmodel     :100%|██████████████████████████████████| 5/5 [00:00<00:00, 1021.75it/s]                  \n",
      "I20230424 10:51:04.569145  5824 compile_pass_manager.cpp:287] [UNILOG][INFO] Compile mode: dpu\n",
      "I20230424 10:51:04.569172  5824 compile_pass_manager.cpp:288] [UNILOG][INFO] Debug mode: null\n",
      "I20230424 10:51:04.569183  5824 compile_pass_manager.cpp:292] [UNILOG][INFO] Target architecture: DPUCZDX8G_ISA1_B512_0101000016010200\n",
      "I20230424 10:51:04.569272  5824 compile_pass_manager.cpp:357] [UNILOG][INFO] Graph name: model_53, with op num: 9\n",
      "I20230424 10:51:04.569280  5824 compile_pass_manager.cpp:370] [UNILOG][INFO] Begin to compile...\n",
      "I20230424 10:51:04.580304  5824 compile_pass_manager.cpp:381] [UNILOG][INFO] Total device subgraph number 3, DPU subgraph number 1\n",
      "I20230424 10:51:04.580334  5824 compile_pass_manager.cpp:386] [UNILOG][INFO] Compile done.\n"
     ]
    },
    {
     "name": "stdout",
     "output_type": "stream",
     "text": [
      "[INFO] dump xmodel: /tmp/albertabeef/tensorflow_model_optimization/tmp_sub_graph_xnnc_20230424-105103-332756_IsOuqC.xmodel\n",
      "[INFO] Namespace(batchsize=1, inputs_shape=None, layout='NHWC', model_files=['/tmp/albertabeef/tensorflow_model_optimization/tmp_sub_graph_quantized_20230424-105103-332756_IsOuqC.h5'], model_type='tensorflow2', named_inputs_shape=None, out_filename='/tmp/albertabeef/tensorflow_model_optimization/tmp_sub_graph_xnnc_20230424-105103-332756_IsOuqC.xmodel', proto=None)\n",
      "[INFO] tensorflow2 model: /tmp/albertabeef/tensorflow_model_optimization/tmp_sub_graph_quantized_20230424-105103-332756_IsOuqC.h5\n",
      "[INFO] keras version: 2.10.0\n",
      "[INFO] Tensorflow Keras model type: functional\n"
     ]
    },
    {
     "name": "stderr",
     "output_type": "stream",
     "text": [
      "[INFO] parse raw model     :100%|██████████████████████████████████| 4/4 [00:00<00:00, 4423.20it/s]                  \n",
      "[INFO] infer shape (NHWC)  :100%|██████████████████████████████████| 5/5 [00:00<00:00, 470.26it/s]                   \n",
      "[INFO] perform level-0 opt :100%|██████████████████████████████████| 1/1 [00:00<00:00, 2461.45it/s]                  \n",
      "[INFO] perform level-1 opt :100%|██████████████████████████████████| 2/2 [00:00<00:00, 8280.96it/s]                  \n",
      "[INFO] generate xmodel     :100%|██████████████████████████████████| 5/5 [00:00<00:00, 1874.97it/s]                  \n",
      "I20230424 10:51:04.743278  5824 compile_pass_manager.cpp:287] [UNILOG][INFO] Compile mode: dpu\n",
      "I20230424 10:51:04.743310  5824 compile_pass_manager.cpp:288] [UNILOG][INFO] Debug mode: null\n",
      "I20230424 10:51:04.743319  5824 compile_pass_manager.cpp:292] [UNILOG][INFO] Target architecture: DPUCZDX8G_ISA1_B512_0101000016010200\n",
      "I20230424 10:51:04.743402  5824 compile_pass_manager.cpp:357] [UNILOG][INFO] Graph name: model_54, with op num: 9\n",
      "I20230424 10:51:04.743409  5824 compile_pass_manager.cpp:370] [UNILOG][INFO] Begin to compile...\n",
      "I20230424 10:51:04.756035  5824 compile_pass_manager.cpp:381] [UNILOG][INFO] Total device subgraph number 3, DPU subgraph number 1\n",
      "I20230424 10:51:04.756065  5824 compile_pass_manager.cpp:386] [UNILOG][INFO] Compile done.\n"
     ]
    },
    {
     "name": "stdout",
     "output_type": "stream",
     "text": [
      "[INFO] dump xmodel: /tmp/albertabeef/tensorflow_model_optimization/tmp_sub_graph_xnnc_20230424-105103-332756_IsOuqC.xmodel\n",
      "[INFO] Namespace(batchsize=1, inputs_shape=None, layout='NHWC', model_files=['/tmp/albertabeef/tensorflow_model_optimization/tmp_sub_graph_quantized_20230424-105103-332756_IsOuqC.h5'], model_type='tensorflow2', named_inputs_shape=None, out_filename='/tmp/albertabeef/tensorflow_model_optimization/tmp_sub_graph_xnnc_20230424-105103-332756_IsOuqC.xmodel', proto=None)\n",
      "[INFO] tensorflow2 model: /tmp/albertabeef/tensorflow_model_optimization/tmp_sub_graph_quantized_20230424-105103-332756_IsOuqC.h5\n",
      "[INFO] keras version: 2.10.0\n",
      "[INFO] Tensorflow Keras model type: functional\n"
     ]
    },
    {
     "name": "stderr",
     "output_type": "stream",
     "text": [
      "[INFO] parse raw model     :100%|██████████████████████████████████| 4/4 [00:00<00:00, 11765.23it/s]                 \n",
      "[INFO] infer shape (NHWC)  :100%|██████████████████████████████████| 5/5 [00:00<00:00, 423.07it/s]                   \n",
      "[INFO] perform level-0 opt :100%|██████████████████████████████████| 1/1 [00:00<00:00, 1362.23it/s]                  \n",
      "[INFO] perform level-1 opt :100%|██████████████████████████████████| 2/2 [00:00<00:00, 2754.88it/s]                  \n",
      "[INFO] generate xmodel     :100%|██████████████████████████████████| 5/5 [00:00<00:00, 836.85it/s]                   \n"
     ]
    },
    {
     "name": "stdout",
     "output_type": "stream",
     "text": [
      "[INFO] dump xmodel ...\r",
      "[INFO] dump xmodel: /tmp/albertabeef/tensorflow_model_optimization/tmp_sub_graph_xnnc_20230424-105103-332756_IsOuqC.xmodel\n"
     ]
    },
    {
     "name": "stderr",
     "output_type": "stream",
     "text": [
      "I20230424 10:51:04.934213  5824 compile_pass_manager.cpp:287] [UNILOG][INFO] Compile mode: dpu\n",
      "I20230424 10:51:04.934248  5824 compile_pass_manager.cpp:288] [UNILOG][INFO] Debug mode: null\n",
      "I20230424 10:51:04.934264  5824 compile_pass_manager.cpp:292] [UNILOG][INFO] Target architecture: DPUCZDX8G_ISA1_B512_0101000016010200\n",
      "I20230424 10:51:04.934363  5824 compile_pass_manager.cpp:357] [UNILOG][INFO] Graph name: model_55, with op num: 9\n",
      "I20230424 10:51:04.934374  5824 compile_pass_manager.cpp:370] [UNILOG][INFO] Begin to compile...\n",
      "I20230424 10:51:04.955303  5824 compile_pass_manager.cpp:381] [UNILOG][INFO] Total device subgraph number 3, DPU subgraph number 1\n",
      "I20230424 10:51:04.955332  5824 compile_pass_manager.cpp:386] [UNILOG][INFO] Compile done.\n"
     ]
    },
    {
     "name": "stdout",
     "output_type": "stream",
     "text": [
      "[INFO] Namespace(batchsize=1, inputs_shape=None, layout='NHWC', model_files=['/tmp/albertabeef/tensorflow_model_optimization/tmp_sub_graph_quantized_20230424-105103-332756_IsOuqC.h5'], model_type='tensorflow2', named_inputs_shape=None, out_filename='/tmp/albertabeef/tensorflow_model_optimization/tmp_sub_graph_xnnc_20230424-105103-332756_IsOuqC.xmodel', proto=None)\n",
      "[INFO] tensorflow2 model: /tmp/albertabeef/tensorflow_model_optimization/tmp_sub_graph_quantized_20230424-105103-332756_IsOuqC.h5\n",
      "[INFO] keras version: 2.10.0\n",
      "[INFO] Tensorflow Keras model type: functional\n"
     ]
    },
    {
     "name": "stderr",
     "output_type": "stream",
     "text": [
      "[INFO] parse raw model     :100%|██████████████████████████████████| 4/4 [00:00<00:00, 4719.33it/s]                  \n",
      "[INFO] infer shape (NHWC)  :100%|██████████████████████████████████| 5/5 [00:00<00:00, 1845.27it/s]                  \n",
      "[INFO] perform level-0 opt :100%|██████████████████████████████████| 1/1 [00:00<00:00, 2045.00it/s]                  \n",
      "[INFO] perform level-1 opt :100%|██████████████████████████████████| 2/2 [00:00<00:00, 2650.43it/s]                  \n",
      "[INFO] generate xmodel     :100%|██████████████████████████████████| 5/5 [00:00<00:00, 647.97it/s]                   \n"
     ]
    },
    {
     "name": "stdout",
     "output_type": "stream",
     "text": [
      "[INFO] dump xmodel ...\r",
      "[INFO] dump xmodel: /tmp/albertabeef/tensorflow_model_optimization/tmp_sub_graph_xnnc_20230424-105103-332756_IsOuqC.xmodel\n"
     ]
    },
    {
     "name": "stderr",
     "output_type": "stream",
     "text": [
      "I20230424 10:51:05.113580  5824 compile_pass_manager.cpp:287] [UNILOG][INFO] Compile mode: dpu\n",
      "I20230424 10:51:05.113606  5824 compile_pass_manager.cpp:288] [UNILOG][INFO] Debug mode: null\n",
      "I20230424 10:51:05.113613  5824 compile_pass_manager.cpp:292] [UNILOG][INFO] Target architecture: DPUCZDX8G_ISA1_B512_0101000016010200\n",
      "I20230424 10:51:05.113687  5824 compile_pass_manager.cpp:357] [UNILOG][INFO] Graph name: model_56, with op num: 9\n",
      "I20230424 10:51:05.113693  5824 compile_pass_manager.cpp:370] [UNILOG][INFO] Begin to compile...\n",
      "I20230424 10:51:05.140292  5824 compile_pass_manager.cpp:381] [UNILOG][INFO] Total device subgraph number 3, DPU subgraph number 1\n",
      "I20230424 10:51:05.140318  5824 compile_pass_manager.cpp:386] [UNILOG][INFO] Compile done.\n"
     ]
    },
    {
     "name": "stdout",
     "output_type": "stream",
     "text": [
      "[INFO] Namespace(batchsize=1, inputs_shape=None, layout='NHWC', model_files=['/tmp/albertabeef/tensorflow_model_optimization/tmp_sub_graph_quantized_20230424-105103-332756_IsOuqC.h5'], model_type='tensorflow2', named_inputs_shape=None, out_filename='/tmp/albertabeef/tensorflow_model_optimization/tmp_sub_graph_xnnc_20230424-105103-332756_IsOuqC.xmodel', proto=None)\n",
      "[INFO] tensorflow2 model: /tmp/albertabeef/tensorflow_model_optimization/tmp_sub_graph_quantized_20230424-105103-332756_IsOuqC.h5\n",
      "[INFO] keras version: 2.10.0\n",
      "[INFO] Tensorflow Keras model type: functional\n"
     ]
    },
    {
     "name": "stderr",
     "output_type": "stream",
     "text": [
      "[INFO] parse raw model     :100%|██████████████████████████████████| 4/4 [00:00<00:00, 4080.06it/s]                  \n",
      "[INFO] infer shape (NHWC)  :100%|██████████████████████████████████| 5/5 [00:00<00:00, 1977.14it/s]                  \n",
      "[INFO] perform level-0 opt :100%|██████████████████████████████████| 1/1 [00:00<00:00, 2631.31it/s]                  \n",
      "[INFO] perform level-1 opt :100%|██████████████████████████████████| 2/2 [00:00<00:00, 3518.71it/s]                  \n",
      "[INFO] generate xmodel     :100%|██████████████████████████████████| 5/5 [00:00<00:00, 534.31it/s]                   \n"
     ]
    },
    {
     "name": "stdout",
     "output_type": "stream",
     "text": [
      "[INFO] dump xmodel ...\r",
      "[INFO] dump xmodel: /tmp/albertabeef/tensorflow_model_optimization/tmp_sub_graph_xnnc_20230424-105103-332756_IsOuqC.xmodel\n"
     ]
    },
    {
     "name": "stderr",
     "output_type": "stream",
     "text": [
      "I20230424 10:51:05.302982  5824 compile_pass_manager.cpp:287] [UNILOG][INFO] Compile mode: dpu\n",
      "I20230424 10:51:05.303020  5824 compile_pass_manager.cpp:288] [UNILOG][INFO] Debug mode: null\n",
      "I20230424 10:51:05.303035  5824 compile_pass_manager.cpp:292] [UNILOG][INFO] Target architecture: DPUCZDX8G_ISA1_B512_0101000016010200\n",
      "I20230424 10:51:05.303129  5824 compile_pass_manager.cpp:357] [UNILOG][INFO] Graph name: model_57, with op num: 9\n",
      "I20230424 10:51:05.303143  5824 compile_pass_manager.cpp:370] [UNILOG][INFO] Begin to compile...\n",
      "I20230424 10:51:05.335948  5824 compile_pass_manager.cpp:381] [UNILOG][INFO] Total device subgraph number 3, DPU subgraph number 1\n",
      "I20230424 10:51:05.335976  5824 compile_pass_manager.cpp:386] [UNILOG][INFO] Compile done.\n"
     ]
    },
    {
     "name": "stdout",
     "output_type": "stream",
     "text": [
      "[INFO] Namespace(batchsize=1, inputs_shape=None, layout='NHWC', model_files=['/tmp/albertabeef/tensorflow_model_optimization/tmp_sub_graph_quantized_20230424-105103-332756_IsOuqC.h5'], model_type='tensorflow2', named_inputs_shape=None, out_filename='/tmp/albertabeef/tensorflow_model_optimization/tmp_sub_graph_xnnc_20230424-105103-332756_IsOuqC.xmodel', proto=None)\n",
      "[INFO] tensorflow2 model: /tmp/albertabeef/tensorflow_model_optimization/tmp_sub_graph_quantized_20230424-105103-332756_IsOuqC.h5\n",
      "[INFO] keras version: 2.10.0\n",
      "[INFO] Tensorflow Keras model type: functional\n"
     ]
    },
    {
     "name": "stderr",
     "output_type": "stream",
     "text": [
      "[INFO] parse raw model     :100%|██████████████████████████████████| 4/4 [00:00<00:00, 11207.23it/s]                 \n",
      "[INFO] infer shape (NHWC)  :100%|██████████████████████████████████| 5/5 [00:00<00:00, 3911.14it/s]                  \n",
      "[INFO] perform level-0 opt :100%|██████████████████████████████████| 1/1 [00:00<00:00, 2054.02it/s]                  \n",
      "[INFO] perform level-1 opt :100%|██████████████████████████████████| 2/2 [00:00<00:00, 5983.32it/s]                  \n",
      "[INFO] generate xmodel     :100%|██████████████████████████████████| 5/5 [00:00<00:00, 331.53it/s]                   \n"
     ]
    },
    {
     "name": "stdout",
     "output_type": "stream",
     "text": [
      "[INFO] dump xmodel ...\r",
      "[INFO] dump xmodel: /tmp/albertabeef/tensorflow_model_optimization/tmp_sub_graph_xnnc_20230424-105103-332756_IsOuqC.xmodel\n"
     ]
    },
    {
     "name": "stderr",
     "output_type": "stream",
     "text": [
      "I20230424 10:51:05.494745  5824 compile_pass_manager.cpp:287] [UNILOG][INFO] Compile mode: dpu\n",
      "I20230424 10:51:05.494765  5824 compile_pass_manager.cpp:288] [UNILOG][INFO] Debug mode: null\n",
      "I20230424 10:51:05.494771  5824 compile_pass_manager.cpp:292] [UNILOG][INFO] Target architecture: DPUCZDX8G_ISA1_B512_0101000016010200\n",
      "I20230424 10:51:05.494830  5824 compile_pass_manager.cpp:357] [UNILOG][INFO] Graph name: model_58, with op num: 9\n",
      "I20230424 10:51:05.494835  5824 compile_pass_manager.cpp:370] [UNILOG][INFO] Begin to compile...\n",
      "I20230424 10:51:05.540899  5824 compile_pass_manager.cpp:381] [UNILOG][INFO] Total device subgraph number 3, DPU subgraph number 1\n",
      "I20230424 10:51:05.540933  5824 compile_pass_manager.cpp:386] [UNILOG][INFO] Compile done.\n"
     ]
    },
    {
     "name": "stdout",
     "output_type": "stream",
     "text": [
      "[INFO] Namespace(batchsize=1, inputs_shape=None, layout='NHWC', model_files=['/tmp/albertabeef/tensorflow_model_optimization/tmp_sub_graph_quantized_20230424-105103-332756_IsOuqC.h5'], model_type='tensorflow2', named_inputs_shape=None, out_filename='/tmp/albertabeef/tensorflow_model_optimization/tmp_sub_graph_xnnc_20230424-105103-332756_IsOuqC.xmodel', proto=None)\n",
      "[INFO] tensorflow2 model: /tmp/albertabeef/tensorflow_model_optimization/tmp_sub_graph_quantized_20230424-105103-332756_IsOuqC.h5\n",
      "[INFO] keras version: 2.10.0\n",
      "[INFO] Tensorflow Keras model type: functional\n"
     ]
    },
    {
     "name": "stderr",
     "output_type": "stream",
     "text": [
      "[INFO] parse raw model     :100%|██████████████████████████████████| 4/4 [00:00<00:00, 7516.67it/s]                  \n",
      "[INFO] infer shape (NHWC)  :100%|██████████████████████████████████| 5/5 [00:00<00:00, 2731.02it/s]                  \n",
      "[INFO] perform level-0 opt :100%|██████████████████████████████████| 1/1 [00:00<00:00, 821.61it/s]                   \n",
      "[INFO] perform level-1 opt :100%|██████████████████████████████████| 2/2 [00:00<00:00, 2945.44it/s]                  \n",
      "[INFO] generate xmodel     :100%|██████████████████████████████████| 5/5 [00:00<00:00, 140.90it/s]                   \n",
      "I20230424 10:51:05.738993  5824 compile_pass_manager.cpp:287] [UNILOG][INFO] Compile mode: dpu\n"
     ]
    },
    {
     "name": "stdout",
     "output_type": "stream",
     "text": [
      "[INFO] dump xmodel ...\r",
      "[INFO] dump xmodel: /tmp/albertabeef/tensorflow_model_optimization/tmp_sub_graph_xnnc_20230424-105103-332756_IsOuqC.xmodel\n"
     ]
    },
    {
     "name": "stderr",
     "output_type": "stream",
     "text": [
      "I20230424 10:51:05.739015  5824 compile_pass_manager.cpp:288] [UNILOG][INFO] Debug mode: null\n",
      "I20230424 10:51:05.739023  5824 compile_pass_manager.cpp:292] [UNILOG][INFO] Target architecture: DPUCZDX8G_ISA1_B512_0101000016010200\n",
      "I20230424 10:51:05.739082  5824 compile_pass_manager.cpp:357] [UNILOG][INFO] Graph name: model_59, with op num: 9\n",
      "I20230424 10:51:05.739087  5824 compile_pass_manager.cpp:370] [UNILOG][INFO] Begin to compile...\n",
      "I20230424 10:51:05.825453  5824 compile_pass_manager.cpp:381] [UNILOG][INFO] Total device subgraph number 3, DPU subgraph number 1\n",
      "I20230424 10:51:05.825481  5824 compile_pass_manager.cpp:386] [UNILOG][INFO] Compile done.\n"
     ]
    },
    {
     "name": "stdout",
     "output_type": "stream",
     "text": [
      "[INFO] Namespace(batchsize=1, inputs_shape=None, layout='NHWC', model_files=['/tmp/albertabeef/tensorflow_model_optimization/tmp_sub_graph_quantized_20230424-105103-332756_IsOuqC.h5'], model_type='tensorflow2', named_inputs_shape=None, out_filename='/tmp/albertabeef/tensorflow_model_optimization/tmp_sub_graph_xnnc_20230424-105103-332756_IsOuqC.xmodel', proto=None)\n",
      "[INFO] tensorflow2 model: /tmp/albertabeef/tensorflow_model_optimization/tmp_sub_graph_quantized_20230424-105103-332756_IsOuqC.h5\n",
      "[INFO] keras version: 2.10.0\n",
      "[INFO] Tensorflow Keras model type: functional\n"
     ]
    },
    {
     "name": "stderr",
     "output_type": "stream",
     "text": [
      "[INFO] parse raw model     :100%|██████████████████████████████████| 4/4 [00:00<00:00, 3546.23it/s]                  \n",
      "[INFO] infer shape (NHWC)  :100%|██████████████████████████████████| 5/5 [00:00<00:00, 1977.89it/s]                  \n",
      "[INFO] perform level-0 opt :100%|██████████████████████████████████| 1/1 [00:00<00:00, 843.08it/s]                   \n",
      "[INFO] perform level-1 opt :100%|██████████████████████████████████| 2/2 [00:00<00:00, 3371.63it/s]                  \n",
      "[INFO] generate xmodel     :100%|██████████████████████████████████| 5/5 [00:00<00:00, 192.82it/s]                   \n"
     ]
    },
    {
     "name": "stdout",
     "output_type": "stream",
     "text": [
      "[INFO] dump xmodel ...\r",
      "[INFO] dump xmodel: /tmp/albertabeef/tensorflow_model_optimization/tmp_sub_graph_xnnc_20230424-105103-332756_IsOuqC.xmodel\n"
     ]
    },
    {
     "name": "stderr",
     "output_type": "stream",
     "text": [
      "I20230424 10:51:06.038918  5824 compile_pass_manager.cpp:287] [UNILOG][INFO] Compile mode: dpu\n",
      "I20230424 10:51:06.038935  5824 compile_pass_manager.cpp:288] [UNILOG][INFO] Debug mode: null\n",
      "I20230424 10:51:06.038941  5824 compile_pass_manager.cpp:292] [UNILOG][INFO] Target architecture: DPUCZDX8G_ISA1_B512_0101000016010200\n",
      "I20230424 10:51:06.038998  5824 compile_pass_manager.cpp:357] [UNILOG][INFO] Graph name: model_60, with op num: 9\n",
      "I20230424 10:51:06.039003  5824 compile_pass_manager.cpp:370] [UNILOG][INFO] Begin to compile...\n",
      "I20230424 10:51:06.127802  5824 compile_pass_manager.cpp:381] [UNILOG][INFO] Total device subgraph number 3, DPU subgraph number 1\n",
      "I20230424 10:51:06.127828  5824 compile_pass_manager.cpp:386] [UNILOG][INFO] Compile done.\n"
     ]
    },
    {
     "name": "stdout",
     "output_type": "stream",
     "text": [
      "[INFO] Namespace(batchsize=1, inputs_shape=None, layout='NHWC', model_files=['/tmp/albertabeef/tensorflow_model_optimization/tmp_sub_graph_quantized_20230424-105103-332756_IsOuqC.h5'], model_type='tensorflow2', named_inputs_shape=None, out_filename='/tmp/albertabeef/tensorflow_model_optimization/tmp_sub_graph_xnnc_20230424-105103-332756_IsOuqC.xmodel', proto=None)\n",
      "[INFO] tensorflow2 model: /tmp/albertabeef/tensorflow_model_optimization/tmp_sub_graph_quantized_20230424-105103-332756_IsOuqC.h5\n",
      "[INFO] keras version: 2.10.0\n",
      "[INFO] Tensorflow Keras model type: functional\n"
     ]
    },
    {
     "name": "stderr",
     "output_type": "stream",
     "text": [
      "[INFO] parse raw model     :100%|██████████████████████████████████| 4/4 [00:00<00:00, 11992.29it/s]                 \n",
      "[INFO] infer shape (NHWC)  :100%|██████████████████████████████████| 5/5 [00:00<00:00, 4258.18it/s]                  \n",
      "[INFO] perform level-0 opt :100%|██████████████████████████████████| 1/1 [00:00<00:00, 967.99it/s]                   \n",
      "[INFO] perform level-1 opt :100%|██████████████████████████████████| 2/2 [00:00<00:00, 2534.32it/s]                  \n",
      "[INFO] generate xmodel     :100%|██████████████████████████████████| 5/5 [00:00<00:00, 156.66it/s]                   \n",
      "I20230424 10:51:06.329131  5824 compile_pass_manager.cpp:287] [UNILOG][INFO] Compile mode: dpu\n",
      "I20230424 10:51:06.329151  5824 compile_pass_manager.cpp:288] [UNILOG][INFO] Debug mode: null\n"
     ]
    },
    {
     "name": "stdout",
     "output_type": "stream",
     "text": [
      "[INFO] dump xmodel ...\r",
      "[INFO] dump xmodel: /tmp/albertabeef/tensorflow_model_optimization/tmp_sub_graph_xnnc_20230424-105103-332756_IsOuqC.xmodel\n"
     ]
    },
    {
     "name": "stderr",
     "output_type": "stream",
     "text": [
      "I20230424 10:51:06.329157  5824 compile_pass_manager.cpp:292] [UNILOG][INFO] Target architecture: DPUCZDX8G_ISA1_B512_0101000016010200\n",
      "I20230424 10:51:06.329219  5824 compile_pass_manager.cpp:357] [UNILOG][INFO] Graph name: model_61, with op num: 9\n",
      "I20230424 10:51:06.329224  5824 compile_pass_manager.cpp:370] [UNILOG][INFO] Begin to compile...\n",
      "I20230424 10:51:06.415376  5824 compile_pass_manager.cpp:381] [UNILOG][INFO] Total device subgraph number 3, DPU subgraph number 1\n",
      "I20230424 10:51:06.415403  5824 compile_pass_manager.cpp:386] [UNILOG][INFO] Compile done.\n"
     ]
    },
    {
     "name": "stdout",
     "output_type": "stream",
     "text": [
      "[INFO] Namespace(batchsize=1, inputs_shape=None, layout='NHWC', model_files=['/tmp/albertabeef/tensorflow_model_optimization/tmp_sub_graph_quantized_20230424-105103-332756_IsOuqC.h5'], model_type='tensorflow2', named_inputs_shape=None, out_filename='/tmp/albertabeef/tensorflow_model_optimization/tmp_sub_graph_xnnc_20230424-105103-332756_IsOuqC.xmodel', proto=None)\n",
      "[INFO] tensorflow2 model: /tmp/albertabeef/tensorflow_model_optimization/tmp_sub_graph_quantized_20230424-105103-332756_IsOuqC.h5\n",
      "[INFO] keras version: 2.10.0\n",
      "[INFO] Tensorflow Keras model type: functional\n"
     ]
    },
    {
     "name": "stderr",
     "output_type": "stream",
     "text": [
      "[INFO] parse raw model     :100%|██████████████████████████████████| 4/4 [00:00<00:00, 2962.60it/s]                  \n",
      "[INFO] infer shape (NHWC)  :100%|██████████████████████████████████| 5/5 [00:00<00:00, 4956.63it/s]                  \n",
      "[INFO] perform level-0 opt :100%|██████████████████████████████████| 1/1 [00:00<00:00, 2458.56it/s]                  \n",
      "[INFO] perform level-1 opt :100%|██████████████████████████████████| 2/2 [00:00<00:00, 6684.15it/s]                  \n",
      "[INFO] generate xmodel     :100%|██████████████████████████████████| 5/5 [00:00<00:00, 160.66it/s]                   \n"
     ]
    },
    {
     "name": "stdout",
     "output_type": "stream",
     "text": [
      "[INFO] dump xmodel ...\r",
      "[INFO] dump xmodel: /tmp/albertabeef/tensorflow_model_optimization/tmp_sub_graph_xnnc_20230424-105103-332756_IsOuqC.xmodel\n"
     ]
    },
    {
     "name": "stderr",
     "output_type": "stream",
     "text": [
      "I20230424 10:51:06.619658  5824 compile_pass_manager.cpp:287] [UNILOG][INFO] Compile mode: dpu\n",
      "I20230424 10:51:06.619678  5824 compile_pass_manager.cpp:288] [UNILOG][INFO] Debug mode: null\n",
      "I20230424 10:51:06.619686  5824 compile_pass_manager.cpp:292] [UNILOG][INFO] Target architecture: DPUCZDX8G_ISA1_B512_0101000016010200\n",
      "I20230424 10:51:06.619745  5824 compile_pass_manager.cpp:357] [UNILOG][INFO] Graph name: model_62, with op num: 9\n",
      "I20230424 10:51:06.619750  5824 compile_pass_manager.cpp:370] [UNILOG][INFO] Begin to compile...\n",
      "I20230424 10:51:06.706353  5824 compile_pass_manager.cpp:381] [UNILOG][INFO] Total device subgraph number 3, DPU subgraph number 1\n",
      "I20230424 10:51:06.706379  5824 compile_pass_manager.cpp:386] [UNILOG][INFO] Compile done.\n"
     ]
    },
    {
     "name": "stdout",
     "output_type": "stream",
     "text": [
      "[INFO] Namespace(batchsize=1, inputs_shape=None, layout='NHWC', model_files=['/tmp/albertabeef/tensorflow_model_optimization/tmp_sub_graph_quantized_20230424-105103-332756_IsOuqC.h5'], model_type='tensorflow2', named_inputs_shape=None, out_filename='/tmp/albertabeef/tensorflow_model_optimization/tmp_sub_graph_xnnc_20230424-105103-332756_IsOuqC.xmodel', proto=None)\n",
      "[INFO] tensorflow2 model: /tmp/albertabeef/tensorflow_model_optimization/tmp_sub_graph_quantized_20230424-105103-332756_IsOuqC.h5\n",
      "[INFO] keras version: 2.10.0\n",
      "[INFO] Tensorflow Keras model type: functional\n"
     ]
    },
    {
     "name": "stderr",
     "output_type": "stream",
     "text": [
      "[INFO] parse raw model     :100%|██████████████████████████████████| 4/4 [00:00<00:00, 11001.45it/s]                 \n",
      "[INFO] infer shape (NHWC)  :100%|██████████████████████████████████| 5/5 [00:00<00:00, 4293.92it/s]                  \n",
      "[INFO] perform level-0 opt :100%|██████████████████████████████████| 1/1 [00:00<00:00, 1965.47it/s]                  \n",
      "[INFO] perform level-1 opt :100%|██████████████████████████████████| 2/2 [00:00<00:00, 2177.73it/s]                  \n",
      "[INFO] generate xmodel     :100%|██████████████████████████████████| 5/5 [00:00<00:00, 180.76it/s]                   \n"
     ]
    },
    {
     "name": "stdout",
     "output_type": "stream",
     "text": [
      "[INFO] dump xmodel ...\r",
      "[INFO] dump xmodel: /tmp/albertabeef/tensorflow_model_optimization/tmp_sub_graph_xnnc_20230424-105103-332756_IsOuqC.xmodel\n"
     ]
    },
    {
     "name": "stderr",
     "output_type": "stream",
     "text": [
      "I20230424 10:51:06.939899  5824 compile_pass_manager.cpp:287] [UNILOG][INFO] Compile mode: dpu\n",
      "I20230424 10:51:06.939952  5824 compile_pass_manager.cpp:288] [UNILOG][INFO] Debug mode: null\n",
      "I20230424 10:51:06.939976  5824 compile_pass_manager.cpp:292] [UNILOG][INFO] Target architecture: DPUCZDX8G_ISA1_B512_0101000016010200\n",
      "I20230424 10:51:06.940119  5824 compile_pass_manager.cpp:357] [UNILOG][INFO] Graph name: model_63, with op num: 9\n",
      "I20230424 10:51:06.940137  5824 compile_pass_manager.cpp:370] [UNILOG][INFO] Begin to compile...\n",
      "I20230424 10:51:07.038177  5824 compile_pass_manager.cpp:381] [UNILOG][INFO] Total device subgraph number 3, DPU subgraph number 1\n",
      "I20230424 10:51:07.038203  5824 compile_pass_manager.cpp:386] [UNILOG][INFO] Compile done.\n"
     ]
    },
    {
     "name": "stdout",
     "output_type": "stream",
     "text": [
      "[INFO] Namespace(batchsize=1, inputs_shape=None, layout='NHWC', model_files=['/tmp/albertabeef/tensorflow_model_optimization/tmp_sub_graph_quantized_20230424-105103-332756_IsOuqC.h5'], model_type='tensorflow2', named_inputs_shape=None, out_filename='/tmp/albertabeef/tensorflow_model_optimization/tmp_sub_graph_xnnc_20230424-105103-332756_IsOuqC.xmodel', proto=None)\n",
      "[INFO] tensorflow2 model: /tmp/albertabeef/tensorflow_model_optimization/tmp_sub_graph_quantized_20230424-105103-332756_IsOuqC.h5\n",
      "[INFO] keras version: 2.10.0\n",
      "[INFO] Tensorflow Keras model type: functional\n"
     ]
    },
    {
     "name": "stderr",
     "output_type": "stream",
     "text": [
      "[INFO] parse raw model     :100%|██████████████████████████████████| 4/4 [00:00<00:00, 12985.46it/s]                 \n",
      "[INFO] infer shape (NHWC)  :100%|██████████████████████████████████| 7/7 [00:00<00:00, 3609.11it/s]                  \n",
      "[INFO] perform level-0 opt :100%|██████████████████████████████████| 1/1 [00:00<00:00, 1254.28it/s]                  \n",
      "[INFO] perform level-1 opt :100%|██████████████████████████████████| 2/2 [00:00<00:00, 4826.59it/s]                  \n",
      "[INFO] generate xmodel     :100%|██████████████████████████████████| 7/7 [00:00<00:00, 108.44it/s]                   "
     ]
    },
    {
     "name": "stdout",
     "output_type": "stream",
     "text": [
      "[INFO] dump xmodel ...\r",
      "[INFO] dump xmodel: /tmp/albertabeef/tensorflow_model_optimization/tmp_sub_graph_xnnc_20230424-105103-332756_IsOuqC.xmodel\n"
     ]
    },
    {
     "name": "stderr",
     "output_type": "stream",
     "text": [
      "\n",
      "I20230424 10:51:07.270829  5824 compile_pass_manager.cpp:287] [UNILOG][INFO] Compile mode: dpu\n",
      "I20230424 10:51:07.270853  5824 compile_pass_manager.cpp:288] [UNILOG][INFO] Debug mode: null\n",
      "I20230424 10:51:07.270857  5824 compile_pass_manager.cpp:292] [UNILOG][INFO] Target architecture: DPUCZDX8G_ISA1_B512_0101000016010200\n",
      "I20230424 10:51:07.270933  5824 compile_pass_manager.cpp:357] [UNILOG][INFO] Graph name: model_64, with op num: 9\n",
      "I20230424 10:51:07.270938  5824 compile_pass_manager.cpp:370] [UNILOG][INFO] Begin to compile...\n",
      "I20230424 10:51:07.337520  5824 compile_pass_manager.cpp:381] [UNILOG][INFO] Total device subgraph number 3, DPU subgraph number 1\n",
      "I20230424 10:51:07.337548  5824 compile_pass_manager.cpp:386] [UNILOG][INFO] Compile done.\n"
     ]
    },
    {
     "name": "stdout",
     "output_type": "stream",
     "text": [
      "[INFO] Namespace(batchsize=1, inputs_shape=None, layout='NHWC', model_files=['/tmp/albertabeef/tensorflow_model_optimization/tmp_sub_graph_quantized_20230424-105103-332880_UqYXEc.h5'], model_type='tensorflow2', named_inputs_shape=None, out_filename='/tmp/albertabeef/tensorflow_model_optimization/tmp_sub_graph_xnnc_20230424-105103-332880_UqYXEc.xmodel', proto=None)\n",
      "[INFO] tensorflow2 model: /tmp/albertabeef/tensorflow_model_optimization/tmp_sub_graph_quantized_20230424-105103-332880_UqYXEc.h5\n",
      "[INFO] keras version: 2.10.0\n",
      "[INFO] Tensorflow Keras model type: functional\n"
     ]
    },
    {
     "name": "stderr",
     "output_type": "stream",
     "text": [
      "[INFO] parse raw model     :100%|██████████████████████████████████| 3/3 [00:00<00:00, 9746.64it/s]                  \n",
      "[INFO] infer shape (NHWC)  :100%|██████████████████████████████████| 6/6 [00:00<00:00, 25368.77it/s]                 \n",
      "[INFO] perform level-0 opt :100%|██████████████████████████████████| 1/1 [00:00<00:00, 2136.68it/s]                  \n",
      "[INFO] perform level-1 opt :100%|██████████████████████████████████| 2/2 [00:00<00:00, 6403.52it/s]                  \n",
      "[INFO] generate xmodel     :100%|██████████████████████████████████| 6/6 [00:00<00:00, 1372.71it/s]                  "
     ]
    },
    {
     "name": "stdout",
     "output_type": "stream",
     "text": [
      "[INFO] dump xmodel ...\r",
      "[INFO] dump xmodel: /tmp/albertabeef/tensorflow_model_optimization/tmp_sub_graph_xnnc_20230424-105103-332880_UqYXEc.xmodel\n"
     ]
    },
    {
     "name": "stderr",
     "output_type": "stream",
     "text": [
      "\n",
      "I20230424 10:51:07.465862  5824 compile_pass_manager.cpp:287] [UNILOG][INFO] Compile mode: dpu\n",
      "I20230424 10:51:07.465890  5824 compile_pass_manager.cpp:288] [UNILOG][INFO] Debug mode: null\n",
      "I20230424 10:51:07.465900  5824 compile_pass_manager.cpp:292] [UNILOG][INFO] Target architecture: DPUCZDX8G_ISA1_B512_0101000016010200\n",
      "I20230424 10:51:07.465986  5824 compile_pass_manager.cpp:357] [UNILOG][INFO] Graph name: model_65, with op num: 8\n",
      "I20230424 10:51:07.465996  5824 compile_pass_manager.cpp:370] [UNILOG][INFO] Begin to compile...\n",
      "I20230424 10:51:07.478281  5824 compile_pass_manager.cpp:381] [UNILOG][INFO] Total device subgraph number 3, DPU subgraph number 1\n",
      "I20230424 10:51:07.478330  5824 compile_pass_manager.cpp:386] [UNILOG][INFO] Compile done.\n"
     ]
    },
    {
     "name": "stdout",
     "output_type": "stream",
     "text": [
      "[INFO] Namespace(batchsize=1, inputs_shape=None, layout='NHWC', model_files=['/tmp/albertabeef/tensorflow_model_optimization/tmp_sub_graph_quantized_20230424-105103-333162_wUqYuE.h5'], model_type='tensorflow2', named_inputs_shape=None, out_filename='/tmp/albertabeef/tensorflow_model_optimization/tmp_sub_graph_xnnc_20230424-105103-333162_wUqYuE.xmodel', proto=None)\n",
      "[INFO] tensorflow2 model: /tmp/albertabeef/tensorflow_model_optimization/tmp_sub_graph_quantized_20230424-105103-333162_wUqYuE.h5\n",
      "[INFO] keras version: 2.10.0\n",
      "[INFO] Tensorflow Keras model type: functional\n"
     ]
    },
    {
     "name": "stderr",
     "output_type": "stream",
     "text": [
      "[INFO] parse raw model     :100%|██████████████████████████████████| 3/3 [00:00<00:00, 6377.55it/s]                  \n",
      "[INFO] infer shape (NHWC)  :100%|██████████████████████████████████| 3/3 [00:00<00:00, 10205.12it/s]                 \n",
      "[INFO] perform level-0 opt :100%|██████████████████████████████████| 1/1 [00:00<00:00, 3151.24it/s]                  \n",
      "[INFO] perform level-1 opt :100%|██████████████████████████████████| 2/2 [00:00<00:00, 7869.24it/s]                  \n",
      "[INFO] generate xmodel     :100%|██████████████████████████████████| 3/3 [00:00<00:00, 2826.35it/s]                  "
     ]
    },
    {
     "name": "stdout",
     "output_type": "stream",
     "text": [
      "[INFO] dump xmodel ...\r",
      "[INFO] dump xmodel: /tmp/albertabeef/tensorflow_model_optimization/tmp_sub_graph_xnnc_20230424-105103-333162_wUqYuE.xmodel\n"
     ]
    },
    {
     "name": "stderr",
     "output_type": "stream",
     "text": [
      "\n",
      "I20230424 10:51:07.807456  5824 compile_pass_manager.cpp:287] [UNILOG][INFO] Compile mode: dpu\n",
      "I20230424 10:51:07.807482  5824 compile_pass_manager.cpp:288] [UNILOG][INFO] Debug mode: null\n",
      "I20230424 10:51:07.807490  5824 compile_pass_manager.cpp:292] [UNILOG][INFO] Target architecture: DPUCZDX8G_ISA1_B512_0101000016010200\n",
      "I20230424 10:51:07.807668  5824 compile_pass_manager.cpp:357] [UNILOG][INFO] Graph name: model_66, with op num: 3\n",
      "I20230424 10:51:07.807678  5824 compile_pass_manager.cpp:370] [UNILOG][INFO] Begin to compile...\n",
      "I20230424 10:51:07.812220  5824 compile_pass_manager.cpp:381] [UNILOG][INFO] Total device subgraph number 3, DPU subgraph number 1\n",
      "I20230424 10:51:07.812273  5824 compile_pass_manager.cpp:386] [UNILOG][INFO] Compile done.\n"
     ]
    },
    {
     "name": "stdout",
     "output_type": "stream",
     "text": [
      "[VAI INFO] Inspect Results:\n",
      "[MODEL INFO]:\n",
      "________________________________________________________________________________________________________________________\n",
      "Model Name: model_44\n",
      "________________________________________________________________________________________________________________________\n",
      "ID          Name                    Type                    Device      Notes                                           \n",
      "========================================================================================================================\n",
      "0/22        input_23                InputLayer              INPUT                                                       \n",
      "------------------------------------------------------------------------------------------------------------------------\n",
      "1/22        block1_conv1            Conv2D<relu>            DPU                                                         \n",
      "------------------------------------------------------------------------------------------------------------------------\n",
      "2/22        block1_conv2            Conv2D<relu>            DPU                                                         \n",
      "------------------------------------------------------------------------------------------------------------------------\n",
      "3/22        block1_pool             MaxPooling2D            DPU                                                         \n",
      "------------------------------------------------------------------------------------------------------------------------\n",
      "4/22        block2_conv1            Conv2D<relu>            DPU                                                         \n",
      "------------------------------------------------------------------------------------------------------------------------\n",
      "5/22        block2_conv2            Conv2D<relu>            DPU                                                         \n",
      "------------------------------------------------------------------------------------------------------------------------\n",
      "6/22        block2_pool             MaxPooling2D            DPU                                                         \n",
      "------------------------------------------------------------------------------------------------------------------------\n",
      "7/22        block3_conv1            Conv2D<relu>            DPU                                                         \n",
      "------------------------------------------------------------------------------------------------------------------------\n",
      "8/22        block3_conv2            Conv2D<relu>            DPU                                                         \n",
      "------------------------------------------------------------------------------------------------------------------------\n",
      "9/22        block3_conv3            Conv2D<relu>            DPU                                                         \n",
      "------------------------------------------------------------------------------------------------------------------------\n",
      "10/22       block3_pool             MaxPooling2D            DPU                                                         \n",
      "------------------------------------------------------------------------------------------------------------------------\n",
      "11/22       block4_conv1            Conv2D<relu>            DPU                                                         \n",
      "------------------------------------------------------------------------------------------------------------------------\n",
      "12/22       block4_conv2            Conv2D<relu>            DPU                                                         \n",
      "------------------------------------------------------------------------------------------------------------------------\n",
      "13/22       block4_conv3            Conv2D<relu>            DPU                                                         \n",
      "------------------------------------------------------------------------------------------------------------------------\n",
      "14/22       block4_pool             MaxPooling2D            DPU                                                         \n",
      "------------------------------------------------------------------------------------------------------------------------\n",
      "15/22       block5_conv1            Conv2D<relu>            DPU                                                         \n",
      "------------------------------------------------------------------------------------------------------------------------\n",
      "16/22       block5_conv2            Conv2D<relu>            DPU                                                         \n",
      "------------------------------------------------------------------------------------------------------------------------\n",
      "17/22       block5_conv3            Conv2D<relu>            DPU                                                         \n",
      "------------------------------------------------------------------------------------------------------------------------\n",
      "18/22       block5_pool             MaxPooling2D            DPU                                                         \n",
      "------------------------------------------------------------------------------------------------------------------------\n",
      "19/22       max_pooling2d           MaxPooling2D            DPU                                                         \n",
      "------------------------------------------------------------------------------------------------------------------------\n",
      "20/22       flatten                 Flatten                 DPU                                                         \n",
      "------------------------------------------------------------------------------------------------------------------------\n",
      "21/22       fc                      Dense<relu>             DPU                                                         \n",
      "------------------------------------------------------------------------------------------------------------------------\n",
      "22/22       predictions             Dense<softmax>          DPU+CPU     Seperate layer activation `softmax`; `softmax`  \n",
      "                                                                        is not supported by target                      \n",
      "------------------------------------------------------------------------------------------------------------------------\n",
      "========================================================================================================================\n",
      "[SUMMARY INFO]:\n",
      "- [Target Name]: 0x101000016010200\n",
      "- [Total Layers]: 23\n",
      "- [Layer Types]: InputLayer(1) Conv2D<relu>(13) MaxPooling2D(6) Flatten(1) Dense<relu>(1) Dense<softmax>(1) \n",
      "- [Partition Results]: INPUT(1) DPU(21) DPU+CPU(1) \n",
      "========================================================================================================================\n",
      "[NOTES INFO]:\n",
      "- [22/22] Layer predictions (Type:Dense<softmax>, Device:DPU+CPU):\n",
      "    * Seperate layer activation `softmax`\n",
      "    * `softmax` is not supported by target\n",
      "========================================================================================================================\n",
      "[VAI INFO] Start dumping inspected results to inspect_results.txt\n",
      "[VAI INFO] Inspected results has been dumped in: inspect_results.txt.\n",
      "[VAI INFO] Inspect Finished.\n"
     ]
    }
   ],
   "source": [
    "inspected_model = inspector.inspect_model(model)"
   ]
  },
  {
   "cell_type": "markdown",
   "id": "6c83fb5d",
   "metadata": {
    "id": "960fa33c"
   },
   "source": [
    "## 5 Conclusion"
   ]
  },
  {
   "cell_type": "markdown",
   "id": "2e844393",
   "metadata": {
    "id": "bf340f02"
   },
   "source": [
    "In this notebook, we showed how you can use Vitis-AI's **model-inspector** to ensure compatibility with the DPU architecture.  Performing this step PRIOR to training saves a lot of pain and time. "
   ]
  }
 ],
 "metadata": {
  "accelerator": "GPU",
  "colab": {
   "name": "c4_03_15a_ASL150_VGG_TransferLearn_FineTune_Conv2D_Train_Dense.ipynb",
   "provenance": []
  },
  "kernelspec": {
   "display_name": "Python 3 (ipykernel)",
   "language": "python",
   "name": "python3"
  },
  "language_info": {
   "codemirror_mode": {
    "name": "ipython",
    "version": 3
   },
   "file_extension": ".py",
   "mimetype": "text/x-python",
   "name": "python",
   "nbconvert_exporter": "python",
   "pygments_lexer": "ipython3",
   "version": "3.7.8"
  },
  "latex_envs": {
   "LaTeX_envs_menu_present": true,
   "autoclose": false,
   "autocomplete": true,
   "bibliofile": "biblio.bib",
   "cite_by": "apalike",
   "current_citInitial": 1,
   "eqLabelWithNumbers": true,
   "eqNumInitial": 1,
   "hotkeys": {
    "equation": "Ctrl-E",
    "itemize": "Ctrl-I"
   },
   "labels_anchors": false,
   "latex_user_defs": false,
   "report_style_numbering": false,
   "user_envs_cfg": false
  },
  "toc": {
   "base_numbering": 1,
   "nav_menu": {},
   "number_sections": false,
   "sideBar": true,
   "skip_h1_title": false,
   "title_cell": "Table of Contents",
   "title_sidebar": "Contents",
   "toc_cell": false,
   "toc_position": {},
   "toc_section_display": true,
   "toc_window_display": true
  },
  "varInspector": {
   "cols": {
    "lenName": 16,
    "lenType": 16,
    "lenVar": 40
   },
   "kernels_config": {
    "python": {
     "delete_cmd_postfix": "",
     "delete_cmd_prefix": "del ",
     "library": "var_list.py",
     "varRefreshCmd": "print(var_dic_list())"
    },
    "r": {
     "delete_cmd_postfix": ") ",
     "delete_cmd_prefix": "rm(",
     "library": "var_list.r",
     "varRefreshCmd": "cat(var_dic_list()) "
    }
   },
   "types_to_exclude": [
    "module",
    "function",
    "builtin_function_or_method",
    "instance",
    "_Feature"
   ],
   "window_display": false
  }
 },
 "nbformat": 4,
 "nbformat_minor": 5
}
